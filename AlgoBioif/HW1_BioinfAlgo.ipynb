{
  "nbformat": 4,
  "nbformat_minor": 0,
  "metadata": {
    "colab": {
      "provenance": []
    },
    "kernelspec": {
      "name": "python3",
      "display_name": "Python 3"
    },
    "language_info": {
      "name": "python"
    }
  },
  "cells": [
    {
      "cell_type": "markdown",
      "source": [
        "### Долгодворова Мария, Домашнее задание № 1"
      ],
      "metadata": {
        "id": "NUZ1QlH64wU0"
      }
    },
    {
      "cell_type": "markdown",
      "source": [
        "### Импорт используемых библиотек"
      ],
      "metadata": {
        "id": "r8spl53_wj1j"
      }
    },
    {
      "cell_type": "code",
      "source": [
        "# для удобного суммирования по спискам\n",
        "import math\n",
        "# для создания словарей и подсчета аминокислот\n",
        "from collections import defaultdict, Counter\n",
        "# для логарифмов\n",
        "import numpy as np\n",
        "# графики\n",
        "import plotly.graph_objects as go\n",
        "# работа с датафреймами\n",
        "import pandas as pd"
      ],
      "metadata": {
        "id": "q9A1qj9qq34d"
      },
      "execution_count": null,
      "outputs": []
    },
    {
      "cell_type": "markdown",
      "source": [
        "# Данные"
      ],
      "metadata": {
        "id": "9BzQCoKCyXwn"
      }
    },
    {
      "cell_type": "markdown",
      "source": [
        "### выбрана бактерия Chlamydia psittaci, скачаем CP002744.1"
      ],
      "metadata": {
        "id": "1xuarDROd_4L"
      }
    },
    {
      "cell_type": "markdown",
      "source": [
        "Для удобства полученный после запуска скрипта файл был добавлен на гитхаб"
      ],
      "metadata": {
        "id": "bA4iNg40yLC5"
      }
    },
    {
      "cell_type": "code",
      "source": [
        "! wget https://raw.githubusercontent.com/knapweedss/bioinfHSE/main/AlgoBioif/intergenes.fasta"
      ],
      "metadata": {
        "colab": {
          "base_uri": "https://localhost:8080/"
        },
        "id": "PyGf7_fBIGhe",
        "outputId": "e4b96e3c-4b5c-4fea-c631-7bc2cfe7ace9"
      },
      "execution_count": null,
      "outputs": [
        {
          "output_type": "stream",
          "name": "stdout",
          "text": [
            "--2024-04-18 13:49:01--  https://raw.githubusercontent.com/knapweedss/bioinfHSE/main/AlgoBioif/intergenes.fasta\n",
            "Resolving raw.githubusercontent.com (raw.githubusercontent.com)... 185.199.111.133, 185.199.110.133, 185.199.109.133, ...\n",
            "Connecting to raw.githubusercontent.com (raw.githubusercontent.com)|185.199.111.133|:443... connected.\n",
            "HTTP request sent, awaiting response... 200 OK\n",
            "Length: 165092 (161K) [text/plain]\n",
            "Saving to: ‘intergenes.fasta’\n",
            "\n",
            "intergenes.fasta    100%[===================>] 161.22K  --.-KB/s    in 0.02s   \n",
            "\n",
            "2024-04-18 13:49:01 (6.55 MB/s) - ‘intergenes.fasta’ saved [165092/165092]\n",
            "\n"
          ]
        }
      ]
    },
    {
      "cell_type": "code",
      "source": [
        "# распарсим файл\n",
        "all_sequences = [] # наши последовательности\n",
        "intergenes_cord = [] # координаты\n",
        "with open ('intergenes.fasta', encoding='UTF-8') as f:\n",
        "    File = f.readlines()\n",
        "    for line in File[1::2]:\n",
        "        all_sequences.append(line)\n",
        "    for line in File[0::2]:\n",
        "        intergenes_cord.append(line)"
      ],
      "metadata": {
        "id": "ua6g5gm6iDqX"
      },
      "execution_count": null,
      "outputs": []
    },
    {
      "cell_type": "code",
      "source": [
        "# проверим, что нет последовательности длиной меньше 20\n",
        "for s in all_sequences:\n",
        "    if len(s) < 20:\n",
        "        raise Exception('length is less than 20')\n",
        "print('All sequences are ok')"
      ],
      "metadata": {
        "colab": {
          "base_uri": "https://localhost:8080/"
        },
        "id": "Nc8zVQBvvfLM",
        "outputId": "8727b8ec-0810-4652-d04d-548ab3641263"
      },
      "execution_count": null,
      "outputs": [
        {
          "output_type": "stream",
          "name": "stdout",
          "text": [
            "All sequences are ok\n"
          ]
        }
      ]
    },
    {
      "cell_type": "code",
      "source": [
        "print('Всего последовательностей', len(all_sequences))"
      ],
      "metadata": {
        "colab": {
          "base_uri": "https://localhost:8080/"
        },
        "id": "5fGG7ESUidGg",
        "outputId": "9dc7334c-6889-4676-e9a6-1e975b258dab"
      },
      "execution_count": null,
      "outputs": [
        {
          "output_type": "stream",
          "name": "stdout",
          "text": [
            "Всего последовательностей 688\n"
          ]
        }
      ]
    },
    {
      "cell_type": "markdown",
      "source": [
        "Разобьем выборку на трейн и тест (по принципу четного и нечетного). Трейн для удобства будем хранить в строке, тк всегда работаем с частотностью на весь датасет, а тест сохраним в виде списка сток, так как в дальнейшем по такому будет удобнее считать вероятности для последовательности."
      ],
      "metadata": {
        "id": "grwYif75xHyS"
      }
    },
    {
      "cell_type": "code",
      "source": [
        "train_ = ''\n",
        "test_ = all_sequences[1::2]\n",
        "for i in all_sequences[0::2]:\n",
        "    for s in i:\n",
        "        train_ += i"
      ],
      "metadata": {
        "id": "CDSv1xWvOxCw"
      },
      "execution_count": null,
      "outputs": []
    },
    {
      "cell_type": "code",
      "source": [
        "train_ = train_.replace(\"\\n\", \"\") # чистим от символа переноса строки"
      ],
      "metadata": {
        "id": "DDNzkBU5B9IT"
      },
      "execution_count": null,
      "outputs": []
    },
    {
      "cell_type": "markdown",
      "source": [
        "# Бернуллиевская модель"
      ],
      "metadata": {
        "id": "VPgpmJHEykgH"
      }
    },
    {
      "cell_type": "code",
      "source": [
        "# считаем количество каждой буквы в трейне\n",
        "train_res = Counter(train_)\n",
        "train_res"
      ],
      "metadata": {
        "colab": {
          "base_uri": "https://localhost:8080/"
        },
        "id": "xVLzEEwd-_1t",
        "outputId": "f78eadd0-4958-46ef-d008-71f690bd9f09"
      },
      "execution_count": null,
      "outputs": [
        {
          "output_type": "execute_result",
          "data": {
            "text/plain": [
              "Counter({'c': 11680583, 'a': 19028513, 'g': 11586123, 't': 18689865})"
            ]
          },
          "metadata": {},
          "execution_count": 8
        }
      ]
    },
    {
      "cell_type": "code",
      "source": [
        "# сколько всего в трейне\n",
        "total_train = Counter(train_).total()\n",
        "total_train"
      ],
      "metadata": {
        "colab": {
          "base_uri": "https://localhost:8080/"
        },
        "id": "tHP7I0WpAwPa",
        "outputId": "f4d8e726-7043-4226-b23b-4942518d3e8d"
      },
      "execution_count": null,
      "outputs": [
        {
          "output_type": "execute_result",
          "data": {
            "text/plain": [
              "60985084"
            ]
          },
          "metadata": {},
          "execution_count": 9
        }
      ]
    },
    {
      "cell_type": "code",
      "source": [
        "prob_total = 0\n",
        "probs = []\n",
        "for i in train_res.values():\n",
        "    res = i/total_train # получаем \"вероятность нуклеотида\"\n",
        "    prob_total += (res) # для ассерта\n",
        "    probs.append(np.log(res)) # логарифмируем и внесем в список вероятностей\n",
        "if prob_total != 1:\n",
        "    raise Exception('Sum of probabilities is not 1')"
      ],
      "metadata": {
        "id": "9jpA5XxFE53n"
      },
      "execution_count": null,
      "outputs": []
    },
    {
      "cell_type": "code",
      "source": [
        "probs"
      ],
      "metadata": {
        "colab": {
          "base_uri": "https://localhost:8080/"
        },
        "id": "J6_zup3NGSIs",
        "outputId": "dd637ffd-451b-4eb9-b38e-7d401c987d0a"
      },
      "execution_count": null,
      "outputs": [
        {
          "output_type": "execute_result",
          "data": {
            "text/plain": [
              "[-1.652701419144174,\n",
              " -1.1646907712064445,\n",
              " -1.6608212208030504,\n",
              " -1.1826479113547153]"
            ]
          },
          "metadata": {},
          "execution_count": 11
        }
      ]
    },
    {
      "cell_type": "code",
      "source": [
        "# смэппим нуклеотиды и их вероятности для удобной работы в дальнейшем\n",
        "nucleotides = ['a', 'c', 't', 'g']\n",
        "nucleotide_probabilities = dict(zip(nucleotides, probs))\n",
        "nucleotide_probabilities"
      ],
      "metadata": {
        "colab": {
          "base_uri": "https://localhost:8080/"
        },
        "id": "WoaW-6w9GoFY",
        "outputId": "b89ea49f-4cee-4442-95d7-cae74d7210d0"
      },
      "execution_count": null,
      "outputs": [
        {
          "output_type": "execute_result",
          "data": {
            "text/plain": [
              "{'a': -1.652701419144174,\n",
              " 'c': -1.1646907712064445,\n",
              " 't': -1.6608212208030504,\n",
              " 'g': -1.1826479113547153}"
            ]
          },
          "metadata": {},
          "execution_count": 12
        }
      ]
    },
    {
      "cell_type": "code",
      "source": [
        "test_probs = [] # вероятности последовательностей\n",
        "for nucleo_seq in test_:\n",
        "    pr = []\n",
        "    for nucleo in nucleo_seq.replace(\"\\n\", \"\"):\n",
        "        pr.append(nucleotide_probabilities[nucleo]) # получаем вероятность для буквы\n",
        "    test_probs.append(sum(pr)) # суммируем (тк log) все вероятности для заданной последовательнрости"
      ],
      "metadata": {
        "id": "h4QrW8hyHd5Q"
      },
      "execution_count": null,
      "outputs": []
    },
    {
      "cell_type": "code",
      "source": [
        "test_probs[0:5] # посмотрим частично результат"
      ],
      "metadata": {
        "colab": {
          "base_uri": "https://localhost:8080/"
        },
        "id": "TpLDDW8zJReQ",
        "outputId": "297cf08d-a28e-480e-fa7d-b8e6d1bf246a"
      },
      "execution_count": null,
      "outputs": [
        {
          "output_type": "execute_result",
          "data": {
            "text/plain": [
              "[-85.64616540259783,\n",
              " -109.00216676141548,\n",
              " -35.863339106356406,\n",
              " -100.42948115459845,\n",
              " -294.46781093320595]"
            ]
          },
          "metadata": {},
          "execution_count": 14
        }
      ]
    },
    {
      "cell_type": "markdown",
      "source": [
        "# Марковская модель 1-го порядка"
      ],
      "metadata": {
        "id": "kClYg5l2yeq-"
      }
    },
    {
      "cell_type": "code",
      "source": [
        "def calculate_markov_probability(sequence, amino, n):\n",
        "    \"\"\"\n",
        "    Вычисляет логарифмические вероятности переходов для заданной аминокислоты\n",
        "    с учетом контекста из предыдущих n аминокислот последовательности\n",
        "\n",
        "    Params:\n",
        "        sequence (str): последовательность аминокислот (train)\n",
        "        amino (str): аминокислота, для которой рассчитывается вероятность\n",
        "        n (int): количество учитываемых предыдущих аминокислот (размер контекста)\n",
        "\n",
        "    Returns:\n",
        "        dict: Словарь, где ключи — это строки из N предыдущих аминокислот,\n",
        "                а значения — логарифмические вероятности\n",
        "                того, что после данного контекста следует указанная аминокислота amino\n",
        "    \"\"\"\n",
        "    transition_probabilities = defaultdict(lambda: defaultdict(int))\n",
        "    total_transitions = defaultdict(int)\n",
        "\n",
        "    # словарь частот переходов\n",
        "    for i in range(len(sequence) - n):\n",
        "        context = sequence[i:i+n]  # получаем последовательноость из N символов\n",
        "        next_amino_acid = sequence[i + n]\n",
        "        transition_probabilities[context][next_amino_acid] += 1\n",
        "        total_transitions[context] += 1\n",
        "\n",
        "    # считаем логарифмические вероятности переходов\n",
        "    log_probability_a_following = {}\n",
        "    for context, transitions in transition_probabilities.items():\n",
        "        if amino in transitions and transitions[amino] > 0:\n",
        "            probability = transitions[amino] / total_transitions[context]\n",
        "            log_probability_a_following[context] = math.log(probability)\n",
        "        else:\n",
        "            # Чтобы избежать логарифма от нуля применяем логарифм к малому положительному числу\n",
        "            log_probability_a_following[context] = math.log(1e-10)\n",
        "\n",
        "    return log_probability_a_following"
      ],
      "metadata": {
        "id": "KZ0AZJv0rmGP"
      },
      "execution_count": null,
      "outputs": []
    },
    {
      "cell_type": "code",
      "source": [
        "amino = 'a'\n",
        "probability_a = calculate_markov_probability(train_, amino, 1)\n",
        "for amino_acid, probability in probability_a.items():\n",
        "    print(f\"Вероятность {amino} после {amino_acid} {probability:.2f}\")"
      ],
      "metadata": {
        "colab": {
          "base_uri": "https://localhost:8080/"
        },
        "id": "SeV7yLBgXjpN",
        "outputId": "a8db5c17-7693-4748-d657-20c8a84328ae"
      },
      "execution_count": null,
      "outputs": [
        {
          "output_type": "stream",
          "name": "stdout",
          "text": [
            "Вероятность a после c -1.19\n",
            "Вероятность a после a -1.05\n",
            "Вероятность a после g -1.09\n",
            "Вероятность a после t -1.34\n"
          ]
        }
      ]
    },
    {
      "cell_type": "code",
      "source": [
        "amino = 'c'\n",
        "probability_c = calculate_markov_probability(train_, amino, 1)\n",
        "for amino_acid, probability in probability_c.items():\n",
        "    print(f\"Вероятность {amino} после {amino_acid} {probability:.2f}\")"
      ],
      "metadata": {
        "colab": {
          "base_uri": "https://localhost:8080/"
        },
        "id": "jW4fP-yEJxtR",
        "outputId": "bb1fe2e9-fea0-437a-dc40-3bf9553ab27f"
      },
      "execution_count": null,
      "outputs": [
        {
          "output_type": "stream",
          "name": "stdout",
          "text": [
            "Вероятность c после c -1.55\n",
            "Вероятность c после a -1.82\n",
            "Вероятность c после g -1.62\n",
            "Вероятность c после t -1.59\n"
          ]
        }
      ]
    },
    {
      "cell_type": "code",
      "source": [
        "amino = 'g'\n",
        "probability_g = calculate_markov_probability(train_, amino, 1)\n",
        "for amino_acid, probability in probability_g.items():\n",
        "    print(f\"Вероятность {amino} после {amino_acid} {probability:.2f}\")"
      ],
      "metadata": {
        "colab": {
          "base_uri": "https://localhost:8080/"
        },
        "id": "YE8M3NzSLgxM",
        "outputId": "add92af2-5d3d-42ce-e327-dbab8b8a925d"
      },
      "execution_count": null,
      "outputs": [
        {
          "output_type": "stream",
          "name": "stdout",
          "text": [
            "Вероятность g после c -1.96\n",
            "Вероятность g после a -1.51\n",
            "Вероятность g после g -1.56\n",
            "Вероятность g после t -1.73\n"
          ]
        }
      ]
    },
    {
      "cell_type": "code",
      "source": [
        "amino = 't'\n",
        "probability_t = calculate_markov_probability(train_, amino, 1)\n",
        "for amino_acid, probability in probability_t.items():\n",
        "    print(f\"Вероятность {amino} после {amino_acid} {probability:.2f}\")"
      ],
      "metadata": {
        "colab": {
          "base_uri": "https://localhost:8080/"
        },
        "id": "RKKwnh3mMF60",
        "outputId": "5456f0dc-7027-4321-8513-87c354459fdc"
      },
      "execution_count": null,
      "outputs": [
        {
          "output_type": "stream",
          "name": "stdout",
          "text": [
            "Вероятность t после c -1.07\n",
            "Вероятность t после a -1.32\n",
            "Вероятность t после g -1.36\n",
            "Вероятность t после t -1.04\n"
          ]
        }
      ]
    },
    {
      "cell_type": "code",
      "source": [
        "# для более удобной дальнейшей работы сделаем nested dict\n",
        "markov_probs_1 = {\n",
        "    'a': probability_a,\n",
        "    't': probability_t,\n",
        "    'g': probability_g,\n",
        "    'c': probability_c\n",
        "}\n",
        "markov_probs_1"
      ],
      "metadata": {
        "colab": {
          "base_uri": "https://localhost:8080/"
        },
        "id": "3AtDvtwCdnLx",
        "outputId": "c93cedd4-c4c8-4725-fb89-6b55ec64b19c"
      },
      "execution_count": null,
      "outputs": [
        {
          "output_type": "execute_result",
          "data": {
            "text/plain": [
              "{'a': {'c': -1.1915796215452577,\n",
              "  'a': -1.0460585658624055,\n",
              "  'g': -1.0943409579146621,\n",
              "  't': -1.335287690934545},\n",
              " 't': {'c': -1.0707274400410611,\n",
              "  'a': -1.3203292897918015,\n",
              "  'g': -1.3607007439151277,\n",
              "  't': -1.0359083779680902},\n",
              " 'g': {'c': -1.9551902868029176,\n",
              "  'a': -1.514898371063537,\n",
              "  'g': -1.5606537571135985,\n",
              "  't': -1.7289920910207022},\n",
              " 'c': {'c': -1.5513469464497778,\n",
              "  'a': -1.8213794646708985,\n",
              "  'g': -1.6156566080944759,\n",
              "  't': -1.58694045055996}}"
            ]
          },
          "metadata": {},
          "execution_count": 20
        }
      ]
    },
    {
      "cell_type": "code",
      "source": [
        "def get_probs(test, markov_probs, n, complement=False):\n",
        "    \"\"\"\n",
        "    Вычисляет вероятности последовательностей\n",
        "\n",
        "    Params:\n",
        "        test (list): список последовательностей аминокислот (test)\n",
        "        markov_probs (dict): вероятности\n",
        "        n (int): длина контекста\n",
        "        complement (bool):\n",
        "\n",
        "    Returns:\n",
        "        list: список вероятностей\n",
        "    \"\"\"\n",
        "    test_probs = []\n",
        "    for nucleo_seq in test:\n",
        "        nucleo_seq = nucleo_seq.strip() # strip чтобы убрать '\\n'\n",
        "        s = n # счетчик для индексов\n",
        "        pr = []\n",
        "        if complement:\n",
        "          nucleo_seq = nucleo_seq[::-1]\n",
        "        for nucleo in nucleo_seq[n::]:\n",
        "            pr.append(markov_probs[nucleo][nucleo_seq[s - n:s]])\n",
        "            s+=1\n",
        "        test_probs.append(sum(pr))\n",
        "    return test_probs"
      ],
      "metadata": {
        "id": "mE9-7t2knkRs"
      },
      "execution_count": null,
      "outputs": []
    },
    {
      "cell_type": "code",
      "source": [
        "probs_mark_1 = get_probs(test_, markov_probs_1, 1)\n",
        "probs_mark_1[0:5] # частичный вывод результата"
      ],
      "metadata": {
        "colab": {
          "base_uri": "https://localhost:8080/"
        },
        "id": "O_rlZotuuXOD",
        "outputId": "8d30b482-8c96-436b-e29e-9e4cbd838df7"
      },
      "execution_count": null,
      "outputs": [
        {
          "output_type": "execute_result",
          "data": {
            "text/plain": [
              "[-69.64709166789996,\n",
              " -90.32138603451821,\n",
              " -30.309408512756484,\n",
              " -84.8395770077271,\n",
              " -264.895844865861]"
            ]
          },
          "metadata": {},
          "execution_count": 22
        }
      ]
    },
    {
      "cell_type": "markdown",
      "source": [
        "# Марковская модель 2-го порядка"
      ],
      "metadata": {
        "id": "PLElkB8F0nI8"
      }
    },
    {
      "cell_type": "code",
      "source": [
        "# здесь уже не буду принтить вероятность каждой пары, довольно объемный вывод получается\n",
        "context = 2\n",
        "amino = 'a'\n",
        "probability_a = calculate_markov_probability(train_, amino, context)\n",
        "\n",
        "amino = 'c'\n",
        "probability_c = calculate_markov_probability(train_, amino, context)\n",
        "\n",
        "amino = 'g'\n",
        "probability_g = calculate_markov_probability(train_, amino, context)\n",
        "\n",
        "amino = 't'\n",
        "probability_t = calculate_markov_probability(train_, amino, context)"
      ],
      "metadata": {
        "id": "71yL0u_G0tTc"
      },
      "execution_count": null,
      "outputs": []
    },
    {
      "cell_type": "code",
      "source": [
        "markov_probs_2 = {\n",
        "    'a': probability_a,\n",
        "    't': probability_t,\n",
        "    'g': probability_g,\n",
        "    'c': probability_c\n",
        "}"
      ],
      "metadata": {
        "id": "NFVp-aQFebK9"
      },
      "execution_count": null,
      "outputs": []
    },
    {
      "cell_type": "code",
      "source": [
        "# посмотрим только вероятности для t, чтобы не засорять ноутбук принтами\n",
        "markov_probs_2['t']"
      ],
      "metadata": {
        "colab": {
          "base_uri": "https://localhost:8080/"
        },
        "id": "gRSi62org2mO",
        "outputId": "8b878aca-73d0-46c6-de7f-0d87dcfd31e5"
      },
      "execution_count": null,
      "outputs": [
        {
          "output_type": "execute_result",
          "data": {
            "text/plain": [
              "{'ca': -1.3331656514300427,\n",
              " 'aa': -1.4555089444837426,\n",
              " 'ag': -1.547429050351221,\n",
              " 'gt': -0.9615191172103548,\n",
              " 'tt': -0.9547404293540441,\n",
              " 'ta': -1.1863956129808186,\n",
              " 'ac': -1.2000835872410867,\n",
              " 'at': -1.1841793632590902,\n",
              " 'tg': -1.225294994189336,\n",
              " 'cc': -0.9978763937174736,\n",
              " 'cg': -1.2542238948831002,\n",
              " 'tc': -1.015843461513019,\n",
              " 'ct': -1.0586675039418831,\n",
              " 'ga': -1.2735285965710796,\n",
              " 'gg': -1.3420427771484955,\n",
              " 'gc': -1.0834887783961458}"
            ]
          },
          "metadata": {},
          "execution_count": 25
        }
      ]
    },
    {
      "cell_type": "code",
      "source": [
        "# посчитаем вероятности на тесте\n",
        "probs_mark_2 = get_probs(test_, markov_probs_2, 2)\n",
        "probs_mark_2[0:5] # частичный вывод результата"
      ],
      "metadata": {
        "colab": {
          "base_uri": "https://localhost:8080/"
        },
        "id": "tnS2feVKoq6I",
        "outputId": "43d72568-bc91-49c8-abf4-4c5224830aad"
      },
      "execution_count": null,
      "outputs": [
        {
          "output_type": "execute_result",
          "data": {
            "text/plain": [
              "[-67.02797496932334,\n",
              " -89.56719728390414,\n",
              " -28.277492616387583,\n",
              " -83.25920319569616,\n",
              " -265.21600712482586]"
            ]
          },
          "metadata": {},
          "execution_count": 26
        }
      ]
    },
    {
      "cell_type": "markdown",
      "source": [
        "# Марковская модель 3-го порядка"
      ],
      "metadata": {
        "id": "tmF_oot1tlME"
      }
    },
    {
      "cell_type": "code",
      "source": [
        "# здесь уже не буду принтить вероятность каждой пары, довольно объемный вывод получается\n",
        "context = 3\n",
        "amino = 'a'\n",
        "probability_a = calculate_markov_probability(train_, amino, context)\n",
        "\n",
        "amino = 'c'\n",
        "probability_c = calculate_markov_probability(train_, amino, context)\n",
        "\n",
        "amino = 'g'\n",
        "probability_g = calculate_markov_probability(train_, amino, context)\n",
        "\n",
        "amino = 't'\n",
        "probability_t = calculate_markov_probability(train_, amino, context)"
      ],
      "metadata": {
        "id": "9nmvIYXrtBZ3"
      },
      "execution_count": null,
      "outputs": []
    },
    {
      "cell_type": "code",
      "source": [
        "markov_probs_3 = {\n",
        "    'a': probability_a,\n",
        "    't': probability_t,\n",
        "    'g': probability_g,\n",
        "    'c': probability_c\n",
        "}"
      ],
      "metadata": {
        "id": "zVCGORKWtbiZ"
      },
      "execution_count": null,
      "outputs": []
    },
    {
      "cell_type": "code",
      "source": [
        "# посмотрим только вероятность для t после ctg, чтобы не засорять ноутбук принтами\n",
        "markov_probs_3['t']['ctg']"
      ],
      "metadata": {
        "colab": {
          "base_uri": "https://localhost:8080/"
        },
        "id": "wqC899hhtYsq",
        "outputId": "0ae005e0-88d6-486a-f42c-efc125cc8a59"
      },
      "execution_count": null,
      "outputs": [
        {
          "output_type": "execute_result",
          "data": {
            "text/plain": [
              "-1.2601539250057565"
            ]
          },
          "metadata": {},
          "execution_count": 29
        }
      ]
    },
    {
      "cell_type": "code",
      "source": [
        "# посчитаем вероятности на тесте\n",
        "probs_mark_3 = get_probs(test_, markov_probs_3, context)\n",
        "probs_mark_3[0:4] # частичный вывод результата"
      ],
      "metadata": {
        "colab": {
          "base_uri": "https://localhost:8080/"
        },
        "id": "WM0--c3dtfNq",
        "outputId": "25bad5c6-797a-45f1-de56-c48e9119346d"
      },
      "execution_count": null,
      "outputs": [
        {
          "output_type": "execute_result",
          "data": {
            "text/plain": [
              "[-66.62984258476665,\n",
              " -88.1684285960955,\n",
              " -26.181739117159697,\n",
              " -79.78159490796176]"
            ]
          },
          "metadata": {},
          "execution_count": 30
        }
      ]
    },
    {
      "cell_type": "markdown",
      "source": [
        "# Посмотрим на распределения вероятностей и разности суммарных логарифмов вероятностей последовательностей"
      ],
      "metadata": {
        "id": "3DPi1_sYvcqG"
      }
    },
    {
      "cell_type": "code",
      "source": [
        "len(test_)"
      ],
      "metadata": {
        "colab": {
          "base_uri": "https://localhost:8080/"
        },
        "id": "z8ODH4oE0X3B",
        "outputId": "9b57e77e-509a-4812-b70e-f035dfd0a420"
      },
      "execution_count": null,
      "outputs": [
        {
          "output_type": "execute_result",
          "data": {
            "text/plain": [
              "344"
            ]
          },
          "metadata": {},
          "execution_count": 31
        }
      ]
    },
    {
      "cell_type": "code",
      "source": [
        "import plotly.subplots as sp\n",
        "import plotly.graph_objects as go\n",
        "\n",
        "fig = sp.make_subplots(rows=2, cols=2, subplot_titles=(\"Бернулли\",\n",
        "                                                        \"Марковская модель 1-го порядка\",\n",
        "                                                        \"Марковская модель 2-го порядка\",\n",
        "                                                        \"Марковская модель 3-го порядка\"))\n",
        "\n",
        "\n",
        "bin_numb = len(test_)\n",
        "fig.add_trace(go.Histogram(x=test_probs, nbinsx=bin_numb, marker=dict(color='cornflowerblue'),\n",
        "                           name='Бернулли'), row=1, col=1)\n",
        "fig.add_trace(go.Histogram(x=probs_mark_1, nbinsx=bin_numb, marker=dict(color='#00CC96'),\n",
        "                           name='Марковская модель 1-го порядка'), row=1, col=2)\n",
        "fig.add_trace(go.Histogram(x=probs_mark_2, nbinsx=bin_numb, marker=dict(color='#DDA0DD'),\n",
        "                           name='Марковская модель 2-го порядка'), row=2, col=1)\n",
        "fig.add_trace(go.Histogram(x=probs_mark_3, nbinsx=bin_numb, marker=dict(color='#FFF5EE'),\n",
        "                           name='Марковская модель 3-го порядка'), row=2, col=2)\n",
        "\n",
        "\n",
        "fig.update_layout(\n",
        "    title='Распределения Логарифмических Вероятностей',\n",
        "    bargap=0.2,\n",
        "    template='plotly_dark',\n",
        "    autosize=True,\n",
        "    margin=dict(l=65, r=50, b=65, t=90)\n",
        ")\n",
        "\n",
        "fig.show()"
      ],
      "metadata": {
        "colab": {
          "base_uri": "https://localhost:8080/",
          "height": 542
        },
        "id": "4_TjeQ_4wmGU",
        "outputId": "3d8a2a40-7722-47e5-a71c-bed3d0a626ea"
      },
      "execution_count": null,
      "outputs": [
        {
          "output_type": "display_data",
          "data": {
            "text/html": [
              "<html>\n",
              "<head><meta charset=\"utf-8\" /></head>\n",
              "<body>\n",
              "    <div>            <script src=\"https://cdnjs.cloudflare.com/ajax/libs/mathjax/2.7.5/MathJax.js?config=TeX-AMS-MML_SVG\"></script><script type=\"text/javascript\">if (window.MathJax && window.MathJax.Hub && window.MathJax.Hub.Config) {window.MathJax.Hub.Config({SVG: {font: \"STIX-Web\"}});}</script>                <script type=\"text/javascript\">window.PlotlyConfig = {MathJaxConfig: 'local'};</script>\n",
              "        <script charset=\"utf-8\" src=\"https://cdn.plot.ly/plotly-2.24.1.min.js\"></script>                <div id=\"f0bf57da-ba66-48af-9317-682cadc73d07\" class=\"plotly-graph-div\" style=\"height:525px; width:100%;\"></div>            <script type=\"text/javascript\">                                    window.PLOTLYENV=window.PLOTLYENV || {};                                    if (document.getElementById(\"f0bf57da-ba66-48af-9317-682cadc73d07\")) {                    Plotly.newPlot(                        \"f0bf57da-ba66-48af-9317-682cadc73d07\",                        [{\"marker\":{\"color\":\"cornflowerblue\"},\"name\":\"\\u0411\\u0435\\u0440\\u043d\\u0443\\u043b\\u043b\\u0438\",\"nbinsx\":344,\"x\":[-85.64616540259783,-109.00216676141548,-35.863339106356406,-100.42948115459845,-294.46781093320595,-287.95830749790883,-74.0041772536588,-143.10041521452135,-281.51942547607064,-766.0636239980372,-860.928942185393,-70.43999391627689,-116.8736181274021,-233.42037198570733,-158.58641136203553,-179.1523854614275,-173.5341120661915,-3642.227017971027,-449.03969846182974,-68.22795950587683,-360.94535823012313,-79.86647424637368,-841.6338830462723,-1338.7083673224006,-134.83690811880055,-162.47140475539575,-33.45108034530542,-171.0141104642508,-143.52865839446088,-424.0624582835325,-100.09937831218674,-42.74744734851389,-441.9175375515478,-39.73498341800392,-165.43979626916914,-34.92323209077749,-28.385972511624388,-267.3134381902557,-159.3280882333563,-694.7796768693914,-322.48698693493816,-164.05329243315614,-227.0129543512949,-209.33694265214714,-301.5228262231309,-168.40186039991525,-172.32858923932446,-478.50697652098575,-328.28467535385306,-1309.0307933358733,-126.89928701998741,-180.52970972758936,-310.2864074440439,-287.4425023713338,-177.978128733879,-407.67391205576604,-57.41860691377441,-561.6763926317551,-293.13849858695534,-59.497327758752625,-756.9136506444764,-398.8432259339371,-665.3509669892472,-309.50791647756034,-134.1230640608986,-92.11725524892441,-61.16970385487558,-464.2753076787159,-218.86796558459992,-172.9371472578084,-31.65838992600233,-317.57635183312215,-181.156620271574,-326.6604310084256,-239.10426638929275,-324.56964907085234,-624.4757264899166,-524.7177746358564,-652.6394899544838,-101.14031968655203,-204.21304562265743,-91.14638656354046,-320.5827208310731,-278.70008091376235,-40.670444040366185,-273.0835651778988,-403.17969447332007,-402.3566997546262,-220.7846001133294,-328.22729040242365,-702.5227666076797,-75.67952054094907,-166.33442304810958,-528.1960734408909,-4641.427257001548,-814.2425054229707,-482.9580981711232,-181.93292343407347,-176.150809638738,-342.0586687089574,-70.14580535416171,-367.2919959619874,-691.9497916540736,-99.81799427972823,-1255.8003879940982,-129.39418995231017,-165.63982411947364,-318.1027353505894,-374.6761777324383,-60.609864646344775,-378.7187674266351,-210.1048546308403,-288.4970276625392,-48.61196809533419,-138.68985185323794,-505.4886462220143,-169.72937853977297,-142.51180325516353,-263.77111494917665,-145.50334285435787,-297.05394393319165,-177.17629318162858,-182.53406675317927,-120.99416726487264,-257.5912865963404,-402.7214690107592,-869.8191609400934,-587.1027619865265,-172.27643356794886,-529.3509634206274,-2307.7697858219112,-297.8893112491699,-198.111877642955,-446.11709690162274,-125.13513451638376,-34.25295423233713,-339.0860645221004,-424.73398579631004,-235.33872405126678,-384.96570544970615,-102.62820481806696,-426.0727473067979,-42.06436496041681,-31.89800196539199,-340.17576304119996,-243.76943173894702,-243.33923618704958,-354.41598361750124,-338.35184306959843,-60.325278587591484,-167.4009351470071,-1069.6368296507942,-160.100251219914,-37.07846622434663,-53.0623870278502,-526.0781997423012,-59.08926547306686,-259.52459266075994,-105.71597071761218,-56.28635701442228,-109.07547981147287,-39.41768510524891,-260.1090261093946,-80.82332708254526,-197.974426286251,-55.75899701252698,-239.0026909781042,-37.27869057499752,-167.9645209338889,-218.02650750848326,-77.1762665265253,-411.8801091026949,-87.2567851117447,-240.07759604856935,-33.08654592430017,-379.64162240434615,-100.40168667596082,-35.4095252018847,-73.02815595778335,-756.5703568859172,-81.68520327270278,-247.62261269317142,-36.13488580032548,-123.24875305552514,-61.16677499848945,-581.386820308677,-583.7705411540286,-229.51425776068498,-198.02798798976715,-323.15230868323334,-193.44823511754652,-226.48180943626735,-432.14858178175496,-159.420841125265,-93.34343102495956,-315.51531674614495,-374.5103448378388,-432.62234353311374,-253.61560589961192,-596.6871542945695,-191.2255839814733,-48.39550414136554,-393.1646039716263,-417.10207397257113,-312.87964721424083,-114.51983884523149,-65.50476636211799,-407.3081321528445,-30.70844557193402,-328.427243370927,-144.85719135352784,-344.04077204065294,-500.163276975298,-122.8448309457811,-190.95431045741296,-53.4948087185126,-31.427442240327643,-428.0797162607453,-297.5467974746926,-543.2624182650397,-187.94500843065532,-206.54047658087345,-69.71635085466662,-557.9917020463697,-80.56454658345172,-39.16062214298587,-125.59265666442528,-157.25799340731191,-516.0601060993193,-135.8308482200431,-323.9576559787071,-427.03748928192135,-84.36092726084512,-127.368872645283,-180.6437056666035,-166.1258458484336,-207.5007261559248,-62.13885500342898,-166.03558809277774,-192.72697636026626,-82.1975733256171,-115.41423257680562,-96.07943048613643,-580.8644158200285,-403.6067281214655,-560.6688704014343,-266.81285784778856,-151.77858157334143,-219.1542691801838,-124.9843700280886,-161.56619958556374,-334.97148810174605,-519.9629817510267,-102.08019365476471,-2402.534647023395,-30.767001720376676,-162.55205821992854,-174.7263642686693,-146.46410281910494,-409.8777907143856,-121.82012917473362,-69.40198139829772,-403.18110229322224,-148.58712912818598,-622.2717393840337,-82.86269857356586,-34.71957266646556,-223.18803814286142,-504.10085618464467,-128.0368884148368,-917.8050841439474,-55.23210489312538,-661.6384795405644,-75.62908419416526,-209.3128564170792,-442.612371315311,-359.7283188627171,-234.27709556537312,-120.60382907196883,-472.90924285833626,-915.8453507013506,-108.32181851711952,-34.2285948273605,-258.6860993911507,-117.99770989031416,-422.52655944434537,-191.21715267512457,-149.63818101094944,-38.010453438266666,-640.7134758547892,-256.09251335700526,-347.7262096386233,-252.27965824116654,-289.74061602666643,-185.8547327103573,-143.7625349365218,-97.08004423435473,-105.44462052398946,-128.28809366432753,-76.02777702385542,-303.9985606957501,-706.0185654569915,-102.46467413489626,-83.46313679039109,-175.7232715610792,-209.68031969447046,-497.1531925226768,-442.06732555541487,-121.63126498681743,-99.12331868153014,-93.18919312822217,-160.79360287887272,-34.98522331288118,-292.6600538953594,-286.2571628233799,-264.9864769022944,-189.51358536148413,-86.81452608259285,-291.7003123253441,-222.83505859717604,-34.031805550370635,-314.68248468896167,-370.4433957386655,-146.5385870661756,-304.3733260528356,-58.61573855683516,-110.5164020046462,-42.37502796097725,-352.4083155214552,-175.46921412476465,-105.02797055415107,-255.1964404233817,-71.8536278480875,-41.82650879263886,-151.25200095862968,-173.87846559294292,-1549.4836651312291,-972.1545868037067,-613.6134058677577,-33.019869974198635,-108.58106689870682,-428.4818848835373,-87.01892894396671,-223.60293224108818],\"type\":\"histogram\",\"xaxis\":\"x\",\"yaxis\":\"y\"},{\"marker\":{\"color\":\"#00CC96\"},\"name\":\"\\u041c\\u0430\\u0440\\u043a\\u043e\\u0432\\u0441\\u043a\\u0430\\u044f \\u043c\\u043e\\u0434\\u0435\\u043b\\u044c 1-\\u0433\\u043e \\u043f\\u043e\\u0440\\u044f\\u0434\\u043a\\u0430\",\"nbinsx\":344,\"x\":[-69.64709166789996,-90.32138603451821,-30.309408512756484,-84.8395770077271,-264.895844865861,-253.9919873057701,-62.947587572663004,-128.69710442312552,-245.3941187779354,-668.0358221667861,-757.9571131491447,-57.58419159857665,-104.99676545741521,-209.6006111885159,-131.28657194838618,-152.54378776617614,-146.36297413822098,-3396.095154556841,-403.26257231330567,-63.22393092634597,-313.11457747037383,-66.02364580233993,-721.7107817585994,-1252.2395289330445,-123.6787786065825,-144.10073400822327,-34.04957966022007,-149.10508757112433,-133.42175988294923,-370.1133217253048,-89.3381902600977,-38.33517257449795,-384.58491707702433,-32.390425893347995,-145.74233812491002,-30.908328044809544,-25.241668857243354,-228.84944820100483,-142.44568775470395,-606.6024522985748,-274.2613890122263,-140.0005575363144,-212.18639991526922,-171.2034885664055,-259.79879028087345,-143.92094983501997,-153.1254561591177,-414.856504625908,-306.3031575134954,-1185.9630181230727,-111.41750348313911,-174.51143840240667,-252.5621875041264,-251.97677234187583,-153.17415750869185,-369.45326654105577,-52.370365912700386,-493.0678481559095,-242.63481802861614,-54.259167416291426,-652.2208923309942,-346.29794289295836,-550.9722190804299,-267.09177236341077,-116.17341921697646,-81.3244119248184,-53.93797396780738,-385.56719006736176,-185.55495811098447,-151.4152779676627,-22.712609596381647,-274.1655522672259,-158.63242634285808,-289.73285732051664,-201.90813642253335,-283.63348620349643,-551.83211396981,-476.72177700004914,-620.3227691785158,-83.25515379696503,-167.70591726382395,-83.16896590382078,-302.4171322394245,-237.25571191614446,-36.75249965325591,-249.38810274748022,-343.8333407965484,-339.22058321716753,-185.53494770651272,-277.99088577478625,-628.1133973349474,-64.64901029091322,-139.9808741125745,-472.2746247140077,-4261.697513522263,-755.375601128609,-422.9007455457539,-160.91766919608014,-164.30377920681693,-294.9838916732418,-61.370685487304996,-307.83384511411157,-622.7783253801082,-93.43175288935352,-1128.7318639114878,-109.27066024450345,-145.17816058108534,-287.87217616821357,-337.1894279296648,-54.25738687871934,-329.7457822258247,-175.93791331856963,-271.1511115456592,-46.5239137890238,-129.3544943401221,-433.37194548290523,-154.92473227249266,-125.12833676257999,-226.06027393874112,-129.2519826881268,-250.6858934928883,-156.95773143956401,-147.23505454613215,-102.39820904846626,-234.1511377848708,-358.2138564498238,-761.2206984895023,-522.7832388632718,-135.03845502994628,-462.1038705816014,-2118.748587853928,-279.816384757304,-174.38144500846576,-408.72816788525853,-98.02362964458443,-29.78957377229291,-296.6920377050372,-374.6433167543779,-216.8581231229112,-316.34264745896087,-77.33582978315417,-361.0032278561665,-36.11828211513092,-31.113370900251788,-295.6101318665024,-212.1929937545561,-197.96874577155484,-307.2251331069752,-284.0476171367559,-48.13860127316571,-131.65470182906688,-944.0760589578819,-154.18054906529514,-31.175859373066025,-53.14530844304109,-470.08217646463004,-53.84299212076892,-210.4189549325354,-86.97767588680574,-43.761974573185405,-98.61052745732975,-35.17013949443479,-217.930324282479,-70.83924015126136,-172.93515629113256,-44.74229538740727,-195.5535346723481,-34.46875290243568,-147.3440357109444,-181.36665203956082,-73.48059359468894,-364.46434674016535,-80.85870488767819,-200.5877160618665,-28.04799888092792,-320.1867563352678,-86.09317532210702,-31.156122222618354,-63.377252913029,-643.2373845606785,-68.91208405131381,-210.53131619258116,-27.689747154903493,-104.62462130755394,-59.78910708214517,-497.4812991442978,-499.3922189821299,-192.45905490813792,-171.3518291980398,-282.20158343130106,-183.033242355141,-183.7080811481794,-359.9676127245542,-143.06188238094995,-76.43328414414137,-276.06377339841106,-320.2366081234103,-373.01165581209784,-228.4115498330281,-527.7383276419932,-170.57514141072318,-42.559062373046565,-345.3843879922383,-352.14152139059615,-265.1383349669783,-93.16311101934033,-62.41418430803634,-364.77850457112885,-25.0313162057607,-278.7160752129209,-136.27121626673755,-303.78056469155433,-448.8824243358821,-98.22305853183992,-183.64881268897787,-48.81005086033369,-26.261821453452438,-383.8498085752255,-246.46525418144958,-469.15150923084485,-166.08247412612255,-181.41167055929614,-60.80828522218374,-506.2216691828363,-68.61175279716458,-32.03697505831637,-111.83338842487908,-146.0790401178774,-452.5772889420511,-113.89032559293541,-285.8590772423602,-361.5496269479081,-70.62369790863094,-110.75587592829152,-147.3232938068907,-148.25531309492365,-182.58990624032214,-51.49039884936302,-152.38342824857108,-172.51752217454637,-68.89071713337383,-101.02419798597917,-93.16265388922555,-529.9063579315779,-368.52075971759376,-495.38796938623886,-240.2808715590737,-115.87204290696295,-190.38552287060062,-105.60827866996316,-133.52050439478813,-299.6342404616021,-472.44224460920066,-90.12732517931448,-2210.134369110418,-24.25455193864789,-135.4693529632352,-157.83256357489958,-132.38584137620725,-337.8510919509169,-101.78494188931614,-57.69638740449177,-340.637104627372,-132.86134734929027,-537.0119219471011,-70.63940782314805,-28.47059470100491,-195.37389748578624,-437.88165844422775,-102.93231056355098,-792.4583302232849,-45.101934918757806,-598.5718880776989,-63.423292754600496,-181.6236114355305,-395.1174207875958,-333.72559160885675,-209.2318078520614,-112.55016123772603,-404.6690498685976,-824.3794693209661,-95.52242403559013,-29.545866742945346,-225.9704063191226,-104.44776844805305,-372.05231807275845,-148.32714820372806,-139.42387509118836,-30.960182680001612,-569.7129722832955,-225.30079114754602,-319.08981103218474,-215.0267374578604,-252.20464132542133,-166.1419883417099,-124.02826610446806,-84.49599337041498,-91.57763432247654,-115.1208552918378,-62.65341540301421,-268.75123689385316,-600.0195760872685,-93.43654867176207,-71.47018358032071,-151.87923608853595,-183.77991734155438,-449.14839046742793,-394.66666134237136,-112.83837648183126,-86.96299449938817,-85.12375426297916,-131.80236666054643,-30.769566281145732,-247.91387148697487,-247.19011947614882,-234.5911519638683,-151.12382611339063,-79.1814752180939,-266.1910202661921,-192.36031288346337,-26.00333600701121,-278.06939543602016,-322.9034517810822,-109.7851861975415,-242.3787342242282,-47.23148284121487,-96.42234079542814,-40.230125475021694,-312.93640137810496,-150.50325284366113,-93.57951663979135,-223.9728376498832,-62.81966868109064,-33.10465881156704,-135.8694729623087,-144.8865754580835,-1364.0556133870562,-858.1964503487195,-546.7122836091332,-27.580645186847427,-100.28463967016738,-362.15875924708644,-79.01912379705348,-187.71700696677473],\"type\":\"histogram\",\"xaxis\":\"x2\",\"yaxis\":\"y2\"},{\"marker\":{\"color\":\"#DDA0DD\"},\"name\":\"\\u041c\\u0430\\u0440\\u043a\\u043e\\u0432\\u0441\\u043a\\u0430\\u044f \\u043c\\u043e\\u0434\\u0435\\u043b\\u044c 2-\\u0433\\u043e \\u043f\\u043e\\u0440\\u044f\\u0434\\u043a\\u0430\",\"nbinsx\":344,\"x\":[-67.02797496932334,-89.56719728390414,-28.277492616387583,-83.25920319569616,-265.21600712482586,-251.62451024505506,-62.06565011987375,-127.05745859685256,-243.32018773678152,-665.2579999229565,-755.3144843078437,-57.86385279021022,-104.11638992227881,-206.05936804728455,-130.3324000906382,-150.4484099046372,-145.54137998049222,-3374.994765002947,-401.4078441832493,-60.36693389617321,-308.45406787498473,-66.17360524188635,-725.1936619858072,-1251.9406253015432,-123.27968760814431,-143.3229881009652,-33.31626570950726,-149.4741104570496,-131.8477579748556,-365.72311963705795,-88.60653793777715,-36.43073554374784,-382.35628946751706,-31.544070737483846,-142.75500353360937,-30.56518902384367,-23.508025192366404,-229.22289195319357,-140.18482955443505,-603.157642333267,-272.633096707995,-137.77330499567128,-211.30276828517364,-171.14376117537319,-257.5722428634555,-142.24870253082403,-151.08831035926946,-409.6762236947685,-303.0422185621696,-1181.6997783462255,-108.86251736923322,-173.2470907886359,-253.0296067005059,-249.07673654040863,-152.39179768979895,-366.2345973780923,-50.49584393713386,-495.5702974362925,-241.51100547859042,-52.520143508742294,-650.1968710293975,-344.49032538046316,-551.9718230083063,-266.869545959857,-114.22643822818785,-78.78838316445129,-53.29358853767491,-383.66032586049823,-185.23707523988284,-149.56284235150406,-21.1511443022415,-275.86904885315374,-155.59774253410384,-286.1883831376189,-199.38383963727856,-282.98333040793955,-547.3792626153978,-472.3352054200499,-620.5762831179877,-82.58871008262317,-165.49622590452802,-80.52705006988784,-298.8378260932045,-235.52168600802867,-35.15292697922837,-247.6684064006388,-343.8480861760926,-335.4138840836751,-182.1076766343581,-276.4969547771589,-627.6748512044378,-62.84757971193602,-137.6798579465776,-470.78708949059546,-4248.118277341816,-752.8925131704674,-417.9954036628118,-158.89308873149474,-163.3623382391538,-292.5923008046863,-60.21592292024937,-306.64837076419724,-616.1557552723034,-91.78712074712307,-1125.6458902938045,-107.86588150031687,-145.79069898502726,-286.6658435033059,-334.6408923169936,-52.2869053523155,-324.1541180138103,-173.3391176836855,-269.3453666873532,-44.134896473955365,-127.15595473874842,-431.2851599898352,-152.82553295900186,-122.81797838105936,-227.02437826461022,-127.51700975472399,-246.90969589400862,-154.35773361443904,-142.35221711770194,-101.04754500361025,-231.58412869635532,-352.38301307217046,-758.4674303315326,-523.8220622043513,-132.24347561660014,-460.64549182245105,-2109.2638279399,-279.1720940439614,-172.15458403949583,-405.84718531073753,-98.04210751138673,-28.508562433839035,-295.23200953171147,-374.02104546963926,-214.68424795376515,-315.07031906344537,-78.59445697549829,-357.9355154732134,-35.24242941592118,-29.821167181367358,-295.00666922558526,-209.22322921303441,-197.06639194559733,-305.7716476783599,-288.0067164348842,-47.10520495439333,-133.21889185262216,-945.1244035318255,-152.49762741671924,-29.38957481011193,-51.42057123368912,-468.1786761073969,-52.644069761544024,-207.89558368649762,-84.97758559810333,-41.696320809475075,-97.50940147579514,-32.65202452215808,-215.54057070984533,-70.30159821532507,-171.55125443398182,-44.270175004172195,-194.5377146396939,-32.51260969228344,-147.00028254692793,-178.35338313254286,-71.40374982584913,-362.503647752272,-79.29692727140936,-198.87489162132206,-26.634528334297915,-320.53473634569826,-84.60548545611141,-29.748467426668533,-63.012397532594925,-638.0389181940865,-67.5862281024189,-212.1904158589967,-26.748665097579757,-103.1082201204805,-56.61634527447692,-498.10526012483194,-497.8166077388641,-192.42813648870617,-167.3923452665391,-282.01529491527344,-181.49067000900428,-182.74162698573227,-357.73199630803543,-142.56418150596235,-75.11247220035754,-274.60913228921913,-314.99918112384046,-371.02178811871124,-224.78554695678147,-523.6760164777486,-169.25598963551454,-41.60796090458501,-342.0753814655269,-351.5297013226407,-262.46933586882733,-91.98133848997814,-59.955836047007566,-365.842319996809,-23.417085453607847,-274.30569544564537,-133.8502164898979,-300.5674344707292,-444.97106355446004,-97.69742645457764,-181.07364455580156,-46.30428415374931,-24.91757953924381,-379.91960188801244,-244.1382968084557,-471.8371766932796,-164.65647983711094,-177.3373517999853,-60.15384575830638,-502.28596442997724,-67.08107002124845,-30.978629859103016,-110.47222681243233,-144.9365983157717,-454.47617259597996,-111.48883999834658,-285.2689320548243,-359.12474488291235,-70.1753127875193,-109.23445650776486,-146.23571059130978,-146.0266625098734,-179.22105066783286,-50.967626911302155,-150.74945306189053,-169.90331899759906,-68.23873335779558,-99.83418257015356,-91.62379699485373,-531.7623941985264,-366.2973995907787,-491.052697732876,-238.59073973614016,-114.6539791501681,-187.7890046694508,-105.03711794455818,-130.86550094121552,-296.50738706975847,-467.9304296859916,-88.77812772413532,-2197.4241219877676,-22.83485322283776,-133.09269962162884,-157.81040811776919,-129.20396820920163,-336.2923914703718,-102.15616382572223,-56.332641325687774,-339.45039823709266,-131.85401153804602,-532.0642726255979,-69.03874548802332,-25.849175587497335,-193.52706615755181,-435.56547305309385,-103.12833129897871,-788.3356180720723,-43.81885065808451,-594.9581190547973,-62.637786273406654,-182.59752178059168,-392.1661404529426,-330.4935941674789,-205.55913747344127,-110.25594623329678,-402.221153731182,-820.6814581263327,-93.55003935460138,-27.891264835405803,-223.9056615945521,-102.74757586644263,-372.656535378231,-148.52553101826587,-138.5882024314899,-29.336885277575817,-565.3397260080196,-220.02865567924312,-316.45411861328154,-215.19548835408358,-252.82433985980123,-166.00019478063604,-122.11806695136666,-82.98645601066526,-89.77387330297557,-113.8287115041396,-60.61014431629698,-265.9656197060769,-593.9128260237692,-92.0548082240396,-69.63177570372993,-150.8632306226921,-183.7829905247505,-444.9258954506319,-394.154505643616,-110.81814485509724,-85.1517194942495,-82.80812576513956,-131.7781558389386,-29.89708060937854,-247.5637372978289,-246.31856832335825,-229.8307909971897,-150.83318738070096,-79.18800834941472,-264.1503484041028,-188.77293304489515,-25.012998501034076,-274.48531264056345,-320.5168269666244,-108.196434072404,-245.19378527492344,-46.43972233732033,-94.83078970240129,-38.8776947055648,-309.7161840797827,-148.086836772217,-92.42198232182034,-219.91968278177055,-62.02574676424037,-32.2127195302305,-133.25328959792176,-144.22810514852117,-1362.6015222852193,-853.1159807902459,-543.0373623449738,-26.367735862274476,-99.43153869234041,-360.2355880653656,-78.60680810731131,-184.3196187770047],\"type\":\"histogram\",\"xaxis\":\"x3\",\"yaxis\":\"y3\"},{\"marker\":{\"color\":\"#FFF5EE\"},\"name\":\"\\u041c\\u0430\\u0440\\u043a\\u043e\\u0432\\u0441\\u043a\\u0430\\u044f \\u043c\\u043e\\u0434\\u0435\\u043b\\u044c 3-\\u0433\\u043e \\u043f\\u043e\\u0440\\u044f\\u0434\\u043a\\u0430\",\"nbinsx\":344,\"x\":[-66.62984258476665,-88.1684285960955,-26.181739117159697,-79.78159490796176,-264.0259779260132,-250.63491861717822,-60.62299162251642,-125.20821188431239,-239.99518647266794,-665.7592847380465,-752.3572572715387,-56.185178922226406,-103.17249353824982,-204.00608632116376,-127.56070384780374,-148.32139097746168,-145.12328773870826,-3362.143416642101,-398.461610952147,-60.29466503065249,-305.4297113479803,-64.27192518452344,-725.4600731610476,-1256.3474982523737,-121.01209828941316,-142.29916630523113,-31.932434911013704,-147.8679923774012,-131.19613911198533,-366.3399787634907,-86.30926361907554,-35.67300793455272,-383.4186791294989,-29.775636265470084,-142.903831015615,-29.900765134119027,-22.486849722764735,-228.0237170981361,-141.91613583963937,-599.1019427388162,-270.2243593333376,-137.48698287986068,-210.34478297199917,-170.73107807984718,-256.45373138583335,-139.75515001630524,-151.41466037114682,-408.71478336390487,-300.8438565105883,-1181.2741205196485,-106.2723865536415,-170.14420231831508,-249.87265824188427,-247.1305558809404,-150.6264646450163,-367.5020408312372,-50.06387339111457,-492.0578345597465,-239.07413239174383,-51.39649626005024,-652.8666443330405,-341.93449284803177,-548.755373432714,-266.1051481120378,-112.05489773529601,-78.03562822137908,-50.76607685014897,-387.04995442555344,-185.08339425310098,-146.64901070608937,-19.521897051944546,-275.3165854912832,-153.9659710564865,-286.2059707632384,-196.03402223969542,-280.6764319522002,-547.3791172352577,-474.93442857220714,-618.6933211632163,-80.97805421171289,-163.96429628024467,-79.82116430307738,-298.5057967484572,-234.1978265856093,-33.55002637818727,-244.71861818628562,-339.17734427829527,-336.51754850308856,-181.67952864616063,-275.66330627582187,-622.607962528868,-61.422068833907765,-136.50571236782594,-470.05131783706753,-4252.904446584045,-747.388069941009,-418.00396752464195,-156.44195682862625,-164.1693271657571,-291.12282450711416,-59.54340140268985,-303.6869150956013,-615.0532454862866,-91.35289230487031,-1123.0022051927124,-107.36470132431916,-145.3074987596065,-284.32977072609316,-334.3027612736922,-51.531482337665174,-321.01907887721836,-172.53963540404496,-268.7377156804081,-43.0695882786726,-125.13923268209608,-433.7122187747904,-153.7700238182052,-123.69903469433987,-225.9983769682547,-125.7755201318778,-247.15444647603417,-151.58643685415484,-142.06034687836387,-99.20081613421978,-228.40198249619408,-350.14913027482993,-754.5352758351896,-523.9480834470439,-129.7852788631207,-457.8501377029462,-2103.9127329728476,-280.16931553259667,-169.46085980903337,-406.888060605446,-97.0372275787245,-27.745184954696395,-291.9601003864685,-373.3643866210001,-214.77698724414398,-311.5639017334424,-76.94271768412258,-359.32136564250754,-33.19085976025555,-27.739851627300013,-295.3028037146799,-207.43645777779022,-197.42649791893146,-303.800421767137,-286.5683078463213,-45.892420715593836,-129.90754804800633,-943.5956755847714,-150.81590607087065,-27.403327285318273,-51.14230183482259,-467.08118950732995,-51.056012267417856,-204.57284921065215,-83.65975240569668,-40.725870047996025,-95.77047609671098,-31.248791983519038,-214.85899521440655,-66.94201630625454,-168.67532590549263,-42.05323266971112,-191.51069786622003,-30.8285026511061,-146.47600384216653,-175.28672066326212,-69.2971586386949,-362.34031229487886,-78.82533201027401,-197.55802672483216,-26.18717830636969,-319.82221359628767,-82.4865704094633,-29.349432060208215,-61.3886496762324,-638.0556111947097,-66.84811232520678,-212.90831494076656,-25.03330284576781,-101.78362244140668,-54.16141587927084,-494.58240785049753,-494.7323877021132,-192.48936402135152,-165.38761829967086,-277.8891327448185,-179.90075971138836,-180.1423992468401,-356.92748434164827,-140.6401534499506,-73.42383912441561,-274.35679447777443,-313.63160157317776,-367.67429013760244,-224.06187517300845,-520.7667970247281,-167.80033901771984,-39.71111249703656,-345.7539603408303,-350.89785134237644,-261.8314667241827,-90.33744321372365,-59.67300868990757,-365.2028696547527,-22.609151669855567,-273.59538210167506,-133.22723058491823,-301.30790038052567,-445.42510599453124,-97.26900521654372,-179.47014346305465,-44.833157459058164,-22.82260212339158,-377.16749481591546,-243.63868428510503,-469.7758954330677,-162.59928416905913,-174.9941621007656,-59.589372923324454,-501.53835125931505,-65.95354484327814,-29.252947907937518,-108.60773998968864,-143.24308505057,-454.0116707938802,-107.98809387873881,-282.54441903466056,-357.7090362612361,-68.62779577030457,-106.34280596617697,-144.00467258479668,-143.87455460765122,-178.7711455556545,-50.37068715219949,-148.88520304144058,-169.66070233502853,-67.33749549014419,-99.0058234423105,-91.53444145744511,-528.3770167764864,-363.5942086064199,-493.5927345812291,-237.93162631792046,-111.95954771969205,-186.77987000906887,-103.99110860547788,-129.7924521080838,-296.00140839377497,-465.1288684042138,-87.75649427843284,-2194.524669349618,-21.947340701315586,-132.93090749669344,-155.18878764037873,-127.07780205452863,-332.85902559526573,-100.18499374557285,-54.62305225658903,-334.76535477390644,-130.77035642350907,-533.5675858271381,-68.93231822321724,-24.24916993384098,-190.19942094618622,-437.0157723528928,-100.8891738087598,-787.49556808108,-42.501763528774624,-598.3449754595398,-61.330203447749994,-182.1570581426801,-392.6524461923934,-332.88105279657674,-203.74052406504086,-108.92333157737353,-400.87440029826917,-813.9200164345309,-92.58758365733276,-24.99956362287579,-221.92385036345868,-101.15052615417508,-372.96527388848085,-146.63101718363248,-137.81608422948568,-27.556637118058493,-560.9260396185005,-218.8054157198626,-317.90562140366796,-215.22954446222914,-253.57330951976022,-164.04884225883333,-120.87600930330119,-81.6525799131056,-89.23438771533395,-111.87282544794012,-59.15742469376095,-264.99970115753285,-592.0368419712637,-90.71440972790705,-69.69285851818452,-151.01630807643588,-181.12884076786528,-443.3569870914824,-394.5221560025915,-110.41147500560531,-85.10110893710866,-80.60223427249433,-130.24090473770997,-28.135209327384445,-244.75870561952857,-244.6251588284622,-229.000150795291,-150.74087257574647,-79.16387112538408,-264.51649075631025,-189.07184975066045,-24.426717858830933,-274.6320291264563,-320.6410689215713,-105.3239532983656,-246.41221055451902,-45.32954968056196,-95.45191555782061,-37.63810328371227,-308.4163161504821,-147.4183751316754,-91.16880242618328,-216.28816351224086,-60.073929127811326,-30.043287187361326,-134.19357901997654,-141.97729931944366,-1361.8850463431104,-849.4544307601144,-542.9153692993162,-24.600066641489903,-98.42417934305014,-360.60888689332205,-76.82918891604676,-184.17113018494513],\"type\":\"histogram\",\"xaxis\":\"x4\",\"yaxis\":\"y4\"}],                        {\"template\":{\"data\":{\"barpolar\":[{\"marker\":{\"line\":{\"color\":\"rgb(17,17,17)\",\"width\":0.5},\"pattern\":{\"fillmode\":\"overlay\",\"size\":10,\"solidity\":0.2}},\"type\":\"barpolar\"}],\"bar\":[{\"error_x\":{\"color\":\"#f2f5fa\"},\"error_y\":{\"color\":\"#f2f5fa\"},\"marker\":{\"line\":{\"color\":\"rgb(17,17,17)\",\"width\":0.5},\"pattern\":{\"fillmode\":\"overlay\",\"size\":10,\"solidity\":0.2}},\"type\":\"bar\"}],\"carpet\":[{\"aaxis\":{\"endlinecolor\":\"#A2B1C6\",\"gridcolor\":\"#506784\",\"linecolor\":\"#506784\",\"minorgridcolor\":\"#506784\",\"startlinecolor\":\"#A2B1C6\"},\"baxis\":{\"endlinecolor\":\"#A2B1C6\",\"gridcolor\":\"#506784\",\"linecolor\":\"#506784\",\"minorgridcolor\":\"#506784\",\"startlinecolor\":\"#A2B1C6\"},\"type\":\"carpet\"}],\"choropleth\":[{\"colorbar\":{\"outlinewidth\":0,\"ticks\":\"\"},\"type\":\"choropleth\"}],\"contourcarpet\":[{\"colorbar\":{\"outlinewidth\":0,\"ticks\":\"\"},\"type\":\"contourcarpet\"}],\"contour\":[{\"colorbar\":{\"outlinewidth\":0,\"ticks\":\"\"},\"colorscale\":[[0.0,\"#0d0887\"],[0.1111111111111111,\"#46039f\"],[0.2222222222222222,\"#7201a8\"],[0.3333333333333333,\"#9c179e\"],[0.4444444444444444,\"#bd3786\"],[0.5555555555555556,\"#d8576b\"],[0.6666666666666666,\"#ed7953\"],[0.7777777777777778,\"#fb9f3a\"],[0.8888888888888888,\"#fdca26\"],[1.0,\"#f0f921\"]],\"type\":\"contour\"}],\"heatmapgl\":[{\"colorbar\":{\"outlinewidth\":0,\"ticks\":\"\"},\"colorscale\":[[0.0,\"#0d0887\"],[0.1111111111111111,\"#46039f\"],[0.2222222222222222,\"#7201a8\"],[0.3333333333333333,\"#9c179e\"],[0.4444444444444444,\"#bd3786\"],[0.5555555555555556,\"#d8576b\"],[0.6666666666666666,\"#ed7953\"],[0.7777777777777778,\"#fb9f3a\"],[0.8888888888888888,\"#fdca26\"],[1.0,\"#f0f921\"]],\"type\":\"heatmapgl\"}],\"heatmap\":[{\"colorbar\":{\"outlinewidth\":0,\"ticks\":\"\"},\"colorscale\":[[0.0,\"#0d0887\"],[0.1111111111111111,\"#46039f\"],[0.2222222222222222,\"#7201a8\"],[0.3333333333333333,\"#9c179e\"],[0.4444444444444444,\"#bd3786\"],[0.5555555555555556,\"#d8576b\"],[0.6666666666666666,\"#ed7953\"],[0.7777777777777778,\"#fb9f3a\"],[0.8888888888888888,\"#fdca26\"],[1.0,\"#f0f921\"]],\"type\":\"heatmap\"}],\"histogram2dcontour\":[{\"colorbar\":{\"outlinewidth\":0,\"ticks\":\"\"},\"colorscale\":[[0.0,\"#0d0887\"],[0.1111111111111111,\"#46039f\"],[0.2222222222222222,\"#7201a8\"],[0.3333333333333333,\"#9c179e\"],[0.4444444444444444,\"#bd3786\"],[0.5555555555555556,\"#d8576b\"],[0.6666666666666666,\"#ed7953\"],[0.7777777777777778,\"#fb9f3a\"],[0.8888888888888888,\"#fdca26\"],[1.0,\"#f0f921\"]],\"type\":\"histogram2dcontour\"}],\"histogram2d\":[{\"colorbar\":{\"outlinewidth\":0,\"ticks\":\"\"},\"colorscale\":[[0.0,\"#0d0887\"],[0.1111111111111111,\"#46039f\"],[0.2222222222222222,\"#7201a8\"],[0.3333333333333333,\"#9c179e\"],[0.4444444444444444,\"#bd3786\"],[0.5555555555555556,\"#d8576b\"],[0.6666666666666666,\"#ed7953\"],[0.7777777777777778,\"#fb9f3a\"],[0.8888888888888888,\"#fdca26\"],[1.0,\"#f0f921\"]],\"type\":\"histogram2d\"}],\"histogram\":[{\"marker\":{\"pattern\":{\"fillmode\":\"overlay\",\"size\":10,\"solidity\":0.2}},\"type\":\"histogram\"}],\"mesh3d\":[{\"colorbar\":{\"outlinewidth\":0,\"ticks\":\"\"},\"type\":\"mesh3d\"}],\"parcoords\":[{\"line\":{\"colorbar\":{\"outlinewidth\":0,\"ticks\":\"\"}},\"type\":\"parcoords\"}],\"pie\":[{\"automargin\":true,\"type\":\"pie\"}],\"scatter3d\":[{\"line\":{\"colorbar\":{\"outlinewidth\":0,\"ticks\":\"\"}},\"marker\":{\"colorbar\":{\"outlinewidth\":0,\"ticks\":\"\"}},\"type\":\"scatter3d\"}],\"scattercarpet\":[{\"marker\":{\"colorbar\":{\"outlinewidth\":0,\"ticks\":\"\"}},\"type\":\"scattercarpet\"}],\"scattergeo\":[{\"marker\":{\"colorbar\":{\"outlinewidth\":0,\"ticks\":\"\"}},\"type\":\"scattergeo\"}],\"scattergl\":[{\"marker\":{\"line\":{\"color\":\"#283442\"}},\"type\":\"scattergl\"}],\"scattermapbox\":[{\"marker\":{\"colorbar\":{\"outlinewidth\":0,\"ticks\":\"\"}},\"type\":\"scattermapbox\"}],\"scatterpolargl\":[{\"marker\":{\"colorbar\":{\"outlinewidth\":0,\"ticks\":\"\"}},\"type\":\"scatterpolargl\"}],\"scatterpolar\":[{\"marker\":{\"colorbar\":{\"outlinewidth\":0,\"ticks\":\"\"}},\"type\":\"scatterpolar\"}],\"scatter\":[{\"marker\":{\"line\":{\"color\":\"#283442\"}},\"type\":\"scatter\"}],\"scatterternary\":[{\"marker\":{\"colorbar\":{\"outlinewidth\":0,\"ticks\":\"\"}},\"type\":\"scatterternary\"}],\"surface\":[{\"colorbar\":{\"outlinewidth\":0,\"ticks\":\"\"},\"colorscale\":[[0.0,\"#0d0887\"],[0.1111111111111111,\"#46039f\"],[0.2222222222222222,\"#7201a8\"],[0.3333333333333333,\"#9c179e\"],[0.4444444444444444,\"#bd3786\"],[0.5555555555555556,\"#d8576b\"],[0.6666666666666666,\"#ed7953\"],[0.7777777777777778,\"#fb9f3a\"],[0.8888888888888888,\"#fdca26\"],[1.0,\"#f0f921\"]],\"type\":\"surface\"}],\"table\":[{\"cells\":{\"fill\":{\"color\":\"#506784\"},\"line\":{\"color\":\"rgb(17,17,17)\"}},\"header\":{\"fill\":{\"color\":\"#2a3f5f\"},\"line\":{\"color\":\"rgb(17,17,17)\"}},\"type\":\"table\"}]},\"layout\":{\"annotationdefaults\":{\"arrowcolor\":\"#f2f5fa\",\"arrowhead\":0,\"arrowwidth\":1},\"autotypenumbers\":\"strict\",\"coloraxis\":{\"colorbar\":{\"outlinewidth\":0,\"ticks\":\"\"}},\"colorscale\":{\"diverging\":[[0,\"#8e0152\"],[0.1,\"#c51b7d\"],[0.2,\"#de77ae\"],[0.3,\"#f1b6da\"],[0.4,\"#fde0ef\"],[0.5,\"#f7f7f7\"],[0.6,\"#e6f5d0\"],[0.7,\"#b8e186\"],[0.8,\"#7fbc41\"],[0.9,\"#4d9221\"],[1,\"#276419\"]],\"sequential\":[[0.0,\"#0d0887\"],[0.1111111111111111,\"#46039f\"],[0.2222222222222222,\"#7201a8\"],[0.3333333333333333,\"#9c179e\"],[0.4444444444444444,\"#bd3786\"],[0.5555555555555556,\"#d8576b\"],[0.6666666666666666,\"#ed7953\"],[0.7777777777777778,\"#fb9f3a\"],[0.8888888888888888,\"#fdca26\"],[1.0,\"#f0f921\"]],\"sequentialminus\":[[0.0,\"#0d0887\"],[0.1111111111111111,\"#46039f\"],[0.2222222222222222,\"#7201a8\"],[0.3333333333333333,\"#9c179e\"],[0.4444444444444444,\"#bd3786\"],[0.5555555555555556,\"#d8576b\"],[0.6666666666666666,\"#ed7953\"],[0.7777777777777778,\"#fb9f3a\"],[0.8888888888888888,\"#fdca26\"],[1.0,\"#f0f921\"]]},\"colorway\":[\"#636efa\",\"#EF553B\",\"#00cc96\",\"#ab63fa\",\"#FFA15A\",\"#19d3f3\",\"#FF6692\",\"#B6E880\",\"#FF97FF\",\"#FECB52\"],\"font\":{\"color\":\"#f2f5fa\"},\"geo\":{\"bgcolor\":\"rgb(17,17,17)\",\"lakecolor\":\"rgb(17,17,17)\",\"landcolor\":\"rgb(17,17,17)\",\"showlakes\":true,\"showland\":true,\"subunitcolor\":\"#506784\"},\"hoverlabel\":{\"align\":\"left\"},\"hovermode\":\"closest\",\"mapbox\":{\"style\":\"dark\"},\"paper_bgcolor\":\"rgb(17,17,17)\",\"plot_bgcolor\":\"rgb(17,17,17)\",\"polar\":{\"angularaxis\":{\"gridcolor\":\"#506784\",\"linecolor\":\"#506784\",\"ticks\":\"\"},\"bgcolor\":\"rgb(17,17,17)\",\"radialaxis\":{\"gridcolor\":\"#506784\",\"linecolor\":\"#506784\",\"ticks\":\"\"}},\"scene\":{\"xaxis\":{\"backgroundcolor\":\"rgb(17,17,17)\",\"gridcolor\":\"#506784\",\"gridwidth\":2,\"linecolor\":\"#506784\",\"showbackground\":true,\"ticks\":\"\",\"zerolinecolor\":\"#C8D4E3\"},\"yaxis\":{\"backgroundcolor\":\"rgb(17,17,17)\",\"gridcolor\":\"#506784\",\"gridwidth\":2,\"linecolor\":\"#506784\",\"showbackground\":true,\"ticks\":\"\",\"zerolinecolor\":\"#C8D4E3\"},\"zaxis\":{\"backgroundcolor\":\"rgb(17,17,17)\",\"gridcolor\":\"#506784\",\"gridwidth\":2,\"linecolor\":\"#506784\",\"showbackground\":true,\"ticks\":\"\",\"zerolinecolor\":\"#C8D4E3\"}},\"shapedefaults\":{\"line\":{\"color\":\"#f2f5fa\"}},\"sliderdefaults\":{\"bgcolor\":\"#C8D4E3\",\"bordercolor\":\"rgb(17,17,17)\",\"borderwidth\":1,\"tickwidth\":0},\"ternary\":{\"aaxis\":{\"gridcolor\":\"#506784\",\"linecolor\":\"#506784\",\"ticks\":\"\"},\"baxis\":{\"gridcolor\":\"#506784\",\"linecolor\":\"#506784\",\"ticks\":\"\"},\"bgcolor\":\"rgb(17,17,17)\",\"caxis\":{\"gridcolor\":\"#506784\",\"linecolor\":\"#506784\",\"ticks\":\"\"}},\"title\":{\"x\":0.05},\"updatemenudefaults\":{\"bgcolor\":\"#506784\",\"borderwidth\":0},\"xaxis\":{\"automargin\":true,\"gridcolor\":\"#283442\",\"linecolor\":\"#506784\",\"ticks\":\"\",\"title\":{\"standoff\":15},\"zerolinecolor\":\"#283442\",\"zerolinewidth\":2},\"yaxis\":{\"automargin\":true,\"gridcolor\":\"#283442\",\"linecolor\":\"#506784\",\"ticks\":\"\",\"title\":{\"standoff\":15},\"zerolinecolor\":\"#283442\",\"zerolinewidth\":2}}},\"xaxis\":{\"anchor\":\"y\",\"domain\":[0.0,0.45]},\"yaxis\":{\"anchor\":\"x\",\"domain\":[0.625,1.0]},\"xaxis2\":{\"anchor\":\"y2\",\"domain\":[0.55,1.0]},\"yaxis2\":{\"anchor\":\"x2\",\"domain\":[0.625,1.0]},\"xaxis3\":{\"anchor\":\"y3\",\"domain\":[0.0,0.45]},\"yaxis3\":{\"anchor\":\"x3\",\"domain\":[0.0,0.375]},\"xaxis4\":{\"anchor\":\"y4\",\"domain\":[0.55,1.0]},\"yaxis4\":{\"anchor\":\"x4\",\"domain\":[0.0,0.375]},\"annotations\":[{\"font\":{\"size\":16},\"showarrow\":false,\"text\":\"\\u0411\\u0435\\u0440\\u043d\\u0443\\u043b\\u043b\\u0438\",\"x\":0.225,\"xanchor\":\"center\",\"xref\":\"paper\",\"y\":1.0,\"yanchor\":\"bottom\",\"yref\":\"paper\"},{\"font\":{\"size\":16},\"showarrow\":false,\"text\":\"\\u041c\\u0430\\u0440\\u043a\\u043e\\u0432\\u0441\\u043a\\u0430\\u044f \\u043c\\u043e\\u0434\\u0435\\u043b\\u044c 1-\\u0433\\u043e \\u043f\\u043e\\u0440\\u044f\\u0434\\u043a\\u0430\",\"x\":0.775,\"xanchor\":\"center\",\"xref\":\"paper\",\"y\":1.0,\"yanchor\":\"bottom\",\"yref\":\"paper\"},{\"font\":{\"size\":16},\"showarrow\":false,\"text\":\"\\u041c\\u0430\\u0440\\u043a\\u043e\\u0432\\u0441\\u043a\\u0430\\u044f \\u043c\\u043e\\u0434\\u0435\\u043b\\u044c 2-\\u0433\\u043e \\u043f\\u043e\\u0440\\u044f\\u0434\\u043a\\u0430\",\"x\":0.225,\"xanchor\":\"center\",\"xref\":\"paper\",\"y\":0.375,\"yanchor\":\"bottom\",\"yref\":\"paper\"},{\"font\":{\"size\":16},\"showarrow\":false,\"text\":\"\\u041c\\u0430\\u0440\\u043a\\u043e\\u0432\\u0441\\u043a\\u0430\\u044f \\u043c\\u043e\\u0434\\u0435\\u043b\\u044c 3-\\u0433\\u043e \\u043f\\u043e\\u0440\\u044f\\u0434\\u043a\\u0430\",\"x\":0.775,\"xanchor\":\"center\",\"xref\":\"paper\",\"y\":0.375,\"yanchor\":\"bottom\",\"yref\":\"paper\"}],\"margin\":{\"l\":65,\"r\":50,\"b\":65,\"t\":90},\"title\":{\"text\":\"\\u0420\\u0430\\u0441\\u043f\\u0440\\u0435\\u0434\\u0435\\u043b\\u0435\\u043d\\u0438\\u044f \\u041b\\u043e\\u0433\\u0430\\u0440\\u0438\\u0444\\u043c\\u0438\\u0447\\u0435\\u0441\\u043a\\u0438\\u0445 \\u0412\\u0435\\u0440\\u043e\\u044f\\u0442\\u043d\\u043e\\u0441\\u0442\\u0435\\u0439\"},\"bargap\":0.2,\"autosize\":true},                        {\"responsive\": true}                    ).then(function(){\n",
              "                            \n",
              "var gd = document.getElementById('f0bf57da-ba66-48af-9317-682cadc73d07');\n",
              "var x = new MutationObserver(function (mutations, observer) {{\n",
              "        var display = window.getComputedStyle(gd).display;\n",
              "        if (!display || display === 'none') {{\n",
              "            console.log([gd, 'removed!']);\n",
              "            Plotly.purge(gd);\n",
              "            observer.disconnect();\n",
              "        }}\n",
              "}});\n",
              "\n",
              "// Listen for the removal of the full notebook cells\n",
              "var notebookContainer = gd.closest('#notebook-container');\n",
              "if (notebookContainer) {{\n",
              "    x.observe(notebookContainer, {childList: true});\n",
              "}}\n",
              "\n",
              "// Listen for the clearing of the current output cell\n",
              "var outputEl = gd.closest('.output');\n",
              "if (outputEl) {{\n",
              "    x.observe(outputEl, {childList: true});\n",
              "}}\n",
              "\n",
              "                        })                };                            </script>        </div>\n",
              "</body>\n",
              "</html>"
            ]
          },
          "metadata": {}
        }
      ]
    },
    {
      "cell_type": "code",
      "source": [
        "def calculate_prob_diff(probs_markov_1, probs_markov_2, probs_markov_3, bernoulli_probs):\n",
        "    # сделаем numpy массивы\n",
        "    probs_markov_1 = np.array(probs_markov_1)\n",
        "    probs_markov_2 = np.array(probs_markov_2)\n",
        "    probs_markov_3 = np.array(probs_markov_3)\n",
        "    bernoulli_probs = np.array(bernoulli_probs)\n",
        "\n",
        "    # суммарные вероятности для каждой модели\n",
        "    sum_markov_1 = np.sum(np.exp(probs_markov_1))\n",
        "    sum_markov_2 = np.sum(np.exp(probs_markov_2))\n",
        "    sum_markov_3 = np.sum(np.exp(probs_markov_3))\n",
        "    sum_bernoulli = np.sum(np.exp(bernoulli_probs))\n",
        "\n",
        "    # разность суммарных вероятностей для каждой пары моделей\n",
        "    diff_markov_1_markov_2 = sum_markov_1 - sum_markov_2\n",
        "    diff_markov_1_markov_3 = sum_markov_1 - sum_markov_3\n",
        "    diff_markov_2_markov_3 = sum_markov_2 - sum_markov_3\n",
        "    diff_bernoulli_markov_1 = sum_bernoulli - sum_markov_1\n",
        "    diff_bernoulli_markov_2 = sum_bernoulli - sum_markov_2\n",
        "    diff_bernoulli_markov_3 = sum_bernoulli - sum_markov_3\n",
        "\n",
        "    return diff_markov_1_markov_2, diff_markov_1_markov_3, diff_markov_2_markov_3, diff_bernoulli_markov_1, diff_bernoulli_markov_2, diff_bernoulli_markov_3"
      ],
      "metadata": {
        "id": "RH81YmoB77_W"
      },
      "execution_count": null,
      "outputs": []
    },
    {
      "cell_type": "code",
      "source": [
        "diff_markov_1_markov_2, diff_markov_1_markov_3, diff_markov_2_markov_3, diff_bernoulli_markov_1, diff_bernoulli_markov_2, diff_bernoulli_markov_3 = calculate_prob_diff(probs_mark_1, probs_mark_2, probs_mark_3, test_probs)\n",
        "\n",
        "print(\"Разность суммарных вероятностей последовательностей между моделями:\")\n",
        "print(f\"Марковская модель 1-го порядка и 2-го порядка: {diff_markov_1_markov_2}\")\n",
        "print(f\"Марковская модель 1-го порядка и 3-го порядка: {diff_markov_1_markov_3}\")\n",
        "print(f\"Марковская модель 2-го порядка и 3-го порядка: {diff_markov_2_markov_3}\")\n",
        "print(f\"Бернулли и Марковская модель 1-го порядка : {diff_bernoulli_markov_1}\")\n",
        "print(f\"Бернулли и Марковская модель 2-го порядка : {diff_bernoulli_markov_2}\")\n",
        "print(f\"Бернулли и Марковская модель 3-го порядка : {diff_bernoulli_markov_3}\")"
      ],
      "metadata": {
        "colab": {
          "base_uri": "https://localhost:8080/"
        },
        "id": "WUT3CDBZ_j4Z",
        "outputId": "88b9fd24-810e-4369-9f34-eb450caab5e4"
      },
      "execution_count": null,
      "outputs": [
        {
          "output_type": "stream",
          "name": "stdout",
          "text": [
            "Разность суммарных вероятностей последовательностей между моделями:\n",
            "Марковская модель 1-го порядка и 2-го порядка: -7.451385596844643e-10\n",
            "Марковская модель 1-го порядка и 3-го порядка: -3.977366998723986e-09\n",
            "Марковская модель 2-го порядка и 3-го порядка: -3.2322284390395223e-09\n",
            "Бернулли и Марковская модель 1-го порядка : -2.0246120504976867e-10\n",
            "Бернулли и Марковская модель 2-го порядка : -9.47599764734233e-10\n",
            "Бернулли и Марковская модель 3-го порядка : -4.179828203773755e-09\n"
          ]
        }
      ]
    },
    {
      "cell_type": "markdown",
      "source": [
        "# Проверим на комплементарных последовательностях"
      ],
      "metadata": {
        "id": "uekmd5P27DN8"
      }
    },
    {
      "cell_type": "markdown",
      "source": [
        "Для марковских моделей (передаем флаг True, чтобы считалось по реверснутой последовательности)"
      ],
      "metadata": {
        "id": "pWYLkACU_5oO"
      }
    },
    {
      "cell_type": "code",
      "source": [
        "probs_mark_1_compl = get_probs(test_, markov_probs_1, 1, True)\n",
        "probs_mark_1_compl[0:5]"
      ],
      "metadata": {
        "colab": {
          "base_uri": "https://localhost:8080/"
        },
        "id": "yIgpUikl7HJA",
        "outputId": "404e61ae-429a-4f88-b035-2b5cdc79080a"
      },
      "execution_count": null,
      "outputs": [
        {
          "output_type": "execute_result",
          "data": {
            "text/plain": [
              "[-69.52760113467062,\n",
              " -89.9774343272887,\n",
              " -30.470516844672275,\n",
              " -85.33608705036903,\n",
              " -264.9048995663811]"
            ]
          },
          "metadata": {},
          "execution_count": 36
        }
      ]
    },
    {
      "cell_type": "code",
      "source": [
        "probs_mark_2_compl = get_probs(test_, markov_probs_2, 2, True)\n",
        "probs_mark_2_compl[0:5]"
      ],
      "metadata": {
        "colab": {
          "base_uri": "https://localhost:8080/"
        },
        "id": "P5qebs3x9VAP",
        "outputId": "3d7ea86c-aae9-4a10-b91a-dba575fd53e3"
      },
      "execution_count": null,
      "outputs": [
        {
          "output_type": "execute_result",
          "data": {
            "text/plain": [
              "[-67.78200360104096,\n",
              " -88.4543268983937,\n",
              " -29.081550849255354,\n",
              " -82.30192784130966,\n",
              " -262.84673312275396]"
            ]
          },
          "metadata": {},
          "execution_count": 37
        }
      ]
    },
    {
      "cell_type": "code",
      "source": [
        "probs_mark_3_compl = get_probs(test_, markov_probs_3, 3, True)\n",
        "probs_mark_3_compl[0:5]"
      ],
      "metadata": {
        "colab": {
          "base_uri": "https://localhost:8080/"
        },
        "id": "pQVUmd4y9VgE",
        "outputId": "e2880ff3-8297-4675-9537-e3522051d80a"
      },
      "execution_count": null,
      "outputs": [
        {
          "output_type": "execute_result",
          "data": {
            "text/plain": [
              "[-67.41843664123355,\n",
              " -86.82654320941535,\n",
              " -28.385644064215196,\n",
              " -80.84918497863491,\n",
              " -263.47206154379455]"
            ]
          },
          "metadata": {},
          "execution_count": 38
        }
      ]
    },
    {
      "cell_type": "markdown",
      "source": [
        "Для Бернулли:"
      ],
      "metadata": {
        "id": "iqQpkmag_8bw"
      }
    },
    {
      "cell_type": "markdown",
      "source": [
        "Просто по первым значениям видим, что полученные вероятности схожи"
      ],
      "metadata": {
        "id": "w-WSAENH-umf"
      }
    },
    {
      "cell_type": "code",
      "source": [
        "test_probs_compl = [] # вероятности последовательностей\n",
        "for nucleo_seq in test_:\n",
        "    pr = []\n",
        "    for nucleo in nucleo_seq.replace(\"\\n\", \"\")[::-1]:\n",
        "        pr.append(nucleotide_probabilities[nucleo]) # получаем вероятность для буквы\n",
        "    test_probs_compl.append(sum(pr)) # суммируем (тк log) все вероятности для заданной последовательнрости\n",
        "test_probs_compl[0:5]"
      ],
      "metadata": {
        "colab": {
          "base_uri": "https://localhost:8080/"
        },
        "id": "oipb6SraASlH",
        "outputId": "88b641a0-757c-4ea1-b155-361834068227"
      },
      "execution_count": null,
      "outputs": [
        {
          "output_type": "execute_result",
          "data": {
            "text/plain": [
              "[-85.6461654025979,\n",
              " -109.00216676141555,\n",
              " -35.8633391063564,\n",
              " -100.42948115459848,\n",
              " -294.46781093320567]"
            ]
          },
          "metadata": {},
          "execution_count": 39
        }
      ]
    },
    {
      "cell_type": "markdown",
      "source": [
        "Чтобы убедиться, что вероятности для всех комплементарных последовательностей близки, можно сравнить, используя уже посчитанную разность суммарных вероятностей последовательностей между моделям"
      ],
      "metadata": {
        "id": "d2sBPcbLC50W"
      }
    },
    {
      "cell_type": "code",
      "source": [
        "diff_markov_1_markov_2_compl, diff_markov_1_markov_3_compl, diff_markov_2_markov_3_compl, diff_bernoulli_markov_1_compl, diff_bernoulli_markov_2_compl, diff_bernoulli_markov_3_compl = calculate_prob_diff(probs_mark_1_compl, probs_mark_2_compl, probs_mark_3_compl, test_probs_compl)\n",
        "\n",
        "print(\"Разность суммарных вероятностей последовательностей между моделями:\")\n",
        "print(f\"Марковская модель 1-го порядка и 2-го порядка - для некомплементарных: {diff_markov_1_markov_2}, для комплементарных: {diff_markov_1_markov_2_compl}\")\n",
        "print(f\"Марковская модель 1-го порядка и 3-го порядка - для некомплементарных: {diff_markov_1_markov_3}, для комплементарных: {diff_markov_1_markov_3_compl}\")\n",
        "print(f\"Марковская модель 2-го порядка и 3-го порядка: - для некомплементарных: {diff_markov_2_markov_3}, для комплементарных: {diff_markov_2_markov_3_compl}\")\n",
        "print(f\"Бернулли и Марковская модель 1-го порядка - для некомплементарных: {diff_bernoulli_markov_1}, для комплементарных: {diff_bernoulli_markov_1_compl}\")\n",
        "print(f\"Бернулли и Марковская модель 2-го порядка - для некомплементарных: {diff_bernoulli_markov_2}, для комплементарных: {diff_bernoulli_markov_2_compl}\")\n",
        "print(f\"Бернулли и Марковская модель 3-го порядка - для некомплементарных: {diff_bernoulli_markov_3}, для комплементарных: {diff_bernoulli_markov_3_compl}\")"
      ],
      "metadata": {
        "colab": {
          "base_uri": "https://localhost:8080/"
        },
        "id": "j7KvFicGDf74",
        "outputId": "8fb90601-c556-42f1-a36e-71bef2319a60"
      },
      "execution_count": null,
      "outputs": [
        {
          "output_type": "stream",
          "name": "stdout",
          "text": [
            "Разность суммарных вероятностей последовательностей между моделями:\n",
            "Марковская модель 1-го порядка и 2-го порядка - для некомплементарных: -7.451385596844643e-10, для комплементарных: -1.1131400207048082e-09\n",
            "Марковская модель 1-го порядка и 3-го порядка - для некомплементарных: -3.977366998723986e-09, для комплементарных: -5.3334615187413116e-09\n",
            "Марковская модель 2-го порядка и 3-го порядка: - для некомплементарных: -3.2322284390395223e-09, для комплементарных: -4.220321498036504e-09\n",
            "Бернулли и Марковская модель 1-го порядка - для некомплементарных: -2.0246120504976867e-10, для комплементарных: -1.9301049400757028e-10\n",
            "Бернулли и Марковская модель 2-го порядка - для некомплементарных: -9.47599764734233e-10, для комплементарных: -1.3061505147123785e-09\n",
            "Бернулли и Марковская модель 3-го порядка - для некомплементарных: -4.179828203773755e-09, для комплементарных: -5.5264720127488815e-09\n"
          ]
        }
      ]
    },
    {
      "cell_type": "markdown",
      "source": [
        "Видим, что небольшая разница есть, но в пределах допустимого, тк последовательностей много и есть наблюдается небольшой эффект накопления ошибки, но при сравнении отдельных значений вероятности для каждой последовательности разница минимальна"
      ],
      "metadata": {
        "id": "TVErjGBtF7jw"
      }
    },
    {
      "cell_type": "markdown",
      "source": [
        "# AIC и BIC"
      ],
      "metadata": {
        "id": "obVCC__ezqvV"
      }
    },
    {
      "cell_type": "markdown",
      "source": [
        "# AIC = 2k - 2ln(L)"
      ],
      "metadata": {
        "id": "fe_AB_VGzwyQ"
      }
    },
    {
      "cell_type": "code",
      "source": [
        "L_bern = sum(test_probs)\n",
        "L_bern"
      ],
      "metadata": {
        "colab": {
          "base_uri": "https://localhost:8080/"
        },
        "id": "_WiIEThE2dgE",
        "outputId": "19daeade-610b-43e4-cce8-0b49929f3357"
      },
      "execution_count": null,
      "outputs": [
        {
          "output_type": "execute_result",
          "data": {
            "text/plain": [
              "-103311.421566496"
            ]
          },
          "metadata": {},
          "execution_count": 89
        }
      ]
    },
    {
      "cell_type": "code",
      "source": [
        "L_mark_3 = sum(probs_mark_3)\n",
        "L_mark_3"
      ],
      "metadata": {
        "colab": {
          "base_uri": "https://localhost:8080/"
        },
        "id": "XZiiOK9P1euu",
        "outputId": "43c83434-bcc0-4af1-d263-eba328167e5a"
      },
      "execution_count": null,
      "outputs": [
        {
          "output_type": "execute_result",
          "data": {
            "text/plain": [
              "-89978.79736256467"
            ]
          },
          "metadata": {},
          "execution_count": 85
        }
      ]
    },
    {
      "cell_type": "code",
      "source": [
        "L_mark_2 = sum(probs_mark_2)\n",
        "L_mark_2"
      ],
      "metadata": {
        "colab": {
          "base_uri": "https://localhost:8080/"
        },
        "id": "-E11yj1i1uYe",
        "outputId": "043e725c-497d-4c6b-c412-7b0110434999"
      },
      "execution_count": null,
      "outputs": [
        {
          "output_type": "execute_result",
          "data": {
            "text/plain": [
              "-90423.81359774528"
            ]
          },
          "metadata": {},
          "execution_count": 86
        }
      ]
    },
    {
      "cell_type": "code",
      "source": [
        "L_mark_1 = sum(probs_mark_1)\n",
        "L_mark_1"
      ],
      "metadata": {
        "colab": {
          "base_uri": "https://localhost:8080/"
        },
        "id": "bT9osr9p1xFX",
        "outputId": "015b3269-c167-426a-cde0-1b6e68030011"
      },
      "execution_count": null,
      "outputs": [
        {
          "output_type": "execute_result",
          "data": {
            "text/plain": [
              "-91067.97740128118"
            ]
          },
          "metadata": {},
          "execution_count": 87
        }
      ]
    },
    {
      "cell_type": "code",
      "source": [
        "aic_bern = (2 * 4) - (2 * L_bern)\n",
        "aic_mark_1 = (2 * 16) - (2 * L_mark_1)\n",
        "aic_mark_2 = (2 * 64) - (2 * L_mark_2)\n",
        "aic_mark_3 = (2 * 256) - (2 * L_mark_3)"
      ],
      "metadata": {
        "id": "aSL1eiGL2wpv"
      },
      "execution_count": null,
      "outputs": []
    },
    {
      "cell_type": "code",
      "source": [
        "print('AIC Бернулли: ', aic_bern)\n",
        "print('AIC Марковская модель 1-го порядка: ', aic_mark_1)\n",
        "print('AIC Марковская модель 2-го порядка: ', aic_mark_2)\n",
        "print('AIC Марковская модель 3-го порядка: ', aic_mark_3)"
      ],
      "metadata": {
        "colab": {
          "base_uri": "https://localhost:8080/"
        },
        "id": "8FcgQfoS26t3",
        "outputId": "9fd964c3-711b-4b8e-f237-9f7e935f6a38"
      },
      "execution_count": null,
      "outputs": [
        {
          "output_type": "stream",
          "name": "stdout",
          "text": [
            "AIC Бернулли:  206630.843132992\n",
            "AIC Марковская модель 1-го порядка:  182167.95480256237\n",
            "AIC Марковская модель 2-го порядка:  180975.62719549055\n",
            "AIC Марковская модель 3-го порядка:  180469.59472512934\n"
          ]
        }
      ]
    },
    {
      "cell_type": "markdown",
      "source": [
        "Чем меньше AIC, тем лучше модель, судя по данной метрике лучше всего Марковская модель 3-го порядка, что в целом и логично, так как она учитывает больше контекста. Хотя она крайне близка по качеству к Марковской модели 2-го порядка.\n",
        "Хуже всего работает Бернулли."
      ],
      "metadata": {
        "id": "hvDKBbhJ3TZ1"
      }
    },
    {
      "cell_type": "markdown",
      "source": [
        "# BIC = ln(n) * k - 2ln(L)"
      ],
      "metadata": {
        "id": "w4JVefBO3pZJ"
      }
    },
    {
      "cell_type": "code",
      "source": [
        "log_size = np.log(len(train_))"
      ],
      "metadata": {
        "id": "9KOC__AO3iqc"
      },
      "execution_count": null,
      "outputs": []
    },
    {
      "cell_type": "code",
      "source": [
        "bic_bernulli = (log_size * 4) - (2 * L_bern)\n",
        "bic_markov1 = (log_size * 16) - (2 * L_mark_1)\n",
        "bic_markov2 = (log_size * 64) - (2 * L_mark_2)\n",
        "bic_markov3 = (log_size * 256) - (2 * L_mark_3)"
      ],
      "metadata": {
        "id": "p9pR98n13vNI"
      },
      "execution_count": null,
      "outputs": []
    },
    {
      "cell_type": "code",
      "source": [
        "print('BIC Бернулли: ', bic_bernulli)\n",
        "print('BIC Марковская модель 1-го порядка: ', bic_markov1)\n",
        "print('BIC Марковская модель 2-го порядка: ', bic_markov2)\n",
        "print('BIC Марковская модель 3-го порядка: ', bic_markov3)"
      ],
      "metadata": {
        "colab": {
          "base_uri": "https://localhost:8080/"
        },
        "id": "hMTgbchw4C2g",
        "outputId": "5a4353a0-9621-4720-d713-144174ca2633"
      },
      "execution_count": null,
      "outputs": [
        {
          "output_type": "stream",
          "name": "stdout",
          "text": [
            "BIC Бернулли:  206694.5476924626\n",
            "BIC Марковская модель 1-го порядка:  182422.7730404447\n",
            "BIC Марковская модель 2-го порядка:  181994.90014701991\n",
            "BIC Марковская модель 3-го порядка:  184546.6865312468\n"
          ]
        }
      ]
    },
    {
      "cell_type": "markdown",
      "source": [
        "Здесь лучше всего Марковская модель 2-го порядка, но опять все 3 модели показали приблизительно одинаковое качество, а хуже всего Бернулли"
      ],
      "metadata": {
        "id": "WEkOECBx4cvJ"
      }
    },
    {
      "cell_type": "markdown",
      "source": [
        "# Посмотрим на графики вероятностей на конкретных позициях"
      ],
      "metadata": {
        "id": "X1yjtW-8i_XI"
      }
    },
    {
      "cell_type": "code",
      "source": [
        "dict_probs = {\n",
        "    'Бернулли': test_probs,\n",
        "    'Марковская модель 1-го порядка': probs_mark_1,\n",
        "    'Марковская модель 2-го порядка': probs_mark_2,\n",
        "    'Марковская модель 3-го порядка': probs_mark_3,\n",
        "}"
      ],
      "metadata": {
        "id": "xPcLGI6fml_z"
      },
      "execution_count": null,
      "outputs": []
    },
    {
      "cell_type": "code",
      "source": [
        "df_probs = pd.DataFrame(dict_probs)"
      ],
      "metadata": {
        "id": "0TrRPKd8nr58"
      },
      "execution_count": null,
      "outputs": []
    },
    {
      "cell_type": "code",
      "source": [
        "df_probs.head()"
      ],
      "metadata": {
        "colab": {
          "base_uri": "https://localhost:8080/",
          "height": 204
        },
        "id": "Uht2ziaYnBDb",
        "outputId": "d1bbf0d0-3b21-42ce-a065-a8202f98157f"
      },
      "execution_count": null,
      "outputs": [
        {
          "output_type": "execute_result",
          "data": {
            "text/plain": [
              "     Бернулли  Марковская модель 1-го порядка  Марковская модель 2-го порядка  \\\n",
              "0  -85.646165                      -69.647092                      -67.027975   \n",
              "1 -109.002167                      -90.321386                      -89.567197   \n",
              "2  -35.863339                      -30.309409                      -28.277493   \n",
              "3 -100.429481                      -84.839577                      -83.259203   \n",
              "4 -294.467811                     -264.895845                     -265.216007   \n",
              "\n",
              "   Марковская модель 3-го порядка  \n",
              "0                      -66.629843  \n",
              "1                      -88.168429  \n",
              "2                      -26.181739  \n",
              "3                      -79.781595  \n",
              "4                     -264.025978  "
            ],
            "text/html": [
              "\n",
              "  <div id=\"df-9bcf487f-5ee5-43dd-ad2d-6d559b9cf578\" class=\"colab-df-container\">\n",
              "    <div>\n",
              "<style scoped>\n",
              "    .dataframe tbody tr th:only-of-type {\n",
              "        vertical-align: middle;\n",
              "    }\n",
              "\n",
              "    .dataframe tbody tr th {\n",
              "        vertical-align: top;\n",
              "    }\n",
              "\n",
              "    .dataframe thead th {\n",
              "        text-align: right;\n",
              "    }\n",
              "</style>\n",
              "<table border=\"1\" class=\"dataframe\">\n",
              "  <thead>\n",
              "    <tr style=\"text-align: right;\">\n",
              "      <th></th>\n",
              "      <th>Бернулли</th>\n",
              "      <th>Марковская модель 1-го порядка</th>\n",
              "      <th>Марковская модель 2-го порядка</th>\n",
              "      <th>Марковская модель 3-го порядка</th>\n",
              "    </tr>\n",
              "  </thead>\n",
              "  <tbody>\n",
              "    <tr>\n",
              "      <th>0</th>\n",
              "      <td>-85.646165</td>\n",
              "      <td>-69.647092</td>\n",
              "      <td>-67.027975</td>\n",
              "      <td>-66.629843</td>\n",
              "    </tr>\n",
              "    <tr>\n",
              "      <th>1</th>\n",
              "      <td>-109.002167</td>\n",
              "      <td>-90.321386</td>\n",
              "      <td>-89.567197</td>\n",
              "      <td>-88.168429</td>\n",
              "    </tr>\n",
              "    <tr>\n",
              "      <th>2</th>\n",
              "      <td>-35.863339</td>\n",
              "      <td>-30.309409</td>\n",
              "      <td>-28.277493</td>\n",
              "      <td>-26.181739</td>\n",
              "    </tr>\n",
              "    <tr>\n",
              "      <th>3</th>\n",
              "      <td>-100.429481</td>\n",
              "      <td>-84.839577</td>\n",
              "      <td>-83.259203</td>\n",
              "      <td>-79.781595</td>\n",
              "    </tr>\n",
              "    <tr>\n",
              "      <th>4</th>\n",
              "      <td>-294.467811</td>\n",
              "      <td>-264.895845</td>\n",
              "      <td>-265.216007</td>\n",
              "      <td>-264.025978</td>\n",
              "    </tr>\n",
              "  </tbody>\n",
              "</table>\n",
              "</div>\n",
              "    <div class=\"colab-df-buttons\">\n",
              "\n",
              "  <div class=\"colab-df-container\">\n",
              "    <button class=\"colab-df-convert\" onclick=\"convertToInteractive('df-9bcf487f-5ee5-43dd-ad2d-6d559b9cf578')\"\n",
              "            title=\"Convert this dataframe to an interactive table.\"\n",
              "            style=\"display:none;\">\n",
              "\n",
              "  <svg xmlns=\"http://www.w3.org/2000/svg\" height=\"24px\" viewBox=\"0 -960 960 960\">\n",
              "    <path d=\"M120-120v-720h720v720H120Zm60-500h600v-160H180v160Zm220 220h160v-160H400v160Zm0 220h160v-160H400v160ZM180-400h160v-160H180v160Zm440 0h160v-160H620v160ZM180-180h160v-160H180v160Zm440 0h160v-160H620v160Z\"/>\n",
              "  </svg>\n",
              "    </button>\n",
              "\n",
              "  <style>\n",
              "    .colab-df-container {\n",
              "      display:flex;\n",
              "      gap: 12px;\n",
              "    }\n",
              "\n",
              "    .colab-df-convert {\n",
              "      background-color: #E8F0FE;\n",
              "      border: none;\n",
              "      border-radius: 50%;\n",
              "      cursor: pointer;\n",
              "      display: none;\n",
              "      fill: #1967D2;\n",
              "      height: 32px;\n",
              "      padding: 0 0 0 0;\n",
              "      width: 32px;\n",
              "    }\n",
              "\n",
              "    .colab-df-convert:hover {\n",
              "      background-color: #E2EBFA;\n",
              "      box-shadow: 0px 1px 2px rgba(60, 64, 67, 0.3), 0px 1px 3px 1px rgba(60, 64, 67, 0.15);\n",
              "      fill: #174EA6;\n",
              "    }\n",
              "\n",
              "    .colab-df-buttons div {\n",
              "      margin-bottom: 4px;\n",
              "    }\n",
              "\n",
              "    [theme=dark] .colab-df-convert {\n",
              "      background-color: #3B4455;\n",
              "      fill: #D2E3FC;\n",
              "    }\n",
              "\n",
              "    [theme=dark] .colab-df-convert:hover {\n",
              "      background-color: #434B5C;\n",
              "      box-shadow: 0px 1px 3px 1px rgba(0, 0, 0, 0.15);\n",
              "      filter: drop-shadow(0px 1px 2px rgba(0, 0, 0, 0.3));\n",
              "      fill: #FFFFFF;\n",
              "    }\n",
              "  </style>\n",
              "\n",
              "    <script>\n",
              "      const buttonEl =\n",
              "        document.querySelector('#df-9bcf487f-5ee5-43dd-ad2d-6d559b9cf578 button.colab-df-convert');\n",
              "      buttonEl.style.display =\n",
              "        google.colab.kernel.accessAllowed ? 'block' : 'none';\n",
              "\n",
              "      async function convertToInteractive(key) {\n",
              "        const element = document.querySelector('#df-9bcf487f-5ee5-43dd-ad2d-6d559b9cf578');\n",
              "        const dataTable =\n",
              "          await google.colab.kernel.invokeFunction('convertToInteractive',\n",
              "                                                    [key], {});\n",
              "        if (!dataTable) return;\n",
              "\n",
              "        const docLinkHtml = 'Like what you see? Visit the ' +\n",
              "          '<a target=\"_blank\" href=https://colab.research.google.com/notebooks/data_table.ipynb>data table notebook</a>'\n",
              "          + ' to learn more about interactive tables.';\n",
              "        element.innerHTML = '';\n",
              "        dataTable['output_type'] = 'display_data';\n",
              "        await google.colab.output.renderOutput(dataTable, element);\n",
              "        const docLink = document.createElement('div');\n",
              "        docLink.innerHTML = docLinkHtml;\n",
              "        element.appendChild(docLink);\n",
              "      }\n",
              "    </script>\n",
              "  </div>\n",
              "\n",
              "\n",
              "<div id=\"df-851002a8-4fa9-4263-9d4b-897a816e0f4d\">\n",
              "  <button class=\"colab-df-quickchart\" onclick=\"quickchart('df-851002a8-4fa9-4263-9d4b-897a816e0f4d')\"\n",
              "            title=\"Suggest charts\"\n",
              "            style=\"display:none;\">\n",
              "\n",
              "<svg xmlns=\"http://www.w3.org/2000/svg\" height=\"24px\"viewBox=\"0 0 24 24\"\n",
              "     width=\"24px\">\n",
              "    <g>\n",
              "        <path d=\"M19 3H5c-1.1 0-2 .9-2 2v14c0 1.1.9 2 2 2h14c1.1 0 2-.9 2-2V5c0-1.1-.9-2-2-2zM9 17H7v-7h2v7zm4 0h-2V7h2v10zm4 0h-2v-4h2v4z\"/>\n",
              "    </g>\n",
              "</svg>\n",
              "  </button>\n",
              "\n",
              "<style>\n",
              "  .colab-df-quickchart {\n",
              "      --bg-color: #E8F0FE;\n",
              "      --fill-color: #1967D2;\n",
              "      --hover-bg-color: #E2EBFA;\n",
              "      --hover-fill-color: #174EA6;\n",
              "      --disabled-fill-color: #AAA;\n",
              "      --disabled-bg-color: #DDD;\n",
              "  }\n",
              "\n",
              "  [theme=dark] .colab-df-quickchart {\n",
              "      --bg-color: #3B4455;\n",
              "      --fill-color: #D2E3FC;\n",
              "      --hover-bg-color: #434B5C;\n",
              "      --hover-fill-color: #FFFFFF;\n",
              "      --disabled-bg-color: #3B4455;\n",
              "      --disabled-fill-color: #666;\n",
              "  }\n",
              "\n",
              "  .colab-df-quickchart {\n",
              "    background-color: var(--bg-color);\n",
              "    border: none;\n",
              "    border-radius: 50%;\n",
              "    cursor: pointer;\n",
              "    display: none;\n",
              "    fill: var(--fill-color);\n",
              "    height: 32px;\n",
              "    padding: 0;\n",
              "    width: 32px;\n",
              "  }\n",
              "\n",
              "  .colab-df-quickchart:hover {\n",
              "    background-color: var(--hover-bg-color);\n",
              "    box-shadow: 0 1px 2px rgba(60, 64, 67, 0.3), 0 1px 3px 1px rgba(60, 64, 67, 0.15);\n",
              "    fill: var(--button-hover-fill-color);\n",
              "  }\n",
              "\n",
              "  .colab-df-quickchart-complete:disabled,\n",
              "  .colab-df-quickchart-complete:disabled:hover {\n",
              "    background-color: var(--disabled-bg-color);\n",
              "    fill: var(--disabled-fill-color);\n",
              "    box-shadow: none;\n",
              "  }\n",
              "\n",
              "  .colab-df-spinner {\n",
              "    border: 2px solid var(--fill-color);\n",
              "    border-color: transparent;\n",
              "    border-bottom-color: var(--fill-color);\n",
              "    animation:\n",
              "      spin 1s steps(1) infinite;\n",
              "  }\n",
              "\n",
              "  @keyframes spin {\n",
              "    0% {\n",
              "      border-color: transparent;\n",
              "      border-bottom-color: var(--fill-color);\n",
              "      border-left-color: var(--fill-color);\n",
              "    }\n",
              "    20% {\n",
              "      border-color: transparent;\n",
              "      border-left-color: var(--fill-color);\n",
              "      border-top-color: var(--fill-color);\n",
              "    }\n",
              "    30% {\n",
              "      border-color: transparent;\n",
              "      border-left-color: var(--fill-color);\n",
              "      border-top-color: var(--fill-color);\n",
              "      border-right-color: var(--fill-color);\n",
              "    }\n",
              "    40% {\n",
              "      border-color: transparent;\n",
              "      border-right-color: var(--fill-color);\n",
              "      border-top-color: var(--fill-color);\n",
              "    }\n",
              "    60% {\n",
              "      border-color: transparent;\n",
              "      border-right-color: var(--fill-color);\n",
              "    }\n",
              "    80% {\n",
              "      border-color: transparent;\n",
              "      border-right-color: var(--fill-color);\n",
              "      border-bottom-color: var(--fill-color);\n",
              "    }\n",
              "    90% {\n",
              "      border-color: transparent;\n",
              "      border-bottom-color: var(--fill-color);\n",
              "    }\n",
              "  }\n",
              "</style>\n",
              "\n",
              "  <script>\n",
              "    async function quickchart(key) {\n",
              "      const quickchartButtonEl =\n",
              "        document.querySelector('#' + key + ' button');\n",
              "      quickchartButtonEl.disabled = true;  // To prevent multiple clicks.\n",
              "      quickchartButtonEl.classList.add('colab-df-spinner');\n",
              "      try {\n",
              "        const charts = await google.colab.kernel.invokeFunction(\n",
              "            'suggestCharts', [key], {});\n",
              "      } catch (error) {\n",
              "        console.error('Error during call to suggestCharts:', error);\n",
              "      }\n",
              "      quickchartButtonEl.classList.remove('colab-df-spinner');\n",
              "      quickchartButtonEl.classList.add('colab-df-quickchart-complete');\n",
              "    }\n",
              "    (() => {\n",
              "      let quickchartButtonEl =\n",
              "        document.querySelector('#df-851002a8-4fa9-4263-9d4b-897a816e0f4d button');\n",
              "      quickchartButtonEl.style.display =\n",
              "        google.colab.kernel.accessAllowed ? 'block' : 'none';\n",
              "    })();\n",
              "  </script>\n",
              "</div>\n",
              "    </div>\n",
              "  </div>\n"
            ],
            "application/vnd.google.colaboratory.intrinsic+json": {
              "type": "dataframe",
              "variable_name": "df_probs",
              "summary": "{\n  \"name\": \"df_probs\",\n  \"rows\": 344,\n  \"fields\": [\n    {\n      \"column\": \"\\u0411\\u0435\\u0440\\u043d\\u0443\\u043b\\u043b\\u0438\",\n      \"properties\": {\n        \"dtype\": \"number\",\n        \"std\": 407.08250644007524,\n        \"min\": -4641.427257001548,\n        \"max\": -28.385972511624388,\n        \"num_unique_values\": 344,\n        \"samples\": [\n          -93.34343102495956,\n          -259.52459266075994,\n          -39.16062214298587\n        ],\n        \"semantic_type\": \"\",\n        \"description\": \"\"\n      }\n    },\n    {\n      \"column\": \"\\u041c\\u0430\\u0440\\u043a\\u043e\\u0432\\u0441\\u043a\\u0430\\u044f \\u043c\\u043e\\u0434\\u0435\\u043b\\u044c 1-\\u0433\\u043e \\u043f\\u043e\\u0440\\u044f\\u0434\\u043a\\u0430\",\n      \"properties\": {\n        \"dtype\": \"number\",\n        \"std\": 372.4533536941071,\n        \"min\": -4261.697513522263,\n        \"max\": -22.712609596381647,\n        \"num_unique_values\": 344,\n        \"samples\": [\n          -76.43328414414137,\n          -210.4189549325354,\n          -32.03697505831637\n        ],\n        \"semantic_type\": \"\",\n        \"description\": \"\"\n      }\n    },\n    {\n      \"column\": \"\\u041c\\u0430\\u0440\\u043a\\u043e\\u0432\\u0441\\u043a\\u0430\\u044f \\u043c\\u043e\\u0434\\u0435\\u043b\\u044c 2-\\u0433\\u043e \\u043f\\u043e\\u0440\\u044f\\u0434\\u043a\\u0430\",\n      \"properties\": {\n        \"dtype\": \"number\",\n        \"std\": 371.1594132866335,\n        \"min\": -4248.118277341816,\n        \"max\": -21.1511443022415,\n        \"num_unique_values\": 344,\n        \"samples\": [\n          -75.11247220035754,\n          -207.89558368649762,\n          -30.978629859103016\n        ],\n        \"semantic_type\": \"\",\n        \"description\": \"\"\n      }\n    },\n    {\n      \"column\": \"\\u041c\\u0430\\u0440\\u043a\\u043e\\u0432\\u0441\\u043a\\u0430\\u044f \\u043c\\u043e\\u0434\\u0435\\u043b\\u044c 3-\\u0433\\u043e \\u043f\\u043e\\u0440\\u044f\\u0434\\u043a\\u0430\",\n      \"properties\": {\n        \"dtype\": \"number\",\n        \"std\": 371.02487154704005,\n        \"min\": -4252.904446584045,\n        \"max\": -19.521897051944546,\n        \"num_unique_values\": 344,\n        \"samples\": [\n          -73.42383912441561,\n          -204.57284921065215,\n          -29.252947907937518\n        ],\n        \"semantic_type\": \"\",\n        \"description\": \"\"\n      }\n    }\n  ]\n}"
            }
          },
          "metadata": {},
          "execution_count": 63
        }
      ]
    },
    {
      "cell_type": "code",
      "source": [
        "import plotly.subplots as sp\n",
        "import plotly.graph_objects as go\n",
        "\n",
        "\n",
        "fig = sp.make_subplots(rows=2, cols=2, subplot_titles=(\"Бернулли\",\n",
        "                                                      \"Марковская модель 1-го порядка\",\n",
        "                                                      \"Марковская модель 2-го порядка\",\n",
        "                                                      \"Марковская модель 3-го порядка\"))\n",
        "\n",
        "bin_numb = len(test_)\n",
        "\n",
        "# Assuming test_probs, probs_mark_1, probs_mark_2, and probs_mark_3 are lists of probabilities\n",
        "# and you want to plot them as bar charts. You might need to adjust the x and y values accordingly.\n",
        "\n",
        "fig.add_trace(go.Bar(x=df_probs.index, y=df_probs['Бернулли'], marker=dict(color='#EDC345'),\n",
        "                     name='Бернулли'), row=1, col=1)\n",
        "fig.add_trace(go.Bar(x=df_probs['Марковская модель 1-го порядка'], y=df_probs.index,\n",
        "                     marker=dict(color='#ED4562'),\n",
        "                     name='Марковская модель 1-го порядка'), row=1, col=2)\n",
        "fig.add_trace(go.Bar(x=df_probs['Марковская модель 2-го порядка'], y=df_probs.index, marker=dict(color='#45EDC0'),\n",
        "                    name='Марковская модель 2-го порядка'), row=2, col=1)\n",
        "fig.add_trace(go.Bar(x=df_probs['Марковская модель 3-го порядка'], y=df_probs.index, marker=dict(color='#6745ED'),\n",
        "                     name='Марковская модель 3-го порядка'), row=2, col=2)\n",
        "\n",
        "fig.update_layout(\n",
        "    title='Распределения Логарифмических Вероятностей',\n",
        "    bargap=0.2,\n",
        "    template='none',\n",
        "    autosize=True,\n",
        "    margin=dict(l=65, r=50, b=65, t=90)\n",
        ")\n",
        "\n",
        "fig.show()"
      ],
      "metadata": {
        "colab": {
          "base_uri": "https://localhost:8080/",
          "height": 542
        },
        "id": "d1H54XvPjf4F",
        "outputId": "869a26d2-834a-41c2-fba3-ce31f7df15cd"
      },
      "execution_count": null,
      "outputs": [
        {
          "output_type": "display_data",
          "data": {
            "text/html": [
              "<html>\n",
              "<head><meta charset=\"utf-8\" /></head>\n",
              "<body>\n",
              "    <div>            <script src=\"https://cdnjs.cloudflare.com/ajax/libs/mathjax/2.7.5/MathJax.js?config=TeX-AMS-MML_SVG\"></script><script type=\"text/javascript\">if (window.MathJax && window.MathJax.Hub && window.MathJax.Hub.Config) {window.MathJax.Hub.Config({SVG: {font: \"STIX-Web\"}});}</script>                <script type=\"text/javascript\">window.PlotlyConfig = {MathJaxConfig: 'local'};</script>\n",
              "        <script charset=\"utf-8\" src=\"https://cdn.plot.ly/plotly-2.24.1.min.js\"></script>                <div id=\"9b492fc5-096c-46aa-8319-0b25bbc4ce5d\" class=\"plotly-graph-div\" style=\"height:525px; width:100%;\"></div>            <script type=\"text/javascript\">                                    window.PLOTLYENV=window.PLOTLYENV || {};                                    if (document.getElementById(\"9b492fc5-096c-46aa-8319-0b25bbc4ce5d\")) {                    Plotly.newPlot(                        \"9b492fc5-096c-46aa-8319-0b25bbc4ce5d\",                        [{\"marker\":{\"color\":\"#EDC345\"},\"name\":\"\\u0411\\u0435\\u0440\\u043d\\u0443\\u043b\\u043b\\u0438\",\"x\":[-85.64616540259783,-109.00216676141548,-35.863339106356406,-100.42948115459845,-294.46781093320595,-287.95830749790883,-74.0041772536588,-143.10041521452135,-281.51942547607064,-766.0636239980372,-860.928942185393,-70.43999391627689,-116.8736181274021,-233.42037198570733,-158.58641136203553,-179.1523854614275,-173.5341120661915,-3642.227017971027,-449.03969846182974,-68.22795950587683,-360.94535823012313,-79.86647424637368,-841.6338830462723,-1338.7083673224006,-134.83690811880055,-162.47140475539575,-33.45108034530542,-171.0141104642508,-143.52865839446088,-424.0624582835325,-100.09937831218674,-42.74744734851389,-441.9175375515478,-39.73498341800392,-165.43979626916914,-34.92323209077749,-28.385972511624388,-267.3134381902557,-159.3280882333563,-694.7796768693914,-322.48698693493816,-164.05329243315614,-227.0129543512949,-209.33694265214714,-301.5228262231309,-168.40186039991525,-172.32858923932446,-478.50697652098575,-328.28467535385306,-1309.0307933358733,-126.89928701998741,-180.52970972758936,-310.2864074440439,-287.4425023713338,-177.978128733879,-407.67391205576604,-57.41860691377441,-561.6763926317551,-293.13849858695534,-59.497327758752625,-756.9136506444764,-398.8432259339371,-665.3509669892472,-309.50791647756034,-134.1230640608986,-92.11725524892441,-61.16970385487558,-464.2753076787159,-218.86796558459992,-172.9371472578084,-31.65838992600233,-317.57635183312215,-181.156620271574,-326.6604310084256,-239.10426638929275,-324.56964907085234,-624.4757264899166,-524.7177746358564,-652.6394899544838,-101.14031968655203,-204.21304562265743,-91.14638656354046,-320.5827208310731,-278.70008091376235,-40.670444040366185,-273.0835651778988,-403.17969447332007,-402.3566997546262,-220.7846001133294,-328.22729040242365,-702.5227666076797,-75.67952054094907,-166.33442304810958,-528.1960734408909,-4641.427257001548,-814.2425054229707,-482.9580981711232,-181.93292343407347,-176.150809638738,-342.0586687089574,-70.14580535416171,-367.2919959619874,-691.9497916540736,-99.81799427972823,-1255.8003879940982,-129.39418995231017,-165.63982411947364,-318.1027353505894,-374.6761777324383,-60.609864646344775,-378.7187674266351,-210.1048546308403,-288.4970276625392,-48.61196809533419,-138.68985185323794,-505.4886462220143,-169.72937853977297,-142.51180325516353,-263.77111494917665,-145.50334285435787,-297.05394393319165,-177.17629318162858,-182.53406675317927,-120.99416726487264,-257.5912865963404,-402.7214690107592,-869.8191609400934,-587.1027619865265,-172.27643356794886,-529.3509634206274,-2307.7697858219112,-297.8893112491699,-198.111877642955,-446.11709690162274,-125.13513451638376,-34.25295423233713,-339.0860645221004,-424.73398579631004,-235.33872405126678,-384.96570544970615,-102.62820481806696,-426.0727473067979,-42.06436496041681,-31.89800196539199,-340.17576304119996,-243.76943173894702,-243.33923618704958,-354.41598361750124,-338.35184306959843,-60.325278587591484,-167.4009351470071,-1069.6368296507942,-160.100251219914,-37.07846622434663,-53.0623870278502,-526.0781997423012,-59.08926547306686,-259.52459266075994,-105.71597071761218,-56.28635701442228,-109.07547981147287,-39.41768510524891,-260.1090261093946,-80.82332708254526,-197.974426286251,-55.75899701252698,-239.0026909781042,-37.27869057499752,-167.9645209338889,-218.02650750848326,-77.1762665265253,-411.8801091026949,-87.2567851117447,-240.07759604856935,-33.08654592430017,-379.64162240434615,-100.40168667596082,-35.4095252018847,-73.02815595778335,-756.5703568859172,-81.68520327270278,-247.62261269317142,-36.13488580032548,-123.24875305552514,-61.16677499848945,-581.386820308677,-583.7705411540286,-229.51425776068498,-198.02798798976715,-323.15230868323334,-193.44823511754652,-226.48180943626735,-432.14858178175496,-159.420841125265,-93.34343102495956,-315.51531674614495,-374.5103448378388,-432.62234353311374,-253.61560589961192,-596.6871542945695,-191.2255839814733,-48.39550414136554,-393.1646039716263,-417.10207397257113,-312.87964721424083,-114.51983884523149,-65.50476636211799,-407.3081321528445,-30.70844557193402,-328.427243370927,-144.85719135352784,-344.04077204065294,-500.163276975298,-122.8448309457811,-190.95431045741296,-53.4948087185126,-31.427442240327643,-428.0797162607453,-297.5467974746926,-543.2624182650397,-187.94500843065532,-206.54047658087345,-69.71635085466662,-557.9917020463697,-80.56454658345172,-39.16062214298587,-125.59265666442528,-157.25799340731191,-516.0601060993193,-135.8308482200431,-323.9576559787071,-427.03748928192135,-84.36092726084512,-127.368872645283,-180.6437056666035,-166.1258458484336,-207.5007261559248,-62.13885500342898,-166.03558809277774,-192.72697636026626,-82.1975733256171,-115.41423257680562,-96.07943048613643,-580.8644158200285,-403.6067281214655,-560.6688704014343,-266.81285784778856,-151.77858157334143,-219.1542691801838,-124.9843700280886,-161.56619958556374,-334.97148810174605,-519.9629817510267,-102.08019365476471,-2402.534647023395,-30.767001720376676,-162.55205821992854,-174.7263642686693,-146.46410281910494,-409.8777907143856,-121.82012917473362,-69.40198139829772,-403.18110229322224,-148.58712912818598,-622.2717393840337,-82.86269857356586,-34.71957266646556,-223.18803814286142,-504.10085618464467,-128.0368884148368,-917.8050841439474,-55.23210489312538,-661.6384795405644,-75.62908419416526,-209.3128564170792,-442.612371315311,-359.7283188627171,-234.27709556537312,-120.60382907196883,-472.90924285833626,-915.8453507013506,-108.32181851711952,-34.2285948273605,-258.6860993911507,-117.99770989031416,-422.52655944434537,-191.21715267512457,-149.63818101094944,-38.010453438266666,-640.7134758547892,-256.09251335700526,-347.7262096386233,-252.27965824116654,-289.74061602666643,-185.8547327103573,-143.7625349365218,-97.08004423435473,-105.44462052398946,-128.28809366432753,-76.02777702385542,-303.9985606957501,-706.0185654569915,-102.46467413489626,-83.46313679039109,-175.7232715610792,-209.68031969447046,-497.1531925226768,-442.06732555541487,-121.63126498681743,-99.12331868153014,-93.18919312822217,-160.79360287887272,-34.98522331288118,-292.6600538953594,-286.2571628233799,-264.9864769022944,-189.51358536148413,-86.81452608259285,-291.7003123253441,-222.83505859717604,-34.031805550370635,-314.68248468896167,-370.4433957386655,-146.5385870661756,-304.3733260528356,-58.61573855683516,-110.5164020046462,-42.37502796097725,-352.4083155214552,-175.46921412476465,-105.02797055415107,-255.1964404233817,-71.8536278480875,-41.82650879263886,-151.25200095862968,-173.87846559294292,-1549.4836651312291,-972.1545868037067,-613.6134058677577,-33.019869974198635,-108.58106689870682,-428.4818848835373,-87.01892894396671,-223.60293224108818],\"y\":[0,1,2,3,4,5,6,7,8,9,10,11,12,13,14,15,16,17,18,19,20,21,22,23,24,25,26,27,28,29,30,31,32,33,34,35,36,37,38,39,40,41,42,43,44,45,46,47,48,49,50,51,52,53,54,55,56,57,58,59,60,61,62,63,64,65,66,67,68,69,70,71,72,73,74,75,76,77,78,79,80,81,82,83,84,85,86,87,88,89,90,91,92,93,94,95,96,97,98,99,100,101,102,103,104,105,106,107,108,109,110,111,112,113,114,115,116,117,118,119,120,121,122,123,124,125,126,127,128,129,130,131,132,133,134,135,136,137,138,139,140,141,142,143,144,145,146,147,148,149,150,151,152,153,154,155,156,157,158,159,160,161,162,163,164,165,166,167,168,169,170,171,172,173,174,175,176,177,178,179,180,181,182,183,184,185,186,187,188,189,190,191,192,193,194,195,196,197,198,199,200,201,202,203,204,205,206,207,208,209,210,211,212,213,214,215,216,217,218,219,220,221,222,223,224,225,226,227,228,229,230,231,232,233,234,235,236,237,238,239,240,241,242,243,244,245,246,247,248,249,250,251,252,253,254,255,256,257,258,259,260,261,262,263,264,265,266,267,268,269,270,271,272,273,274,275,276,277,278,279,280,281,282,283,284,285,286,287,288,289,290,291,292,293,294,295,296,297,298,299,300,301,302,303,304,305,306,307,308,309,310,311,312,313,314,315,316,317,318,319,320,321,322,323,324,325,326,327,328,329,330,331,332,333,334,335,336,337,338,339,340,341,342,343],\"type\":\"bar\",\"xaxis\":\"x\",\"yaxis\":\"y\"},{\"marker\":{\"color\":\"#ED4562\"},\"name\":\"\\u041c\\u0430\\u0440\\u043a\\u043e\\u0432\\u0441\\u043a\\u0430\\u044f \\u043c\\u043e\\u0434\\u0435\\u043b\\u044c 1-\\u0433\\u043e \\u043f\\u043e\\u0440\\u044f\\u0434\\u043a\\u0430\",\"x\":[-69.64709166789996,-90.32138603451821,-30.309408512756484,-84.8395770077271,-264.895844865861,-253.9919873057701,-62.947587572663004,-128.69710442312552,-245.3941187779354,-668.0358221667861,-757.9571131491447,-57.58419159857665,-104.99676545741521,-209.6006111885159,-131.28657194838618,-152.54378776617614,-146.36297413822098,-3396.095154556841,-403.26257231330567,-63.22393092634597,-313.11457747037383,-66.02364580233993,-721.7107817585994,-1252.2395289330445,-123.6787786065825,-144.10073400822327,-34.04957966022007,-149.10508757112433,-133.42175988294923,-370.1133217253048,-89.3381902600977,-38.33517257449795,-384.58491707702433,-32.390425893347995,-145.74233812491002,-30.908328044809544,-25.241668857243354,-228.84944820100483,-142.44568775470395,-606.6024522985748,-274.2613890122263,-140.0005575363144,-212.18639991526922,-171.2034885664055,-259.79879028087345,-143.92094983501997,-153.1254561591177,-414.856504625908,-306.3031575134954,-1185.9630181230727,-111.41750348313911,-174.51143840240667,-252.5621875041264,-251.97677234187583,-153.17415750869185,-369.45326654105577,-52.370365912700386,-493.0678481559095,-242.63481802861614,-54.259167416291426,-652.2208923309942,-346.29794289295836,-550.9722190804299,-267.09177236341077,-116.17341921697646,-81.3244119248184,-53.93797396780738,-385.56719006736176,-185.55495811098447,-151.4152779676627,-22.712609596381647,-274.1655522672259,-158.63242634285808,-289.73285732051664,-201.90813642253335,-283.63348620349643,-551.83211396981,-476.72177700004914,-620.3227691785158,-83.25515379696503,-167.70591726382395,-83.16896590382078,-302.4171322394245,-237.25571191614446,-36.75249965325591,-249.38810274748022,-343.8333407965484,-339.22058321716753,-185.53494770651272,-277.99088577478625,-628.1133973349474,-64.64901029091322,-139.9808741125745,-472.2746247140077,-4261.697513522263,-755.375601128609,-422.9007455457539,-160.91766919608014,-164.30377920681693,-294.9838916732418,-61.370685487304996,-307.83384511411157,-622.7783253801082,-93.43175288935352,-1128.7318639114878,-109.27066024450345,-145.17816058108534,-287.87217616821357,-337.1894279296648,-54.25738687871934,-329.7457822258247,-175.93791331856963,-271.1511115456592,-46.5239137890238,-129.3544943401221,-433.37194548290523,-154.92473227249266,-125.12833676257999,-226.06027393874112,-129.2519826881268,-250.6858934928883,-156.95773143956401,-147.23505454613215,-102.39820904846626,-234.1511377848708,-358.2138564498238,-761.2206984895023,-522.7832388632718,-135.03845502994628,-462.1038705816014,-2118.748587853928,-279.816384757304,-174.38144500846576,-408.72816788525853,-98.02362964458443,-29.78957377229291,-296.6920377050372,-374.6433167543779,-216.8581231229112,-316.34264745896087,-77.33582978315417,-361.0032278561665,-36.11828211513092,-31.113370900251788,-295.6101318665024,-212.1929937545561,-197.96874577155484,-307.2251331069752,-284.0476171367559,-48.13860127316571,-131.65470182906688,-944.0760589578819,-154.18054906529514,-31.175859373066025,-53.14530844304109,-470.08217646463004,-53.84299212076892,-210.4189549325354,-86.97767588680574,-43.761974573185405,-98.61052745732975,-35.17013949443479,-217.930324282479,-70.83924015126136,-172.93515629113256,-44.74229538740727,-195.5535346723481,-34.46875290243568,-147.3440357109444,-181.36665203956082,-73.48059359468894,-364.46434674016535,-80.85870488767819,-200.5877160618665,-28.04799888092792,-320.1867563352678,-86.09317532210702,-31.156122222618354,-63.377252913029,-643.2373845606785,-68.91208405131381,-210.53131619258116,-27.689747154903493,-104.62462130755394,-59.78910708214517,-497.4812991442978,-499.3922189821299,-192.45905490813792,-171.3518291980398,-282.20158343130106,-183.033242355141,-183.7080811481794,-359.9676127245542,-143.06188238094995,-76.43328414414137,-276.06377339841106,-320.2366081234103,-373.01165581209784,-228.4115498330281,-527.7383276419932,-170.57514141072318,-42.559062373046565,-345.3843879922383,-352.14152139059615,-265.1383349669783,-93.16311101934033,-62.41418430803634,-364.77850457112885,-25.0313162057607,-278.7160752129209,-136.27121626673755,-303.78056469155433,-448.8824243358821,-98.22305853183992,-183.64881268897787,-48.81005086033369,-26.261821453452438,-383.8498085752255,-246.46525418144958,-469.15150923084485,-166.08247412612255,-181.41167055929614,-60.80828522218374,-506.2216691828363,-68.61175279716458,-32.03697505831637,-111.83338842487908,-146.0790401178774,-452.5772889420511,-113.89032559293541,-285.8590772423602,-361.5496269479081,-70.62369790863094,-110.75587592829152,-147.3232938068907,-148.25531309492365,-182.58990624032214,-51.49039884936302,-152.38342824857108,-172.51752217454637,-68.89071713337383,-101.02419798597917,-93.16265388922555,-529.9063579315779,-368.52075971759376,-495.38796938623886,-240.2808715590737,-115.87204290696295,-190.38552287060062,-105.60827866996316,-133.52050439478813,-299.6342404616021,-472.44224460920066,-90.12732517931448,-2210.134369110418,-24.25455193864789,-135.4693529632352,-157.83256357489958,-132.38584137620725,-337.8510919509169,-101.78494188931614,-57.69638740449177,-340.637104627372,-132.86134734929027,-537.0119219471011,-70.63940782314805,-28.47059470100491,-195.37389748578624,-437.88165844422775,-102.93231056355098,-792.4583302232849,-45.101934918757806,-598.5718880776989,-63.423292754600496,-181.6236114355305,-395.1174207875958,-333.72559160885675,-209.2318078520614,-112.55016123772603,-404.6690498685976,-824.3794693209661,-95.52242403559013,-29.545866742945346,-225.9704063191226,-104.44776844805305,-372.05231807275845,-148.32714820372806,-139.42387509118836,-30.960182680001612,-569.7129722832955,-225.30079114754602,-319.08981103218474,-215.0267374578604,-252.20464132542133,-166.1419883417099,-124.02826610446806,-84.49599337041498,-91.57763432247654,-115.1208552918378,-62.65341540301421,-268.75123689385316,-600.0195760872685,-93.43654867176207,-71.47018358032071,-151.87923608853595,-183.77991734155438,-449.14839046742793,-394.66666134237136,-112.83837648183126,-86.96299449938817,-85.12375426297916,-131.80236666054643,-30.769566281145732,-247.91387148697487,-247.19011947614882,-234.5911519638683,-151.12382611339063,-79.1814752180939,-266.1910202661921,-192.36031288346337,-26.00333600701121,-278.06939543602016,-322.9034517810822,-109.7851861975415,-242.3787342242282,-47.23148284121487,-96.42234079542814,-40.230125475021694,-312.93640137810496,-150.50325284366113,-93.57951663979135,-223.9728376498832,-62.81966868109064,-33.10465881156704,-135.8694729623087,-144.8865754580835,-1364.0556133870562,-858.1964503487195,-546.7122836091332,-27.580645186847427,-100.28463967016738,-362.15875924708644,-79.01912379705348,-187.71700696677473],\"y\":[0,1,2,3,4,5,6,7,8,9,10,11,12,13,14,15,16,17,18,19,20,21,22,23,24,25,26,27,28,29,30,31,32,33,34,35,36,37,38,39,40,41,42,43,44,45,46,47,48,49,50,51,52,53,54,55,56,57,58,59,60,61,62,63,64,65,66,67,68,69,70,71,72,73,74,75,76,77,78,79,80,81,82,83,84,85,86,87,88,89,90,91,92,93,94,95,96,97,98,99,100,101,102,103,104,105,106,107,108,109,110,111,112,113,114,115,116,117,118,119,120,121,122,123,124,125,126,127,128,129,130,131,132,133,134,135,136,137,138,139,140,141,142,143,144,145,146,147,148,149,150,151,152,153,154,155,156,157,158,159,160,161,162,163,164,165,166,167,168,169,170,171,172,173,174,175,176,177,178,179,180,181,182,183,184,185,186,187,188,189,190,191,192,193,194,195,196,197,198,199,200,201,202,203,204,205,206,207,208,209,210,211,212,213,214,215,216,217,218,219,220,221,222,223,224,225,226,227,228,229,230,231,232,233,234,235,236,237,238,239,240,241,242,243,244,245,246,247,248,249,250,251,252,253,254,255,256,257,258,259,260,261,262,263,264,265,266,267,268,269,270,271,272,273,274,275,276,277,278,279,280,281,282,283,284,285,286,287,288,289,290,291,292,293,294,295,296,297,298,299,300,301,302,303,304,305,306,307,308,309,310,311,312,313,314,315,316,317,318,319,320,321,322,323,324,325,326,327,328,329,330,331,332,333,334,335,336,337,338,339,340,341,342,343],\"type\":\"bar\",\"xaxis\":\"x2\",\"yaxis\":\"y2\"},{\"marker\":{\"color\":\"#45EDC0\"},\"name\":\"\\u041c\\u0430\\u0440\\u043a\\u043e\\u0432\\u0441\\u043a\\u0430\\u044f \\u043c\\u043e\\u0434\\u0435\\u043b\\u044c 2-\\u0433\\u043e \\u043f\\u043e\\u0440\\u044f\\u0434\\u043a\\u0430\",\"x\":[-67.02797496932334,-89.56719728390414,-28.277492616387583,-83.25920319569616,-265.21600712482586,-251.62451024505506,-62.06565011987375,-127.05745859685256,-243.32018773678152,-665.2579999229565,-755.3144843078437,-57.86385279021022,-104.11638992227881,-206.05936804728455,-130.3324000906382,-150.4484099046372,-145.54137998049222,-3374.994765002947,-401.4078441832493,-60.36693389617321,-308.45406787498473,-66.17360524188635,-725.1936619858072,-1251.9406253015432,-123.27968760814431,-143.3229881009652,-33.31626570950726,-149.4741104570496,-131.8477579748556,-365.72311963705795,-88.60653793777715,-36.43073554374784,-382.35628946751706,-31.544070737483846,-142.75500353360937,-30.56518902384367,-23.508025192366404,-229.22289195319357,-140.18482955443505,-603.157642333267,-272.633096707995,-137.77330499567128,-211.30276828517364,-171.14376117537319,-257.5722428634555,-142.24870253082403,-151.08831035926946,-409.6762236947685,-303.0422185621696,-1181.6997783462255,-108.86251736923322,-173.2470907886359,-253.0296067005059,-249.07673654040863,-152.39179768979895,-366.2345973780923,-50.49584393713386,-495.5702974362925,-241.51100547859042,-52.520143508742294,-650.1968710293975,-344.49032538046316,-551.9718230083063,-266.869545959857,-114.22643822818785,-78.78838316445129,-53.29358853767491,-383.66032586049823,-185.23707523988284,-149.56284235150406,-21.1511443022415,-275.86904885315374,-155.59774253410384,-286.1883831376189,-199.38383963727856,-282.98333040793955,-547.3792626153978,-472.3352054200499,-620.5762831179877,-82.58871008262317,-165.49622590452802,-80.52705006988784,-298.8378260932045,-235.52168600802867,-35.15292697922837,-247.6684064006388,-343.8480861760926,-335.4138840836751,-182.1076766343581,-276.4969547771589,-627.6748512044378,-62.84757971193602,-137.6798579465776,-470.78708949059546,-4248.118277341816,-752.8925131704674,-417.9954036628118,-158.89308873149474,-163.3623382391538,-292.5923008046863,-60.21592292024937,-306.64837076419724,-616.1557552723034,-91.78712074712307,-1125.6458902938045,-107.86588150031687,-145.79069898502726,-286.6658435033059,-334.6408923169936,-52.2869053523155,-324.1541180138103,-173.3391176836855,-269.3453666873532,-44.134896473955365,-127.15595473874842,-431.2851599898352,-152.82553295900186,-122.81797838105936,-227.02437826461022,-127.51700975472399,-246.90969589400862,-154.35773361443904,-142.35221711770194,-101.04754500361025,-231.58412869635532,-352.38301307217046,-758.4674303315326,-523.8220622043513,-132.24347561660014,-460.64549182245105,-2109.2638279399,-279.1720940439614,-172.15458403949583,-405.84718531073753,-98.04210751138673,-28.508562433839035,-295.23200953171147,-374.02104546963926,-214.68424795376515,-315.07031906344537,-78.59445697549829,-357.9355154732134,-35.24242941592118,-29.821167181367358,-295.00666922558526,-209.22322921303441,-197.06639194559733,-305.7716476783599,-288.0067164348842,-47.10520495439333,-133.21889185262216,-945.1244035318255,-152.49762741671924,-29.38957481011193,-51.42057123368912,-468.1786761073969,-52.644069761544024,-207.89558368649762,-84.97758559810333,-41.696320809475075,-97.50940147579514,-32.65202452215808,-215.54057070984533,-70.30159821532507,-171.55125443398182,-44.270175004172195,-194.5377146396939,-32.51260969228344,-147.00028254692793,-178.35338313254286,-71.40374982584913,-362.503647752272,-79.29692727140936,-198.87489162132206,-26.634528334297915,-320.53473634569826,-84.60548545611141,-29.748467426668533,-63.012397532594925,-638.0389181940865,-67.5862281024189,-212.1904158589967,-26.748665097579757,-103.1082201204805,-56.61634527447692,-498.10526012483194,-497.8166077388641,-192.42813648870617,-167.3923452665391,-282.01529491527344,-181.49067000900428,-182.74162698573227,-357.73199630803543,-142.56418150596235,-75.11247220035754,-274.60913228921913,-314.99918112384046,-371.02178811871124,-224.78554695678147,-523.6760164777486,-169.25598963551454,-41.60796090458501,-342.0753814655269,-351.5297013226407,-262.46933586882733,-91.98133848997814,-59.955836047007566,-365.842319996809,-23.417085453607847,-274.30569544564537,-133.8502164898979,-300.5674344707292,-444.97106355446004,-97.69742645457764,-181.07364455580156,-46.30428415374931,-24.91757953924381,-379.91960188801244,-244.1382968084557,-471.8371766932796,-164.65647983711094,-177.3373517999853,-60.15384575830638,-502.28596442997724,-67.08107002124845,-30.978629859103016,-110.47222681243233,-144.9365983157717,-454.47617259597996,-111.48883999834658,-285.2689320548243,-359.12474488291235,-70.1753127875193,-109.23445650776486,-146.23571059130978,-146.0266625098734,-179.22105066783286,-50.967626911302155,-150.74945306189053,-169.90331899759906,-68.23873335779558,-99.83418257015356,-91.62379699485373,-531.7623941985264,-366.2973995907787,-491.052697732876,-238.59073973614016,-114.6539791501681,-187.7890046694508,-105.03711794455818,-130.86550094121552,-296.50738706975847,-467.9304296859916,-88.77812772413532,-2197.4241219877676,-22.83485322283776,-133.09269962162884,-157.81040811776919,-129.20396820920163,-336.2923914703718,-102.15616382572223,-56.332641325687774,-339.45039823709266,-131.85401153804602,-532.0642726255979,-69.03874548802332,-25.849175587497335,-193.52706615755181,-435.56547305309385,-103.12833129897871,-788.3356180720723,-43.81885065808451,-594.9581190547973,-62.637786273406654,-182.59752178059168,-392.1661404529426,-330.4935941674789,-205.55913747344127,-110.25594623329678,-402.221153731182,-820.6814581263327,-93.55003935460138,-27.891264835405803,-223.9056615945521,-102.74757586644263,-372.656535378231,-148.52553101826587,-138.5882024314899,-29.336885277575817,-565.3397260080196,-220.02865567924312,-316.45411861328154,-215.19548835408358,-252.82433985980123,-166.00019478063604,-122.11806695136666,-82.98645601066526,-89.77387330297557,-113.8287115041396,-60.61014431629698,-265.9656197060769,-593.9128260237692,-92.0548082240396,-69.63177570372993,-150.8632306226921,-183.7829905247505,-444.9258954506319,-394.154505643616,-110.81814485509724,-85.1517194942495,-82.80812576513956,-131.7781558389386,-29.89708060937854,-247.5637372978289,-246.31856832335825,-229.8307909971897,-150.83318738070096,-79.18800834941472,-264.1503484041028,-188.77293304489515,-25.012998501034076,-274.48531264056345,-320.5168269666244,-108.196434072404,-245.19378527492344,-46.43972233732033,-94.83078970240129,-38.8776947055648,-309.7161840797827,-148.086836772217,-92.42198232182034,-219.91968278177055,-62.02574676424037,-32.2127195302305,-133.25328959792176,-144.22810514852117,-1362.6015222852193,-853.1159807902459,-543.0373623449738,-26.367735862274476,-99.43153869234041,-360.2355880653656,-78.60680810731131,-184.3196187770047],\"y\":[0,1,2,3,4,5,6,7,8,9,10,11,12,13,14,15,16,17,18,19,20,21,22,23,24,25,26,27,28,29,30,31,32,33,34,35,36,37,38,39,40,41,42,43,44,45,46,47,48,49,50,51,52,53,54,55,56,57,58,59,60,61,62,63,64,65,66,67,68,69,70,71,72,73,74,75,76,77,78,79,80,81,82,83,84,85,86,87,88,89,90,91,92,93,94,95,96,97,98,99,100,101,102,103,104,105,106,107,108,109,110,111,112,113,114,115,116,117,118,119,120,121,122,123,124,125,126,127,128,129,130,131,132,133,134,135,136,137,138,139,140,141,142,143,144,145,146,147,148,149,150,151,152,153,154,155,156,157,158,159,160,161,162,163,164,165,166,167,168,169,170,171,172,173,174,175,176,177,178,179,180,181,182,183,184,185,186,187,188,189,190,191,192,193,194,195,196,197,198,199,200,201,202,203,204,205,206,207,208,209,210,211,212,213,214,215,216,217,218,219,220,221,222,223,224,225,226,227,228,229,230,231,232,233,234,235,236,237,238,239,240,241,242,243,244,245,246,247,248,249,250,251,252,253,254,255,256,257,258,259,260,261,262,263,264,265,266,267,268,269,270,271,272,273,274,275,276,277,278,279,280,281,282,283,284,285,286,287,288,289,290,291,292,293,294,295,296,297,298,299,300,301,302,303,304,305,306,307,308,309,310,311,312,313,314,315,316,317,318,319,320,321,322,323,324,325,326,327,328,329,330,331,332,333,334,335,336,337,338,339,340,341,342,343],\"type\":\"bar\",\"xaxis\":\"x3\",\"yaxis\":\"y3\"},{\"marker\":{\"color\":\"#6745ED\"},\"name\":\"\\u041c\\u0430\\u0440\\u043a\\u043e\\u0432\\u0441\\u043a\\u0430\\u044f \\u043c\\u043e\\u0434\\u0435\\u043b\\u044c 3-\\u0433\\u043e \\u043f\\u043e\\u0440\\u044f\\u0434\\u043a\\u0430\",\"x\":[-66.62984258476665,-88.1684285960955,-26.181739117159697,-79.78159490796176,-264.0259779260132,-250.63491861717822,-60.62299162251642,-125.20821188431239,-239.99518647266794,-665.7592847380465,-752.3572572715387,-56.185178922226406,-103.17249353824982,-204.00608632116376,-127.56070384780374,-148.32139097746168,-145.12328773870826,-3362.143416642101,-398.461610952147,-60.29466503065249,-305.4297113479803,-64.27192518452344,-725.4600731610476,-1256.3474982523737,-121.01209828941316,-142.29916630523113,-31.932434911013704,-147.8679923774012,-131.19613911198533,-366.3399787634907,-86.30926361907554,-35.67300793455272,-383.4186791294989,-29.775636265470084,-142.903831015615,-29.900765134119027,-22.486849722764735,-228.0237170981361,-141.91613583963937,-599.1019427388162,-270.2243593333376,-137.48698287986068,-210.34478297199917,-170.73107807984718,-256.45373138583335,-139.75515001630524,-151.41466037114682,-408.71478336390487,-300.8438565105883,-1181.2741205196485,-106.2723865536415,-170.14420231831508,-249.87265824188427,-247.1305558809404,-150.6264646450163,-367.5020408312372,-50.06387339111457,-492.0578345597465,-239.07413239174383,-51.39649626005024,-652.8666443330405,-341.93449284803177,-548.755373432714,-266.1051481120378,-112.05489773529601,-78.03562822137908,-50.76607685014897,-387.04995442555344,-185.08339425310098,-146.64901070608937,-19.521897051944546,-275.3165854912832,-153.9659710564865,-286.2059707632384,-196.03402223969542,-280.6764319522002,-547.3791172352577,-474.93442857220714,-618.6933211632163,-80.97805421171289,-163.96429628024467,-79.82116430307738,-298.5057967484572,-234.1978265856093,-33.55002637818727,-244.71861818628562,-339.17734427829527,-336.51754850308856,-181.67952864616063,-275.66330627582187,-622.607962528868,-61.422068833907765,-136.50571236782594,-470.05131783706753,-4252.904446584045,-747.388069941009,-418.00396752464195,-156.44195682862625,-164.1693271657571,-291.12282450711416,-59.54340140268985,-303.6869150956013,-615.0532454862866,-91.35289230487031,-1123.0022051927124,-107.36470132431916,-145.3074987596065,-284.32977072609316,-334.3027612736922,-51.531482337665174,-321.01907887721836,-172.53963540404496,-268.7377156804081,-43.0695882786726,-125.13923268209608,-433.7122187747904,-153.7700238182052,-123.69903469433987,-225.9983769682547,-125.7755201318778,-247.15444647603417,-151.58643685415484,-142.06034687836387,-99.20081613421978,-228.40198249619408,-350.14913027482993,-754.5352758351896,-523.9480834470439,-129.7852788631207,-457.8501377029462,-2103.9127329728476,-280.16931553259667,-169.46085980903337,-406.888060605446,-97.0372275787245,-27.745184954696395,-291.9601003864685,-373.3643866210001,-214.77698724414398,-311.5639017334424,-76.94271768412258,-359.32136564250754,-33.19085976025555,-27.739851627300013,-295.3028037146799,-207.43645777779022,-197.42649791893146,-303.800421767137,-286.5683078463213,-45.892420715593836,-129.90754804800633,-943.5956755847714,-150.81590607087065,-27.403327285318273,-51.14230183482259,-467.08118950732995,-51.056012267417856,-204.57284921065215,-83.65975240569668,-40.725870047996025,-95.77047609671098,-31.248791983519038,-214.85899521440655,-66.94201630625454,-168.67532590549263,-42.05323266971112,-191.51069786622003,-30.8285026511061,-146.47600384216653,-175.28672066326212,-69.2971586386949,-362.34031229487886,-78.82533201027401,-197.55802672483216,-26.18717830636969,-319.82221359628767,-82.4865704094633,-29.349432060208215,-61.3886496762324,-638.0556111947097,-66.84811232520678,-212.90831494076656,-25.03330284576781,-101.78362244140668,-54.16141587927084,-494.58240785049753,-494.7323877021132,-192.48936402135152,-165.38761829967086,-277.8891327448185,-179.90075971138836,-180.1423992468401,-356.92748434164827,-140.6401534499506,-73.42383912441561,-274.35679447777443,-313.63160157317776,-367.67429013760244,-224.06187517300845,-520.7667970247281,-167.80033901771984,-39.71111249703656,-345.7539603408303,-350.89785134237644,-261.8314667241827,-90.33744321372365,-59.67300868990757,-365.2028696547527,-22.609151669855567,-273.59538210167506,-133.22723058491823,-301.30790038052567,-445.42510599453124,-97.26900521654372,-179.47014346305465,-44.833157459058164,-22.82260212339158,-377.16749481591546,-243.63868428510503,-469.7758954330677,-162.59928416905913,-174.9941621007656,-59.589372923324454,-501.53835125931505,-65.95354484327814,-29.252947907937518,-108.60773998968864,-143.24308505057,-454.0116707938802,-107.98809387873881,-282.54441903466056,-357.7090362612361,-68.62779577030457,-106.34280596617697,-144.00467258479668,-143.87455460765122,-178.7711455556545,-50.37068715219949,-148.88520304144058,-169.66070233502853,-67.33749549014419,-99.0058234423105,-91.53444145744511,-528.3770167764864,-363.5942086064199,-493.5927345812291,-237.93162631792046,-111.95954771969205,-186.77987000906887,-103.99110860547788,-129.7924521080838,-296.00140839377497,-465.1288684042138,-87.75649427843284,-2194.524669349618,-21.947340701315586,-132.93090749669344,-155.18878764037873,-127.07780205452863,-332.85902559526573,-100.18499374557285,-54.62305225658903,-334.76535477390644,-130.77035642350907,-533.5675858271381,-68.93231822321724,-24.24916993384098,-190.19942094618622,-437.0157723528928,-100.8891738087598,-787.49556808108,-42.501763528774624,-598.3449754595398,-61.330203447749994,-182.1570581426801,-392.6524461923934,-332.88105279657674,-203.74052406504086,-108.92333157737353,-400.87440029826917,-813.9200164345309,-92.58758365733276,-24.99956362287579,-221.92385036345868,-101.15052615417508,-372.96527388848085,-146.63101718363248,-137.81608422948568,-27.556637118058493,-560.9260396185005,-218.8054157198626,-317.90562140366796,-215.22954446222914,-253.57330951976022,-164.04884225883333,-120.87600930330119,-81.6525799131056,-89.23438771533395,-111.87282544794012,-59.15742469376095,-264.99970115753285,-592.0368419712637,-90.71440972790705,-69.69285851818452,-151.01630807643588,-181.12884076786528,-443.3569870914824,-394.5221560025915,-110.41147500560531,-85.10110893710866,-80.60223427249433,-130.24090473770997,-28.135209327384445,-244.75870561952857,-244.6251588284622,-229.000150795291,-150.74087257574647,-79.16387112538408,-264.51649075631025,-189.07184975066045,-24.426717858830933,-274.6320291264563,-320.6410689215713,-105.3239532983656,-246.41221055451902,-45.32954968056196,-95.45191555782061,-37.63810328371227,-308.4163161504821,-147.4183751316754,-91.16880242618328,-216.28816351224086,-60.073929127811326,-30.043287187361326,-134.19357901997654,-141.97729931944366,-1361.8850463431104,-849.4544307601144,-542.9153692993162,-24.600066641489903,-98.42417934305014,-360.60888689332205,-76.82918891604676,-184.17113018494513],\"y\":[0,1,2,3,4,5,6,7,8,9,10,11,12,13,14,15,16,17,18,19,20,21,22,23,24,25,26,27,28,29,30,31,32,33,34,35,36,37,38,39,40,41,42,43,44,45,46,47,48,49,50,51,52,53,54,55,56,57,58,59,60,61,62,63,64,65,66,67,68,69,70,71,72,73,74,75,76,77,78,79,80,81,82,83,84,85,86,87,88,89,90,91,92,93,94,95,96,97,98,99,100,101,102,103,104,105,106,107,108,109,110,111,112,113,114,115,116,117,118,119,120,121,122,123,124,125,126,127,128,129,130,131,132,133,134,135,136,137,138,139,140,141,142,143,144,145,146,147,148,149,150,151,152,153,154,155,156,157,158,159,160,161,162,163,164,165,166,167,168,169,170,171,172,173,174,175,176,177,178,179,180,181,182,183,184,185,186,187,188,189,190,191,192,193,194,195,196,197,198,199,200,201,202,203,204,205,206,207,208,209,210,211,212,213,214,215,216,217,218,219,220,221,222,223,224,225,226,227,228,229,230,231,232,233,234,235,236,237,238,239,240,241,242,243,244,245,246,247,248,249,250,251,252,253,254,255,256,257,258,259,260,261,262,263,264,265,266,267,268,269,270,271,272,273,274,275,276,277,278,279,280,281,282,283,284,285,286,287,288,289,290,291,292,293,294,295,296,297,298,299,300,301,302,303,304,305,306,307,308,309,310,311,312,313,314,315,316,317,318,319,320,321,322,323,324,325,326,327,328,329,330,331,332,333,334,335,336,337,338,339,340,341,342,343],\"type\":\"bar\",\"xaxis\":\"x4\",\"yaxis\":\"y4\"}],                        {\"template\":{\"data\":{\"scatter\":[{\"type\":\"scatter\"}]}},\"xaxis\":{\"anchor\":\"y\",\"domain\":[0.0,0.45]},\"yaxis\":{\"anchor\":\"x\",\"domain\":[0.625,1.0]},\"xaxis2\":{\"anchor\":\"y2\",\"domain\":[0.55,1.0]},\"yaxis2\":{\"anchor\":\"x2\",\"domain\":[0.625,1.0]},\"xaxis3\":{\"anchor\":\"y3\",\"domain\":[0.0,0.45]},\"yaxis3\":{\"anchor\":\"x3\",\"domain\":[0.0,0.375]},\"xaxis4\":{\"anchor\":\"y4\",\"domain\":[0.55,1.0]},\"yaxis4\":{\"anchor\":\"x4\",\"domain\":[0.0,0.375]},\"annotations\":[{\"font\":{\"size\":16},\"showarrow\":false,\"text\":\"\\u0411\\u0435\\u0440\\u043d\\u0443\\u043b\\u043b\\u0438\",\"x\":0.225,\"xanchor\":\"center\",\"xref\":\"paper\",\"y\":1.0,\"yanchor\":\"bottom\",\"yref\":\"paper\"},{\"font\":{\"size\":16},\"showarrow\":false,\"text\":\"\\u041c\\u0430\\u0440\\u043a\\u043e\\u0432\\u0441\\u043a\\u0430\\u044f \\u043c\\u043e\\u0434\\u0435\\u043b\\u044c 1-\\u0433\\u043e \\u043f\\u043e\\u0440\\u044f\\u0434\\u043a\\u0430\",\"x\":0.775,\"xanchor\":\"center\",\"xref\":\"paper\",\"y\":1.0,\"yanchor\":\"bottom\",\"yref\":\"paper\"},{\"font\":{\"size\":16},\"showarrow\":false,\"text\":\"\\u041c\\u0430\\u0440\\u043a\\u043e\\u0432\\u0441\\u043a\\u0430\\u044f \\u043c\\u043e\\u0434\\u0435\\u043b\\u044c 2-\\u0433\\u043e \\u043f\\u043e\\u0440\\u044f\\u0434\\u043a\\u0430\",\"x\":0.225,\"xanchor\":\"center\",\"xref\":\"paper\",\"y\":0.375,\"yanchor\":\"bottom\",\"yref\":\"paper\"},{\"font\":{\"size\":16},\"showarrow\":false,\"text\":\"\\u041c\\u0430\\u0440\\u043a\\u043e\\u0432\\u0441\\u043a\\u0430\\u044f \\u043c\\u043e\\u0434\\u0435\\u043b\\u044c 3-\\u0433\\u043e \\u043f\\u043e\\u0440\\u044f\\u0434\\u043a\\u0430\",\"x\":0.775,\"xanchor\":\"center\",\"xref\":\"paper\",\"y\":0.375,\"yanchor\":\"bottom\",\"yref\":\"paper\"}],\"margin\":{\"l\":65,\"r\":50,\"b\":65,\"t\":90},\"title\":{\"text\":\"\\u0420\\u0430\\u0441\\u043f\\u0440\\u0435\\u0434\\u0435\\u043b\\u0435\\u043d\\u0438\\u044f \\u041b\\u043e\\u0433\\u0430\\u0440\\u0438\\u0444\\u043c\\u0438\\u0447\\u0435\\u0441\\u043a\\u0438\\u0445 \\u0412\\u0435\\u0440\\u043e\\u044f\\u0442\\u043d\\u043e\\u0441\\u0442\\u0435\\u0439\"},\"bargap\":0.2,\"autosize\":true},                        {\"responsive\": true}                    ).then(function(){\n",
              "                            \n",
              "var gd = document.getElementById('9b492fc5-096c-46aa-8319-0b25bbc4ce5d');\n",
              "var x = new MutationObserver(function (mutations, observer) {{\n",
              "        var display = window.getComputedStyle(gd).display;\n",
              "        if (!display || display === 'none') {{\n",
              "            console.log([gd, 'removed!']);\n",
              "            Plotly.purge(gd);\n",
              "            observer.disconnect();\n",
              "        }}\n",
              "}});\n",
              "\n",
              "// Listen for the removal of the full notebook cells\n",
              "var notebookContainer = gd.closest('#notebook-container');\n",
              "if (notebookContainer) {{\n",
              "    x.observe(notebookContainer, {childList: true});\n",
              "}}\n",
              "\n",
              "// Listen for the clearing of the current output cell\n",
              "var outputEl = gd.closest('.output');\n",
              "if (outputEl) {{\n",
              "    x.observe(outputEl, {childList: true});\n",
              "}}\n",
              "\n",
              "                        })                };                            </script>        </div>\n",
              "</body>\n",
              "</html>"
            ]
          },
          "metadata": {}
        }
      ]
    }
  ]
}