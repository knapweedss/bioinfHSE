{
  "nbformat": 4,
  "nbformat_minor": 0,
  "metadata": {
    "colab": {
      "provenance": []
    },
    "kernelspec": {
      "name": "python3",
      "display_name": "Python 3"
    },
    "language_info": {
      "name": "python"
    }
  },
  "cells": [
    {
      "cell_type": "markdown",
      "source": [
        "# Данные"
      ],
      "metadata": {
        "id": "0jZoE8gCO9eu"
      }
    },
    {
      "cell_type": "markdown",
      "source": [
        "## Скачиваем данные one-to-all и all-to-all"
      ],
      "metadata": {
        "id": "DhOsPryeO_rt"
      }
    },
    {
      "cell_type": "code",
      "execution_count": 1,
      "metadata": {
        "colab": {
          "base_uri": "https://localhost:8080/"
        },
        "id": "1OHlcqkqAhbj",
        "outputId": "eeb2d3a2-06d3-4e74-f267-5aea0c53ee8c"
      },
      "outputs": [
        {
          "output_type": "stream",
          "name": "stdout",
          "text": [
            "--2024-12-15 12:20:52--  http://bioinf.fbb.msu.ru/rna_chrom/download/RNA-chromatin-interactions-data/All-to-all-data/experiment_all_to_all_id_6_method_GRID_organism_Mus_musculus_tissue_mES.tar.gz\n",
            "Resolving bioinf.fbb.msu.ru (bioinf.fbb.msu.ru)... 93.180.63.229\n",
            "Connecting to bioinf.fbb.msu.ru (bioinf.fbb.msu.ru)|93.180.63.229|:80... connected.\n",
            "HTTP request sent, awaiting response... 200 OK\n",
            "Length: 1749304893 (1.6G) [application/x-gzip]\n",
            "Saving to: ‘experiment_all_to_all_id_6_method_GRID_organism_Mus_musculus_tissue_mES.tar.gz’\n",
            "\n",
            "experiment_all_to_a 100%[===================>]   1.63G  24.7MB/s    in 69s     \n",
            "\n",
            "2024-12-15 12:22:03 (24.0 MB/s) - ‘experiment_all_to_all_id_6_method_GRID_organism_Mus_musculus_tissue_mES.tar.gz’ saved [1749304893/1749304893]\n",
            "\n",
            "--2024-12-15 12:22:03--  http://bioinf.fbb.msu.ru/rna_chrom/download/RNA-chromatin-interactions-data/One-to-all-data/experiment_one_to_all_id_36_method_ChIRP_organism_Mus_musculus_tissue_E14_ES_rna_Malat1.tar.gz\n",
            "Resolving bioinf.fbb.msu.ru (bioinf.fbb.msu.ru)... 93.180.63.229\n",
            "Connecting to bioinf.fbb.msu.ru (bioinf.fbb.msu.ru)|93.180.63.229|:80... connected.\n",
            "HTTP request sent, awaiting response... 200 OK\n",
            "Length: 379354662 (362M) [application/x-gzip]\n",
            "Saving to: ‘experiment_one_to_all_id_36_method_ChIRP_organism_Mus_musculus_tissue_E14_ES_rna_Malat1.tar.gz’\n",
            "\n",
            "experiment_one_to_a 100%[===================>] 361.78M  23.2MB/s    in 16s     \n",
            "\n",
            "2024-12-15 12:22:21 (23.0 MB/s) - ‘experiment_one_to_all_id_36_method_ChIRP_organism_Mus_musculus_tissue_E14_ES_rna_Malat1.tar.gz’ saved [379354662/379354662]\n",
            "\n",
            "--2024-12-15 12:22:21--  http://bioinf.fbb.msu.ru/rna_chrom/download/RNA-chromatin-interactions-data/One-to-all-data/experiment_one_to_all_id_94_method_RAP_organism_Mus_musculus_tissue_V6_5_ES_rna_Malat1.tar.gz\n",
            "Resolving bioinf.fbb.msu.ru (bioinf.fbb.msu.ru)... 93.180.63.229\n",
            "Connecting to bioinf.fbb.msu.ru (bioinf.fbb.msu.ru)|93.180.63.229|:80... connected.\n",
            "HTTP request sent, awaiting response... 200 OK\n",
            "Length: 1467447152 (1.4G) [application/x-gzip]\n",
            "Saving to: ‘experiment_one_to_all_id_94_method_RAP_organism_Mus_musculus_tissue_V6_5_ES_rna_Malat1.tar.gz’\n",
            "\n",
            "experiment_one_to_a 100%[===================>]   1.37G  25.6MB/s    in 61s     \n",
            "\n",
            "2024-12-15 12:23:22 (22.8 MB/s) - ‘experiment_one_to_all_id_94_method_RAP_organism_Mus_musculus_tissue_V6_5_ES_rna_Malat1.tar.gz’ saved [1467447152/1467447152]\n",
            "\n"
          ]
        }
      ],
      "source": [
        "# All-to-all (Exp.ID)\tOne-to-all (Exp.ID)\tRNA\tOrganism\tCell line\n",
        "# 6\t/ 36, 94/ Malat1\tMus musculus / embryonic stem cell\n",
        "\n",
        "!wget http://bioinf.fbb.msu.ru/rna_chrom/download/RNA-chromatin-interactions-data/All-to-all-data/experiment_all_to_all_id_6_method_GRID_organism_Mus_musculus_tissue_mES.tar.gz\n",
        "!wget http://bioinf.fbb.msu.ru/rna_chrom/download/RNA-chromatin-interactions-data/One-to-all-data/experiment_one_to_all_id_36_method_ChIRP_organism_Mus_musculus_tissue_E14_ES_rna_Malat1.tar.gz\n",
        "!wget http://bioinf.fbb.msu.ru/rna_chrom/download/RNA-chromatin-interactions-data/One-to-all-data/experiment_one_to_all_id_94_method_RAP_organism_Mus_musculus_tissue_V6_5_ES_rna_Malat1.tar.gz"
      ]
    },
    {
      "cell_type": "code",
      "source": [
        "! ls"
      ],
      "metadata": {
        "colab": {
          "base_uri": "https://localhost:8080/"
        },
        "id": "z_TCJClZImep",
        "outputId": "0bb12d9a-89a9-4eed-e59e-1c1f0f3c00be"
      },
      "execution_count": 2,
      "outputs": [
        {
          "output_type": "stream",
          "name": "stdout",
          "text": [
            "experiment_all_to_all_id_6_method_GRID_organism_Mus_musculus_tissue_mES.tar.gz\n",
            "experiment_one_to_all_id_36_method_ChIRP_organism_Mus_musculus_tissue_E14_ES_rna_Malat1.tar.gz\n",
            "experiment_one_to_all_id_94_method_RAP_organism_Mus_musculus_tissue_V6_5_ES_rna_Malat1.tar.gz\n",
            "sample_data\n"
          ]
        }
      ]
    },
    {
      "cell_type": "code",
      "source": [
        "! mkdir all_to_all_id_6\n",
        "! mkdir one_to_all_id_36\n",
        "! mkdir one_to_all_id_94"
      ],
      "metadata": {
        "id": "wgD4h019LBoH"
      },
      "execution_count": 3,
      "outputs": []
    },
    {
      "cell_type": "code",
      "source": [
        "!tar -xzvf experiment_all_to_all_id_6_method_GRID_organism_Mus_musculus_tissue_mES.tar.gz -C all_to_all_id_6\n",
        "!tar -xzvf experiment_one_to_all_id_36_method_ChIRP_organism_Mus_musculus_tissue_E14_ES_rna_Malat1.tar.gz -C one_to_all_id_36\n",
        "!tar -xzvf experiment_one_to_all_id_94_method_RAP_organism_Mus_musculus_tissue_V6_5_ES_rna_Malat1.tar.gz -C one_to_all_id_94"
      ],
      "metadata": {
        "colab": {
          "base_uri": "https://localhost:8080/"
        },
        "id": "LDb1nunjEWk_",
        "outputId": "7fc96e79-34a3-49b6-cd80-54183459fe32"
      },
      "execution_count": 4,
      "outputs": [
        {
          "output_type": "stream",
          "name": "stdout",
          "text": [
            "./\n",
            "./contacts/\n",
            "./contacts/ES.chr9.tab\n",
            "./contacts/ES.chr14.tab\n",
            "./contacts/ES.chr4.tab\n",
            "./contacts/ES.chr10.tab\n",
            "./contacts/ES.chrX.tab\n",
            "./contacts/ES.chr7.tab\n",
            "./contacts/ES.chr13.tab\n",
            "./contacts/ES.chr2.tab\n",
            "./contacts/ES.chr16.tab\n",
            "./contacts/ES.chr1.tab\n",
            "./contacts/ES.chr17.tab\n",
            "./contacts/ES.chr6.tab\n",
            "./contacts/ES.chr12.tab\n",
            "./contacts/ES.chr8.tab\n",
            "./contacts/ES.chr18.tab\n",
            "./contacts/ES.chr5.tab\n",
            "./contacts/ES.chrY.tab\n",
            "./contacts/ES.chr3.tab\n",
            "./contacts/ES.chr19.tab\n",
            "./contacts/ES.chr15.tab\n",
            "./contacts/ES.chr11.tab\n",
            "./singletons/\n",
            "./singletons/ES.chr9.singletons.tab\n",
            "./singletons/ES.chr13.singletons.tab\n",
            "./singletons/ES.chr11.singletons.tab\n",
            "./singletons/ES.chr16.singletons.tab\n",
            "./singletons/ES.chr18.singletons.tab\n",
            "./singletons/ES.chr1.singletons.tab\n",
            "./singletons/ES.chr8.singletons.tab\n",
            "./singletons/ES.chr12.singletons.tab\n",
            "./singletons/ES.chrY.singletons.tab\n",
            "./singletons/ES.chr6.singletons.tab\n",
            "./singletons/ES.chr15.singletons.tab\n",
            "./singletons/ES.chrX.singletons.tab\n",
            "./singletons/ES.chr14.singletons.tab\n",
            "./singletons/ES.chr4.singletons.tab\n",
            "./singletons/ES.chr2.singletons.tab\n",
            "./singletons/ES.chr19.singletons.tab\n",
            "./singletons/ES.chr5.singletons.tab\n",
            "./singletons/ES.chr3.singletons.tab\n",
            "./singletons/ES.chr17.singletons.tab\n",
            "./singletons/ES.chr10.singletons.tab\n",
            "./singletons/ES.chr7.singletons.tab\n",
            "./\n",
            "./contacts.normalized.bed\n",
            "./GSE125766_SRR8496528/\n",
            "./GSE125766_SRR8496528/SRR8496528_1_fastqc_trimm.html\n",
            "./GSE125766_SRR8496528/SRR8496528_2_fastqc_raw.html\n",
            "./GSE125766_SRR8496528/contacts.bed\n",
            "./GSE125766_SRR8496528/SRR8496528_1_fastqc_raw.html\n",
            "./GSE125766_SRR8496528/SRR8496528_2_fastqc_trimm.html\n",
            "./peaks.narrowPeak\n",
            "./GSE125766_SRR8496527/\n",
            "./GSE125766_SRR8496527/SRR8496527_1_fastqc_trimm.html\n",
            "./GSE125766_SRR8496527/contacts.bed\n",
            "./GSE125766_SRR8496527/SRR8496527_2_fastqc_trimm.html\n",
            "./GSE125766_SRR8496527/SRR8496527_2_fastqc_raw.html\n",
            "./GSE125766_SRR8496527/SRR8496527_1_fastqc_raw.html\n",
            "./\n",
            "./contacts.normalized.bed\n",
            "./GSE55914_SRR1193454/\n",
            "./GSE55914_SRR1193454/SRR1193454_1_fastqc_trimm.html\n",
            "./GSE55914_SRR1193454/SRR1193454_2_fastqc_trimm.html\n",
            "./GSE55914_SRR1193454/contacts.bed\n",
            "./GSE55914_SRR1193454/SRR1193454_1_fastqc_raw.html\n",
            "./GSE55914_SRR1193454/SRR1193454_2_fastqc_raw.html\n",
            "./GSE55914_SRR1193455/\n",
            "./GSE55914_SRR1193455/contacts.bed\n",
            "./GSE55914_SRR1193455/SRR1193455_1_fastqc_trimm.html\n",
            "./GSE55914_SRR1193455/SRR1193455_2_fastqc_trimm.html\n",
            "./GSE55914_SRR1193455/SRR1193455_1_fastqc_raw.html\n",
            "./GSE55914_SRR1193455/SRR1193455_2_fastqc_raw.html\n",
            "./peaks.narrowPeak\n"
          ]
        }
      ]
    },
    {
      "cell_type": "markdown",
      "source": [
        "## Скачиваем разметку суперэнхансеров"
      ],
      "metadata": {
        "id": "OrPGy8qAPHJX"
      }
    },
    {
      "cell_type": "code",
      "source": [
        "!wget http://218.8.241.248:8080/SEA3/download/SEA00201.bed"
      ],
      "metadata": {
        "colab": {
          "base_uri": "https://localhost:8080/"
        },
        "id": "I8b2YjaGCqxT",
        "outputId": "4189452b-4ae9-426b-8d7c-5dba10911d91"
      },
      "execution_count": 11,
      "outputs": [
        {
          "output_type": "stream",
          "name": "stdout",
          "text": [
            "--2024-12-15 12:48:02--  http://218.8.241.248:8080/SEA3/download/SEA00201.bed\n",
            "Connecting to 218.8.241.248:8080... connected.\n",
            "HTTP request sent, awaiting response... 200 \n",
            "Length: 60247135 (57M) [application/vnd.realvnc.bed]\n",
            "Saving to: ‘SEA00201.bed’\n",
            "\n",
            "SEA00201.bed        100%[===================>]  57.46M  36.0KB/s    in 34m 40s \n",
            "\n",
            "2024-12-15 13:22:43 (28.3 KB/s) - ‘SEA00201.bed’ saved [60247135/60247135]\n",
            "\n"
          ]
        }
      ]
    },
    {
      "cell_type": "code",
      "source": [
        "!grep 'embryonic stem cells' SEA00201.bed | head -n 10"
      ],
      "metadata": {
        "colab": {
          "base_uri": "https://localhost:8080/"
        },
        "id": "gFVHNjpkcvjd",
        "outputId": "569048d5-d3a7-4100-e356-003be19464b0"
      },
      "execution_count": 12,
      "outputs": [
        {
          "output_type": "stream",
          "name": "stdout",
          "text": [
            "459109\tchr1\t13068700\t13110325\tmm9-10_ES-Bruce4_1_chr1_13068700*\t41625\tmouse embryonic stem cells\t0.157\t0.028\tPMID: 25801169;PMID: 25303531\t1\t1\t1\t3\tLuciferase Reporter，CRISPR/Cas9；ChIA-PET，CRISPR/Cas9\tPrdm14\tcontrol transcription\tExperimental Verification\tSE\tcoding\r\n",
            "459110\tchr1\t13068700\t13110325\tmm9-10_ES-Bruce4_2_chr1_13068700*\t41625\tmouse embryonic stem cells\t0.157\t0.028\tPMID: 25801169;PMID: 25303531\t1\t1\t1\t3\tLuciferase Reporter，CRISPR/Cas9；ChIA-PET，CRISPR/Cas9\tPrdm14\tcontrol transcription\tExperimental Verification\tSE\tcoding\r\n",
            "459111\tchr17\t35622375\t35648050\tmm9-10_ES-Bruce4_1_chr17_35622375*\t25675\tmouse embryonic stem cells\t0.175\t0.032\tPMID: 25801169;PMID: 25303531\t2\t5\t6\t7\tLuciferase Reporter，CRISPR/Cas9；ChIA-PET，CRISPR/Cas9\tPou5f1\tcontrol transcription\tExperimental Verification\tSE\tcoding\r\n",
            "459112\tchr17\t35622375\t35648050\tmm9-10_ES-Bruce4_2_chr17_35622375*\t25675\tmouse embryonic stem cells\t0.175\t0.032\tPMID: 25801169;PMID: 25303531\t2\t5\t6\t7\tLuciferase Reporter，CRISPR/Cas9；ChIA-PET，CRISPR/Cas9\tPou5f1\tcontrol transcription\tExperimental Verification\tSE\tcoding\r\n",
            "459113\tchr3\t34543700\t34558500\tmm9-10_ES-Bruce4_1_chr3_34543700*\t14800\tmouse embryonic stem cells\t0.475\t0.279\tPMID: 25486255\t2\t2\t3\t3\tCRISPR/Cas9，RT-qPCR\tSox2\tphysically interaction via DNA looping\tExperimental Verification\tSE\tcoding\r\n"
          ]
        }
      ]
    },
    {
      "cell_type": "code",
      "source": [
        "!cat SEA00201.bed | grep 'embryonic stem cells' > SEA00201_embryonic.bed"
      ],
      "metadata": {
        "id": "A_kwMhGGZL6q"
      },
      "execution_count": 13,
      "outputs": []
    },
    {
      "cell_type": "code",
      "source": [
        "!awk '{print $2\"\\t\"$3\"\\t\"$4}' SEA00201_embryonic.bed > SEA_frmt_embryonic.bed"
      ],
      "metadata": {
        "id": "4JeJ6RGafc6s"
      },
      "execution_count": 16,
      "outputs": []
    },
    {
      "cell_type": "code",
      "source": [
        "! ls one_to_all_id_36"
      ],
      "metadata": {
        "colab": {
          "base_uri": "https://localhost:8080/"
        },
        "id": "twFmqkYWSRXa",
        "outputId": "89061c5e-6b2f-4cc4-b119-0b65341c2289"
      },
      "execution_count": 14,
      "outputs": [
        {
          "output_type": "stream",
          "name": "stdout",
          "text": [
            "contacts.normalized.bed  GSE125766_SRR8496527  GSE125766_SRR8496528  peaks.narrowPeak\n"
          ]
        }
      ]
    },
    {
      "cell_type": "code",
      "source": [
        "! ls one_to_all_id_94"
      ],
      "metadata": {
        "colab": {
          "base_uri": "https://localhost:8080/"
        },
        "id": "WHsWI0_TSTTl",
        "outputId": "d988a244-99b1-4fb2-e122-af588e539478"
      },
      "execution_count": 15,
      "outputs": [
        {
          "output_type": "stream",
          "name": "stdout",
          "text": [
            "contacts.normalized.bed  GSE55914_SRR1193454  GSE55914_SRR1193455  peaks.narrowPeak\n"
          ]
        }
      ]
    },
    {
      "cell_type": "markdown",
      "source": [
        "# Пересечение геномных координат"
      ],
      "metadata": {
        "id": "shRqXATpFpF1"
      }
    },
    {
      "cell_type": "code",
      "source": [
        "!apt-get -qq install bedtools"
      ],
      "metadata": {
        "colab": {
          "base_uri": "https://localhost:8080/"
        },
        "id": "8pCS50OoTQiA",
        "outputId": "48eb2b55-86fc-4add-d794-77df8d3db9f8"
      },
      "execution_count": 10,
      "outputs": [
        {
          "output_type": "stream",
          "name": "stdout",
          "text": [
            "Selecting previously unselected package bedtools.\n",
            "(Reading database ... 123633 files and directories currently installed.)\n",
            "Preparing to unpack .../bedtools_2.30.0+dfsg-2ubuntu0.1_amd64.deb ...\n",
            "Unpacking bedtools (2.30.0+dfsg-2ubuntu0.1) ...\n",
            "Setting up bedtools (2.30.0+dfsg-2ubuntu0.1) ...\n"
          ]
        }
      ]
    },
    {
      "cell_type": "markdown",
      "source": [
        "Пересечения для one-to-all"
      ],
      "metadata": {
        "id": "G-kb1U0BfsF5"
      }
    },
    {
      "cell_type": "code",
      "source": [
        "!cp one_to_all_id_36/peaks.narrowPeak /content/peaks36.bed\n",
        "!cp one_to_all_id_94/peaks.narrowPeak /content/peaks94.bed"
      ],
      "metadata": {
        "id": "NGh9iVHBgCV-"
      },
      "execution_count": 17,
      "outputs": []
    },
    {
      "cell_type": "code",
      "source": [
        "!bedtools intersect -a SEA_frmt_embryonic.bed -b peaks36.bed > intersection36.bed\n",
        "!bedtools intersect -a SEA_frmt_embryonic.bed -b peaks94.bed > intersection94.bed"
      ],
      "metadata": {
        "id": "4DwLTG7JP6Mi"
      },
      "execution_count": 18,
      "outputs": []
    },
    {
      "cell_type": "markdown",
      "source": [
        "Пересечение all-to-all"
      ],
      "metadata": {
        "id": "hkvUqIAUg-Nc"
      }
    },
    {
      "cell_type": "code",
      "source": [
        "!grep -rhi \"Malat1\" all_to_all_id_6/contacts/ > intersection_malat.bed"
      ],
      "metadata": {
        "id": "qnbtE_yCgekD"
      },
      "execution_count": 21,
      "outputs": []
    },
    {
      "cell_type": "code",
      "source": [
        "! head -n 1 intersection_malat.bed"
      ],
      "metadata": {
        "colab": {
          "base_uri": "https://localhost:8080/"
        },
        "id": "cuKhlI9Ehqfx",
        "outputId": "c511176f-0701-4ff8-9a4d-5c22e4cb28e1"
      },
      "execution_count": 27,
      "outputs": [
        {
          "output_type": "stream",
          "name": "stdout",
          "text": [
            "chr19\t5796663\t5796683\tchr5\t144686581\t144686604\tGSM2396700\tMalat1\tlincRNA\t-\tgencode\t0.287\t0.941\n"
          ]
        }
      ]
    },
    {
      "cell_type": "code",
      "source": [
        "!cut -f4- intersection_malat.bed > intersection_malat_clear.bed"
      ],
      "metadata": {
        "id": "gHA0NUkIicCv"
      },
      "execution_count": 28,
      "outputs": []
    },
    {
      "cell_type": "code",
      "source": [
        "! head -n 1 intersection_malat_clear.bed"
      ],
      "metadata": {
        "colab": {
          "base_uri": "https://localhost:8080/"
        },
        "id": "I-tM2nwUim9V",
        "outputId": "89b6c1c9-a953-48d5-ae12-30adb5f9a97b"
      },
      "execution_count": 29,
      "outputs": [
        {
          "output_type": "stream",
          "name": "stdout",
          "text": [
            "chr5\t144686581\t144686604\tGSM2396700\tMalat1\tlincRNA\t-\tgencode\t0.287\t0.941\n"
          ]
        }
      ]
    },
    {
      "cell_type": "code",
      "source": [
        "!bedtools intersect -a SEA_frmt_embryonic.bed -b\\\n",
        " intersection_malat_clear.bed > all_to_all_intersection.bed"
      ],
      "metadata": {
        "id": "Wf7E5EN0ipQZ"
      },
      "execution_count": 30,
      "outputs": []
    },
    {
      "cell_type": "code",
      "source": [
        "%%bash\n",
        "wc -l peaks36.bed\n",
        "wc -l peaks94.bed\n",
        "wc -l all_to_all_intersection.bed"
      ],
      "metadata": {
        "colab": {
          "base_uri": "https://localhost:8080/"
        },
        "id": "7K8j9chNi5S9",
        "outputId": "7bdae452-1dad-4319-8c84-823ab942667a"
      },
      "execution_count": 31,
      "outputs": [
        {
          "output_type": "stream",
          "name": "stdout",
          "text": [
            "244 peaks36.bed\n",
            "15962 peaks94.bed\n",
            "82 all_to_all_intersection.bed\n"
          ]
        }
      ]
    },
    {
      "cell_type": "code",
      "source": [
        "%%bash\n",
        "echo \"peaks36.bed уникальных контактов: $(sort peaks36.bed | uniq | wc -l)\"\n",
        "echo \"peaks94.bed уникальных контактов: $(sort peaks94.bed | uniq | wc -l)\"\n",
        "echo \"all_to_all_intersection.bed уникальных контактов: $(sort all_to_all_intersection.bed | uniq | wc -l)\""
      ],
      "metadata": {
        "colab": {
          "base_uri": "https://localhost:8080/"
        },
        "id": "aNBmiIgSjFUB",
        "outputId": "f6c4c32f-0bea-4b2d-8c8e-e6d003d2ec5b"
      },
      "execution_count": 37,
      "outputs": [
        {
          "output_type": "stream",
          "name": "stdout",
          "text": [
            "peaks36.bed уникальных контактов: 244\n",
            "peaks94.bed уникальных контактов: 15962\n",
            "all_to_all_intersection.bed уникальных контактов: 37\n"
          ]
        }
      ]
    },
    {
      "cell_type": "markdown",
      "source": [
        "# Визуализация результатов"
      ],
      "metadata": {
        "id": "Lvntwu4_l98I"
      }
    },
    {
      "cell_type": "code",
      "source": [
        "import pandas as pd\n",
        "import matplotlib.pyplot as plt\n",
        "import seaborn as sns"
      ],
      "metadata": {
        "id": "SDNX523em77A"
      },
      "execution_count": 64,
      "outputs": []
    },
    {
      "cell_type": "code",
      "source": [
        "df = pd.read_csv('all_to_all_intersection.bed', sep='\\t', header=None)\n",
        "df.head()"
      ],
      "metadata": {
        "colab": {
          "base_uri": "https://localhost:8080/",
          "height": 204
        },
        "id": "LdJYuY0ImBXK",
        "outputId": "d3ebbf2e-cc51-4711-9995-5b85494bde20"
      },
      "execution_count": 51,
      "outputs": [
        {
          "output_type": "execute_result",
          "data": {
            "text/plain": [
              "      0         1         2\n",
              "0  chr1  13071714  13071736\n",
              "1  chr1  13071127  13071149\n",
              "2  chr1  13087984  13088007\n",
              "3  chr1  13084098  13084121\n",
              "4  chr1  13083431  13083454"
            ],
            "text/html": [
              "\n",
              "  <div id=\"df-84ce20a5-0a53-42f6-87de-6116f77a841b\" class=\"colab-df-container\">\n",
              "    <div>\n",
              "<style scoped>\n",
              "    .dataframe tbody tr th:only-of-type {\n",
              "        vertical-align: middle;\n",
              "    }\n",
              "\n",
              "    .dataframe tbody tr th {\n",
              "        vertical-align: top;\n",
              "    }\n",
              "\n",
              "    .dataframe thead th {\n",
              "        text-align: right;\n",
              "    }\n",
              "</style>\n",
              "<table border=\"1\" class=\"dataframe\">\n",
              "  <thead>\n",
              "    <tr style=\"text-align: right;\">\n",
              "      <th></th>\n",
              "      <th>0</th>\n",
              "      <th>1</th>\n",
              "      <th>2</th>\n",
              "    </tr>\n",
              "  </thead>\n",
              "  <tbody>\n",
              "    <tr>\n",
              "      <th>0</th>\n",
              "      <td>chr1</td>\n",
              "      <td>13071714</td>\n",
              "      <td>13071736</td>\n",
              "    </tr>\n",
              "    <tr>\n",
              "      <th>1</th>\n",
              "      <td>chr1</td>\n",
              "      <td>13071127</td>\n",
              "      <td>13071149</td>\n",
              "    </tr>\n",
              "    <tr>\n",
              "      <th>2</th>\n",
              "      <td>chr1</td>\n",
              "      <td>13087984</td>\n",
              "      <td>13088007</td>\n",
              "    </tr>\n",
              "    <tr>\n",
              "      <th>3</th>\n",
              "      <td>chr1</td>\n",
              "      <td>13084098</td>\n",
              "      <td>13084121</td>\n",
              "    </tr>\n",
              "    <tr>\n",
              "      <th>4</th>\n",
              "      <td>chr1</td>\n",
              "      <td>13083431</td>\n",
              "      <td>13083454</td>\n",
              "    </tr>\n",
              "  </tbody>\n",
              "</table>\n",
              "</div>\n",
              "    <div class=\"colab-df-buttons\">\n",
              "\n",
              "  <div class=\"colab-df-container\">\n",
              "    <button class=\"colab-df-convert\" onclick=\"convertToInteractive('df-84ce20a5-0a53-42f6-87de-6116f77a841b')\"\n",
              "            title=\"Convert this dataframe to an interactive table.\"\n",
              "            style=\"display:none;\">\n",
              "\n",
              "  <svg xmlns=\"http://www.w3.org/2000/svg\" height=\"24px\" viewBox=\"0 -960 960 960\">\n",
              "    <path d=\"M120-120v-720h720v720H120Zm60-500h600v-160H180v160Zm220 220h160v-160H400v160Zm0 220h160v-160H400v160ZM180-400h160v-160H180v160Zm440 0h160v-160H620v160ZM180-180h160v-160H180v160Zm440 0h160v-160H620v160Z\"/>\n",
              "  </svg>\n",
              "    </button>\n",
              "\n",
              "  <style>\n",
              "    .colab-df-container {\n",
              "      display:flex;\n",
              "      gap: 12px;\n",
              "    }\n",
              "\n",
              "    .colab-df-convert {\n",
              "      background-color: #E8F0FE;\n",
              "      border: none;\n",
              "      border-radius: 50%;\n",
              "      cursor: pointer;\n",
              "      display: none;\n",
              "      fill: #1967D2;\n",
              "      height: 32px;\n",
              "      padding: 0 0 0 0;\n",
              "      width: 32px;\n",
              "    }\n",
              "\n",
              "    .colab-df-convert:hover {\n",
              "      background-color: #E2EBFA;\n",
              "      box-shadow: 0px 1px 2px rgba(60, 64, 67, 0.3), 0px 1px 3px 1px rgba(60, 64, 67, 0.15);\n",
              "      fill: #174EA6;\n",
              "    }\n",
              "\n",
              "    .colab-df-buttons div {\n",
              "      margin-bottom: 4px;\n",
              "    }\n",
              "\n",
              "    [theme=dark] .colab-df-convert {\n",
              "      background-color: #3B4455;\n",
              "      fill: #D2E3FC;\n",
              "    }\n",
              "\n",
              "    [theme=dark] .colab-df-convert:hover {\n",
              "      background-color: #434B5C;\n",
              "      box-shadow: 0px 1px 3px 1px rgba(0, 0, 0, 0.15);\n",
              "      filter: drop-shadow(0px 1px 2px rgba(0, 0, 0, 0.3));\n",
              "      fill: #FFFFFF;\n",
              "    }\n",
              "  </style>\n",
              "\n",
              "    <script>\n",
              "      const buttonEl =\n",
              "        document.querySelector('#df-84ce20a5-0a53-42f6-87de-6116f77a841b button.colab-df-convert');\n",
              "      buttonEl.style.display =\n",
              "        google.colab.kernel.accessAllowed ? 'block' : 'none';\n",
              "\n",
              "      async function convertToInteractive(key) {\n",
              "        const element = document.querySelector('#df-84ce20a5-0a53-42f6-87de-6116f77a841b');\n",
              "        const dataTable =\n",
              "          await google.colab.kernel.invokeFunction('convertToInteractive',\n",
              "                                                    [key], {});\n",
              "        if (!dataTable) return;\n",
              "\n",
              "        const docLinkHtml = 'Like what you see? Visit the ' +\n",
              "          '<a target=\"_blank\" href=https://colab.research.google.com/notebooks/data_table.ipynb>data table notebook</a>'\n",
              "          + ' to learn more about interactive tables.';\n",
              "        element.innerHTML = '';\n",
              "        dataTable['output_type'] = 'display_data';\n",
              "        await google.colab.output.renderOutput(dataTable, element);\n",
              "        const docLink = document.createElement('div');\n",
              "        docLink.innerHTML = docLinkHtml;\n",
              "        element.appendChild(docLink);\n",
              "      }\n",
              "    </script>\n",
              "  </div>\n",
              "\n",
              "\n",
              "<div id=\"df-952756f5-cfdd-46fa-baab-c5f7f8eb3aa8\">\n",
              "  <button class=\"colab-df-quickchart\" onclick=\"quickchart('df-952756f5-cfdd-46fa-baab-c5f7f8eb3aa8')\"\n",
              "            title=\"Suggest charts\"\n",
              "            style=\"display:none;\">\n",
              "\n",
              "<svg xmlns=\"http://www.w3.org/2000/svg\" height=\"24px\"viewBox=\"0 0 24 24\"\n",
              "     width=\"24px\">\n",
              "    <g>\n",
              "        <path d=\"M19 3H5c-1.1 0-2 .9-2 2v14c0 1.1.9 2 2 2h14c1.1 0 2-.9 2-2V5c0-1.1-.9-2-2-2zM9 17H7v-7h2v7zm4 0h-2V7h2v10zm4 0h-2v-4h2v4z\"/>\n",
              "    </g>\n",
              "</svg>\n",
              "  </button>\n",
              "\n",
              "<style>\n",
              "  .colab-df-quickchart {\n",
              "      --bg-color: #E8F0FE;\n",
              "      --fill-color: #1967D2;\n",
              "      --hover-bg-color: #E2EBFA;\n",
              "      --hover-fill-color: #174EA6;\n",
              "      --disabled-fill-color: #AAA;\n",
              "      --disabled-bg-color: #DDD;\n",
              "  }\n",
              "\n",
              "  [theme=dark] .colab-df-quickchart {\n",
              "      --bg-color: #3B4455;\n",
              "      --fill-color: #D2E3FC;\n",
              "      --hover-bg-color: #434B5C;\n",
              "      --hover-fill-color: #FFFFFF;\n",
              "      --disabled-bg-color: #3B4455;\n",
              "      --disabled-fill-color: #666;\n",
              "  }\n",
              "\n",
              "  .colab-df-quickchart {\n",
              "    background-color: var(--bg-color);\n",
              "    border: none;\n",
              "    border-radius: 50%;\n",
              "    cursor: pointer;\n",
              "    display: none;\n",
              "    fill: var(--fill-color);\n",
              "    height: 32px;\n",
              "    padding: 0;\n",
              "    width: 32px;\n",
              "  }\n",
              "\n",
              "  .colab-df-quickchart:hover {\n",
              "    background-color: var(--hover-bg-color);\n",
              "    box-shadow: 0 1px 2px rgba(60, 64, 67, 0.3), 0 1px 3px 1px rgba(60, 64, 67, 0.15);\n",
              "    fill: var(--button-hover-fill-color);\n",
              "  }\n",
              "\n",
              "  .colab-df-quickchart-complete:disabled,\n",
              "  .colab-df-quickchart-complete:disabled:hover {\n",
              "    background-color: var(--disabled-bg-color);\n",
              "    fill: var(--disabled-fill-color);\n",
              "    box-shadow: none;\n",
              "  }\n",
              "\n",
              "  .colab-df-spinner {\n",
              "    border: 2px solid var(--fill-color);\n",
              "    border-color: transparent;\n",
              "    border-bottom-color: var(--fill-color);\n",
              "    animation:\n",
              "      spin 1s steps(1) infinite;\n",
              "  }\n",
              "\n",
              "  @keyframes spin {\n",
              "    0% {\n",
              "      border-color: transparent;\n",
              "      border-bottom-color: var(--fill-color);\n",
              "      border-left-color: var(--fill-color);\n",
              "    }\n",
              "    20% {\n",
              "      border-color: transparent;\n",
              "      border-left-color: var(--fill-color);\n",
              "      border-top-color: var(--fill-color);\n",
              "    }\n",
              "    30% {\n",
              "      border-color: transparent;\n",
              "      border-left-color: var(--fill-color);\n",
              "      border-top-color: var(--fill-color);\n",
              "      border-right-color: var(--fill-color);\n",
              "    }\n",
              "    40% {\n",
              "      border-color: transparent;\n",
              "      border-right-color: var(--fill-color);\n",
              "      border-top-color: var(--fill-color);\n",
              "    }\n",
              "    60% {\n",
              "      border-color: transparent;\n",
              "      border-right-color: var(--fill-color);\n",
              "    }\n",
              "    80% {\n",
              "      border-color: transparent;\n",
              "      border-right-color: var(--fill-color);\n",
              "      border-bottom-color: var(--fill-color);\n",
              "    }\n",
              "    90% {\n",
              "      border-color: transparent;\n",
              "      border-bottom-color: var(--fill-color);\n",
              "    }\n",
              "  }\n",
              "</style>\n",
              "\n",
              "  <script>\n",
              "    async function quickchart(key) {\n",
              "      const quickchartButtonEl =\n",
              "        document.querySelector('#' + key + ' button');\n",
              "      quickchartButtonEl.disabled = true;  // To prevent multiple clicks.\n",
              "      quickchartButtonEl.classList.add('colab-df-spinner');\n",
              "      try {\n",
              "        const charts = await google.colab.kernel.invokeFunction(\n",
              "            'suggestCharts', [key], {});\n",
              "      } catch (error) {\n",
              "        console.error('Error during call to suggestCharts:', error);\n",
              "      }\n",
              "      quickchartButtonEl.classList.remove('colab-df-spinner');\n",
              "      quickchartButtonEl.classList.add('colab-df-quickchart-complete');\n",
              "    }\n",
              "    (() => {\n",
              "      let quickchartButtonEl =\n",
              "        document.querySelector('#df-952756f5-cfdd-46fa-baab-c5f7f8eb3aa8 button');\n",
              "      quickchartButtonEl.style.display =\n",
              "        google.colab.kernel.accessAllowed ? 'block' : 'none';\n",
              "    })();\n",
              "  </script>\n",
              "</div>\n",
              "    </div>\n",
              "  </div>\n"
            ],
            "application/vnd.google.colaboratory.intrinsic+json": {
              "type": "dataframe",
              "variable_name": "df",
              "summary": "{\n  \"name\": \"df\",\n  \"rows\": 82,\n  \"fields\": [\n    {\n      \"column\": 0,\n      \"properties\": {\n        \"dtype\": \"category\",\n        \"num_unique_values\": 3,\n        \"samples\": [\n          \"chr1\",\n          \"chr17\",\n          \"chr3\"\n        ],\n        \"semantic_type\": \"\",\n        \"description\": \"\"\n      }\n    },\n    {\n      \"column\": 1,\n      \"properties\": {\n        \"dtype\": \"number\",\n        \"std\": 11313583,\n        \"min\": 13071127,\n        \"max\": 35647195,\n        \"num_unique_values\": 36,\n        \"samples\": [\n          34551432,\n          13091216,\n          35644543\n        ],\n        \"semantic_type\": \"\",\n        \"description\": \"\"\n      }\n    },\n    {\n      \"column\": 2,\n      \"properties\": {\n        \"dtype\": \"number\",\n        \"std\": 11313583,\n        \"min\": 13071149,\n        \"max\": 35647217,\n        \"num_unique_values\": 37,\n        \"samples\": [\n          13107704,\n          13091239,\n          13083454\n        ],\n        \"semantic_type\": \"\",\n        \"description\": \"\"\n      }\n    }\n  ]\n}"
            }
          },
          "metadata": {},
          "execution_count": 51
        }
      ]
    },
    {
      "cell_type": "code",
      "source": [
        "df_grouped = df.groupby([0, 1, 2]).size().reset_index(name='count')\n",
        "df_sorted = df_grouped.sort_values(by='count', ascending=False)\n",
        "df_sorted[0].value_counts().sort_values(ascending=False)"
      ],
      "metadata": {
        "colab": {
          "base_uri": "https://localhost:8080/",
          "height": 207
        },
        "id": "MH-vQoJZnW-e",
        "outputId": "87937437-89c7-45b3-a307-b1cc05dbe40f"
      },
      "execution_count": 55,
      "outputs": [
        {
          "output_type": "execute_result",
          "data": {
            "text/plain": [
              "0\n",
              "chr1     19\n",
              "chr17    17\n",
              "chr3      1\n",
              "Name: count, dtype: int64"
            ],
            "text/html": [
              "<div>\n",
              "<style scoped>\n",
              "    .dataframe tbody tr th:only-of-type {\n",
              "        vertical-align: middle;\n",
              "    }\n",
              "\n",
              "    .dataframe tbody tr th {\n",
              "        vertical-align: top;\n",
              "    }\n",
              "\n",
              "    .dataframe thead th {\n",
              "        text-align: right;\n",
              "    }\n",
              "</style>\n",
              "<table border=\"1\" class=\"dataframe\">\n",
              "  <thead>\n",
              "    <tr style=\"text-align: right;\">\n",
              "      <th></th>\n",
              "      <th>count</th>\n",
              "    </tr>\n",
              "    <tr>\n",
              "      <th>0</th>\n",
              "      <th></th>\n",
              "    </tr>\n",
              "  </thead>\n",
              "  <tbody>\n",
              "    <tr>\n",
              "      <th>chr1</th>\n",
              "      <td>19</td>\n",
              "    </tr>\n",
              "    <tr>\n",
              "      <th>chr17</th>\n",
              "      <td>17</td>\n",
              "    </tr>\n",
              "    <tr>\n",
              "      <th>chr3</th>\n",
              "      <td>1</td>\n",
              "    </tr>\n",
              "  </tbody>\n",
              "</table>\n",
              "</div><br><label><b>dtype:</b> int64</label>"
            ]
          },
          "metadata": {},
          "execution_count": 55
        }
      ]
    },
    {
      "cell_type": "code",
      "source": [
        "value_counts = df_sorted[0].value_counts().sort_values(ascending=False)\n",
        "\n",
        "plt.figure(figsize=(10, 6))\n",
        "value_counts.plot(kind='bar')\n",
        "plt.title('Количество контактов')\n",
        "plt.xlabel('Хромосома')\n",
        "plt.ylabel('Количество')\n",
        "\n",
        "plt.xticks(rotation=45)\n",
        "plt.tight_layout()\n",
        "\n",
        "plt.show()"
      ],
      "metadata": {
        "colab": {
          "base_uri": "https://localhost:8080/",
          "height": 607
        },
        "id": "PLoPhbxYoI-b",
        "outputId": "5c3304e4-880c-46f9-a8b1-5f8048fa4b49"
      },
      "execution_count": 57,
      "outputs": [
        {
          "output_type": "display_data",
          "data": {
            "text/plain": [
              "<Figure size 1000x600 with 1 Axes>"
            ],
            "image/png": "[encoded data removed]"
          },
          "metadata": {}
        }
      ]
    },
    {
      "cell_type": "markdown",
      "source": [
        "Больше всего контактов попадает на chr1"
      ],
      "metadata": {
        "id": "HiSHeyglo2Yh"
      }
    },
    {
      "cell_type": "code",
      "source": [
        "! ls"
      ],
      "metadata": {
        "colab": {
          "base_uri": "https://localhost:8080/"
        },
        "id": "si6379RdokKi",
        "outputId": "3879aa23-f3b9-49e3-94ca-f03bed534ad9"
      },
      "execution_count": 58,
      "outputs": [
        {
          "output_type": "stream",
          "name": "stdout",
          "text": [
            "all_to_all_combined.bed\n",
            "all_to_all_id_6\n",
            "all_to_all_intersection.bed\n",
            "experiment_all_to_all_id_6_method_GRID_organism_Mus_musculus_tissue_mES.tar.gz\n",
            "experiment_one_to_all_id_36_method_ChIRP_organism_Mus_musculus_tissue_E14_ES_rna_Malat1.tar.gz\n",
            "experiment_one_to_all_id_94_method_RAP_organism_Mus_musculus_tissue_V6_5_ES_rna_Malat1.tar.gz\n",
            "GSM1000139_mm9_wgEncodeLicrHistoneMefH3k27acMAdult8wksC57bl6StdPk.broadPeak\n",
            "intersection36.bed\n",
            "intersection94.bed\n",
            "intersection_counts.txt\n",
            "intersection_malat.bed\n",
            "intersection_malat_clear.bed\n",
            "one_to_all_id_36\n",
            "one_to_all_id_94\n",
            "peaks36.bed\n",
            "peaks94.bed\n",
            "sample_data\n",
            "SEA00201.bed\n",
            "SEA00201_embryonic.bed\n",
            "SEA_frmt_embryonic.bed\n"
          ]
        }
      ]
    },
    {
      "cell_type": "code",
      "source": [
        "df36 = pd.read_csv('peaks36.bed', sep='\\t', header=None)\n",
        "df36.head()"
      ],
      "metadata": {
        "colab": {
          "base_uri": "https://localhost:8080/",
          "height": 204
        },
        "id": "9f9VVRU4pdW1",
        "outputId": "296a1648-53d4-431d-b958-20b8552785c3"
      },
      "execution_count": 63,
      "outputs": [
        {
          "output_type": "execute_result",
          "data": {
            "text/plain": [
              "      0         1         2          3   4  5        6         7        8    9\n",
              "0  chr1   3042840   3043236  NA_peak_1  22  .  4.48682   6.39581  2.22972  163\n",
              "1  chr1   9943792   9944098  NA_peak_2  68  .  6.52629  11.32280  6.86597   94\n",
              "2  chr1  52952736  52953020  NA_peak_3  13  .  3.87469   5.19098  1.33895   32\n",
              "3  chr1  74176749  74177009  NA_peak_4  18  .  4.14341   5.84995  1.82010  148\n",
              "4  chr1  74855046  74855487  NA_peak_5  19  .  4.07215   5.98432  1.91812  316"
            ],
            "text/html": [
              "\n",
              "  <div id=\"df-90d26599-62bf-41c1-b063-d8b0ce5e1dcf\" class=\"colab-df-container\">\n",
              "    <div>\n",
              "<style scoped>\n",
              "    .dataframe tbody tr th:only-of-type {\n",
              "        vertical-align: middle;\n",
              "    }\n",
              "\n",
              "    .dataframe tbody tr th {\n",
              "        vertical-align: top;\n",
              "    }\n",
              "\n",
              "    .dataframe thead th {\n",
              "        text-align: right;\n",
              "    }\n",
              "</style>\n",
              "<table border=\"1\" class=\"dataframe\">\n",
              "  <thead>\n",
              "    <tr style=\"text-align: right;\">\n",
              "      <th></th>\n",
              "      <th>0</th>\n",
              "      <th>1</th>\n",
              "      <th>2</th>\n",
              "      <th>3</th>\n",
              "      <th>4</th>\n",
              "      <th>5</th>\n",
              "      <th>6</th>\n",
              "      <th>7</th>\n",
              "      <th>8</th>\n",
              "      <th>9</th>\n",
              "    </tr>\n",
              "  </thead>\n",
              "  <tbody>\n",
              "    <tr>\n",
              "      <th>0</th>\n",
              "      <td>chr1</td>\n",
              "      <td>3042840</td>\n",
              "      <td>3043236</td>\n",
              "      <td>NA_peak_1</td>\n",
              "      <td>22</td>\n",
              "      <td>.</td>\n",
              "      <td>4.48682</td>\n",
              "      <td>6.39581</td>\n",
              "      <td>2.22972</td>\n",
              "      <td>163</td>\n",
              "    </tr>\n",
              "    <tr>\n",
              "      <th>1</th>\n",
              "      <td>chr1</td>\n",
              "      <td>9943792</td>\n",
              "      <td>9944098</td>\n",
              "      <td>NA_peak_2</td>\n",
              "      <td>68</td>\n",
              "      <td>.</td>\n",
              "      <td>6.52629</td>\n",
              "      <td>11.32280</td>\n",
              "      <td>6.86597</td>\n",
              "      <td>94</td>\n",
              "    </tr>\n",
              "    <tr>\n",
              "      <th>2</th>\n",
              "      <td>chr1</td>\n",
              "      <td>52952736</td>\n",
              "      <td>52953020</td>\n",
              "      <td>NA_peak_3</td>\n",
              "      <td>13</td>\n",
              "      <td>.</td>\n",
              "      <td>3.87469</td>\n",
              "      <td>5.19098</td>\n",
              "      <td>1.33895</td>\n",
              "      <td>32</td>\n",
              "    </tr>\n",
              "    <tr>\n",
              "      <th>3</th>\n",
              "      <td>chr1</td>\n",
              "      <td>74176749</td>\n",
              "      <td>74177009</td>\n",
              "      <td>NA_peak_4</td>\n",
              "      <td>18</td>\n",
              "      <td>.</td>\n",
              "      <td>4.14341</td>\n",
              "      <td>5.84995</td>\n",
              "      <td>1.82010</td>\n",
              "      <td>148</td>\n",
              "    </tr>\n",
              "    <tr>\n",
              "      <th>4</th>\n",
              "      <td>chr1</td>\n",
              "      <td>74855046</td>\n",
              "      <td>74855487</td>\n",
              "      <td>NA_peak_5</td>\n",
              "      <td>19</td>\n",
              "      <td>.</td>\n",
              "      <td>4.07215</td>\n",
              "      <td>5.98432</td>\n",
              "      <td>1.91812</td>\n",
              "      <td>316</td>\n",
              "    </tr>\n",
              "  </tbody>\n",
              "</table>\n",
              "</div>\n",
              "    <div class=\"colab-df-buttons\">\n",
              "\n",
              "  <div class=\"colab-df-container\">\n",
              "    <button class=\"colab-df-convert\" onclick=\"convertToInteractive('df-90d26599-62bf-41c1-b063-d8b0ce5e1dcf')\"\n",
              "            title=\"Convert this dataframe to an interactive table.\"\n",
              "            style=\"display:none;\">\n",
              "\n",
              "  <svg xmlns=\"http://www.w3.org/2000/svg\" height=\"24px\" viewBox=\"0 -960 960 960\">\n",
              "    <path d=\"M120-120v-720h720v720H120Zm60-500h600v-160H180v160Zm220 220h160v-160H400v160Zm0 220h160v-160H400v160ZM180-400h160v-160H180v160Zm440 0h160v-160H620v160ZM180-180h160v-160H180v160Zm440 0h160v-160H620v160Z\"/>\n",
              "  </svg>\n",
              "    </button>\n",
              "\n",
              "  <style>\n",
              "    .colab-df-container {\n",
              "      display:flex;\n",
              "      gap: 12px;\n",
              "    }\n",
              "\n",
              "    .colab-df-convert {\n",
              "      background-color: #E8F0FE;\n",
              "      border: none;\n",
              "      border-radius: 50%;\n",
              "      cursor: pointer;\n",
              "      display: none;\n",
              "      fill: #1967D2;\n",
              "      height: 32px;\n",
              "      padding: 0 0 0 0;\n",
              "      width: 32px;\n",
              "    }\n",
              "\n",
              "    .colab-df-convert:hover {\n",
              "      background-color: #E2EBFA;\n",
              "      box-shadow: 0px 1px 2px rgba(60, 64, 67, 0.3), 0px 1px 3px 1px rgba(60, 64, 67, 0.15);\n",
              "      fill: #174EA6;\n",
              "    }\n",
              "\n",
              "    .colab-df-buttons div {\n",
              "      margin-bottom: 4px;\n",
              "    }\n",
              "\n",
              "    [theme=dark] .colab-df-convert {\n",
              "      background-color: #3B4455;\n",
              "      fill: #D2E3FC;\n",
              "    }\n",
              "\n",
              "    [theme=dark] .colab-df-convert:hover {\n",
              "      background-color: #434B5C;\n",
              "      box-shadow: 0px 1px 3px 1px rgba(0, 0, 0, 0.15);\n",
              "      filter: drop-shadow(0px 1px 2px rgba(0, 0, 0, 0.3));\n",
              "      fill: #FFFFFF;\n",
              "    }\n",
              "  </style>\n",
              "\n",
              "    <script>\n",
              "      const buttonEl =\n",
              "        document.querySelector('#df-90d26599-62bf-41c1-b063-d8b0ce5e1dcf button.colab-df-convert');\n",
              "      buttonEl.style.display =\n",
              "        google.colab.kernel.accessAllowed ? 'block' : 'none';\n",
              "\n",
              "      async function convertToInteractive(key) {\n",
              "        const element = document.querySelector('#df-90d26599-62bf-41c1-b063-d8b0ce5e1dcf');\n",
              "        const dataTable =\n",
              "          await google.colab.kernel.invokeFunction('convertToInteractive',\n",
              "                                                    [key], {});\n",
              "        if (!dataTable) return;\n",
              "\n",
              "        const docLinkHtml = 'Like what you see? Visit the ' +\n",
              "          '<a target=\"_blank\" href=https://colab.research.google.com/notebooks/data_table.ipynb>data table notebook</a>'\n",
              "          + ' to learn more about interactive tables.';\n",
              "        element.innerHTML = '';\n",
              "        dataTable['output_type'] = 'display_data';\n",
              "        await google.colab.output.renderOutput(dataTable, element);\n",
              "        const docLink = document.createElement('div');\n",
              "        docLink.innerHTML = docLinkHtml;\n",
              "        element.appendChild(docLink);\n",
              "      }\n",
              "    </script>\n",
              "  </div>\n",
              "\n",
              "\n",
              "<div id=\"df-d7984afb-87f4-4f14-b27b-09329dcc45b0\">\n",
              "  <button class=\"colab-df-quickchart\" onclick=\"quickchart('df-d7984afb-87f4-4f14-b27b-09329dcc45b0')\"\n",
              "            title=\"Suggest charts\"\n",
              "            style=\"display:none;\">\n",
              "\n",
              "<svg xmlns=\"http://www.w3.org/2000/svg\" height=\"24px\"viewBox=\"0 0 24 24\"\n",
              "     width=\"24px\">\n",
              "    <g>\n",
              "        <path d=\"M19 3H5c-1.1 0-2 .9-2 2v14c0 1.1.9 2 2 2h14c1.1 0 2-.9 2-2V5c0-1.1-.9-2-2-2zM9 17H7v-7h2v7zm4 0h-2V7h2v10zm4 0h-2v-4h2v4z\"/>\n",
              "    </g>\n",
              "</svg>\n",
              "  </button>\n",
              "\n",
              "<style>\n",
              "  .colab-df-quickchart {\n",
              "      --bg-color: #E8F0FE;\n",
              "      --fill-color: #1967D2;\n",
              "      --hover-bg-color: #E2EBFA;\n",
              "      --hover-fill-color: #174EA6;\n",
              "      --disabled-fill-color: #AAA;\n",
              "      --disabled-bg-color: #DDD;\n",
              "  }\n",
              "\n",
              "  [theme=dark] .colab-df-quickchart {\n",
              "      --bg-color: #3B4455;\n",
              "      --fill-color: #D2E3FC;\n",
              "      --hover-bg-color: #434B5C;\n",
              "      --hover-fill-color: #FFFFFF;\n",
              "      --disabled-bg-color: #3B4455;\n",
              "      --disabled-fill-color: #666;\n",
              "  }\n",
              "\n",
              "  .colab-df-quickchart {\n",
              "    background-color: var(--bg-color);\n",
              "    border: none;\n",
              "    border-radius: 50%;\n",
              "    cursor: pointer;\n",
              "    display: none;\n",
              "    fill: var(--fill-color);\n",
              "    height: 32px;\n",
              "    padding: 0;\n",
              "    width: 32px;\n",
              "  }\n",
              "\n",
              "  .colab-df-quickchart:hover {\n",
              "    background-color: var(--hover-bg-color);\n",
              "    box-shadow: 0 1px 2px rgba(60, 64, 67, 0.3), 0 1px 3px 1px rgba(60, 64, 67, 0.15);\n",
              "    fill: var(--button-hover-fill-color);\n",
              "  }\n",
              "\n",
              "  .colab-df-quickchart-complete:disabled,\n",
              "  .colab-df-quickchart-complete:disabled:hover {\n",
              "    background-color: var(--disabled-bg-color);\n",
              "    fill: var(--disabled-fill-color);\n",
              "    box-shadow: none;\n",
              "  }\n",
              "\n",
              "  .colab-df-spinner {\n",
              "    border: 2px solid var(--fill-color);\n",
              "    border-color: transparent;\n",
              "    border-bottom-color: var(--fill-color);\n",
              "    animation:\n",
              "      spin 1s steps(1) infinite;\n",
              "  }\n",
              "\n",
              "  @keyframes spin {\n",
              "    0% {\n",
              "      border-color: transparent;\n",
              "      border-bottom-color: var(--fill-color);\n",
              "      border-left-color: var(--fill-color);\n",
              "    }\n",
              "    20% {\n",
              "      border-color: transparent;\n",
              "      border-left-color: var(--fill-color);\n",
              "      border-top-color: var(--fill-color);\n",
              "    }\n",
              "    30% {\n",
              "      border-color: transparent;\n",
              "      border-left-color: var(--fill-color);\n",
              "      border-top-color: var(--fill-color);\n",
              "      border-right-color: var(--fill-color);\n",
              "    }\n",
              "    40% {\n",
              "      border-color: transparent;\n",
              "      border-right-color: var(--fill-color);\n",
              "      border-top-color: var(--fill-color);\n",
              "    }\n",
              "    60% {\n",
              "      border-color: transparent;\n",
              "      border-right-color: var(--fill-color);\n",
              "    }\n",
              "    80% {\n",
              "      border-color: transparent;\n",
              "      border-right-color: var(--fill-color);\n",
              "      border-bottom-color: var(--fill-color);\n",
              "    }\n",
              "    90% {\n",
              "      border-color: transparent;\n",
              "      border-bottom-color: var(--fill-color);\n",
              "    }\n",
              "  }\n",
              "</style>\n",
              "\n",
              "  <script>\n",
              "    async function quickchart(key) {\n",
              "      const quickchartButtonEl =\n",
              "        document.querySelector('#' + key + ' button');\n",
              "      quickchartButtonEl.disabled = true;  // To prevent multiple clicks.\n",
              "      quickchartButtonEl.classList.add('colab-df-spinner');\n",
              "      try {\n",
              "        const charts = await google.colab.kernel.invokeFunction(\n",
              "            'suggestCharts', [key], {});\n",
              "      } catch (error) {\n",
              "        console.error('Error during call to suggestCharts:', error);\n",
              "      }\n",
              "      quickchartButtonEl.classList.remove('colab-df-spinner');\n",
              "      quickchartButtonEl.classList.add('colab-df-quickchart-complete');\n",
              "    }\n",
              "    (() => {\n",
              "      let quickchartButtonEl =\n",
              "        document.querySelector('#df-d7984afb-87f4-4f14-b27b-09329dcc45b0 button');\n",
              "      quickchartButtonEl.style.display =\n",
              "        google.colab.kernel.accessAllowed ? 'block' : 'none';\n",
              "    })();\n",
              "  </script>\n",
              "</div>\n",
              "    </div>\n",
              "  </div>\n"
            ],
            "application/vnd.google.colaboratory.intrinsic+json": {
              "type": "dataframe",
              "variable_name": "df36",
              "summary": "{\n  \"name\": \"df36\",\n  \"rows\": 244,\n  \"fields\": [\n    {\n      \"column\": 0,\n      \"properties\": {\n        \"dtype\": \"category\",\n        \"num_unique_values\": 20,\n        \"samples\": [\n          \"chr1\",\n          \"chr8\",\n          \"chr6\"\n        ],\n        \"semantic_type\": \"\",\n        \"description\": \"\"\n      }\n    },\n    {\n      \"column\": 1,\n      \"properties\": {\n        \"dtype\": \"number\",\n        \"std\": 48179506,\n        \"min\": 3000571,\n        \"max\": 182282346,\n        \"num_unique_values\": 244,\n        \"samples\": [\n          20360528,\n          135585054,\n          5963795\n        ],\n        \"semantic_type\": \"\",\n        \"description\": \"\"\n      }\n    },\n    {\n      \"column\": 2,\n      \"properties\": {\n        \"dtype\": \"number\",\n        \"std\": 48179017,\n        \"min\": 3001017,\n        \"max\": 182282616,\n        \"num_unique_values\": 244,\n        \"samples\": [\n          20360792,\n          135585315,\n          5964051\n        ],\n        \"semantic_type\": \"\",\n        \"description\": \"\"\n      }\n    },\n    {\n      \"column\": 3,\n      \"properties\": {\n        \"dtype\": \"string\",\n        \"num_unique_values\": 244,\n        \"samples\": [\n          \"NA_peak_25\",\n          \"NA_peak_7\",\n          \"NA_peak_154\"\n        ],\n        \"semantic_type\": \"\",\n        \"description\": \"\"\n      }\n    },\n    {\n      \"column\": 4,\n      \"properties\": {\n        \"dtype\": \"number\",\n        \"std\": 1039,\n        \"min\": 13,\n        \"max\": 16269,\n        \"num_unique_values\": 77,\n        \"samples\": [\n          19,\n          64,\n          35\n        ],\n        \"semantic_type\": \"\",\n        \"description\": \"\"\n      }\n    },\n    {\n      \"column\": 5,\n      \"properties\": {\n        \"dtype\": \"category\",\n        \"num_unique_values\": 1,\n        \"samples\": [\n          \".\"\n        ],\n        \"semantic_type\": \"\",\n        \"description\": \"\"\n      }\n    },\n    {\n      \"column\": 6,\n      \"properties\": {\n        \"dtype\": \"number\",\n        \"std\": 14.617343738565612,\n        \"min\": 1.08837,\n        \"max\": 232.256,\n        \"num_unique_values\": 153,\n        \"samples\": [\n          4.8842\n        ],\n        \"semantic_type\": \"\",\n        \"description\": \"\"\n      }\n    },\n    {\n      \"column\": 7,\n      \"properties\": {\n        \"dtype\": \"number\",\n        \"std\": 104.24498982244572,\n        \"min\": 5.08965,\n        \"max\": 1635.03,\n        \"num_unique_values\": 153,\n        \"samples\": [\n          10.5202\n        ],\n        \"semantic_type\": \"\",\n        \"description\": \"\"\n      }\n    },\n    {\n      \"column\": 8,\n      \"properties\": {\n        \"dtype\": \"number\",\n        \"std\": 103.99223588810781,\n        \"min\": 1.30784,\n        \"max\": 1626.91,\n        \"num_unique_values\": 149,\n        \"samples\": [\n          6.10701\n        ],\n        \"semantic_type\": \"\",\n        \"description\": \"\"\n      }\n    },\n    {\n      \"column\": 9,\n      \"properties\": {\n        \"dtype\": \"number\",\n        \"std\": 1188,\n        \"min\": 0,\n        \"max\": 18090,\n        \"num_unique_values\": 185,\n        \"samples\": [\n          157\n        ],\n        \"semantic_type\": \"\",\n        \"description\": \"\"\n      }\n    }\n  ]\n}"
            }
          },
          "metadata": {},
          "execution_count": 63
        }
      ]
    },
    {
      "cell_type": "code",
      "source": [
        "chromosome_counts = df36.drop_duplicates().groupby(0).size().reset_index(name='row_count')\n",
        "chromosome_counts"
      ],
      "metadata": {
        "colab": {
          "base_uri": "https://localhost:8080/",
          "height": 669
        },
        "id": "BKQ3JkbZydlI",
        "outputId": "3af41277-94c2-413f-d7d1-67d38373e5d5"
      },
      "execution_count": 84,
      "outputs": [
        {
          "output_type": "execute_result",
          "data": {
            "text/plain": [
              "        0  row_count\n",
              "0    chr1          9\n",
              "1   chr10         14\n",
              "2   chr11         18\n",
              "3   chr12          2\n",
              "4   chr13          5\n",
              "5   chr14          7\n",
              "6   chr15          4\n",
              "7   chr16          4\n",
              "8   chr17         14\n",
              "9   chr18          1\n",
              "10  chr19        100\n",
              "11   chr2          7\n",
              "12   chr3          4\n",
              "13   chr4         11\n",
              "14   chr5          5\n",
              "15   chr6          4\n",
              "16   chr7         17\n",
              "17   chr8          6\n",
              "18   chr9         11\n",
              "19   chrX          1"
            ],
            "text/html": [
              "\n",
              "  <div id=\"df-5c5a801a-6a1b-46c1-9bfe-8db7d1d52315\" class=\"colab-df-container\">\n",
              "    <div>\n",
              "<style scoped>\n",
              "    .dataframe tbody tr th:only-of-type {\n",
              "        vertical-align: middle;\n",
              "    }\n",
              "\n",
              "    .dataframe tbody tr th {\n",
              "        vertical-align: top;\n",
              "    }\n",
              "\n",
              "    .dataframe thead th {\n",
              "        text-align: right;\n",
              "    }\n",
              "</style>\n",
              "<table border=\"1\" class=\"dataframe\">\n",
              "  <thead>\n",
              "    <tr style=\"text-align: right;\">\n",
              "      <th></th>\n",
              "      <th>0</th>\n",
              "      <th>row_count</th>\n",
              "    </tr>\n",
              "  </thead>\n",
              "  <tbody>\n",
              "    <tr>\n",
              "      <th>0</th>\n",
              "      <td>chr1</td>\n",
              "      <td>9</td>\n",
              "    </tr>\n",
              "    <tr>\n",
              "      <th>1</th>\n",
              "      <td>chr10</td>\n",
              "      <td>14</td>\n",
              "    </tr>\n",
              "    <tr>\n",
              "      <th>2</th>\n",
              "      <td>chr11</td>\n",
              "      <td>18</td>\n",
              "    </tr>\n",
              "    <tr>\n",
              "      <th>3</th>\n",
              "      <td>chr12</td>\n",
              "      <td>2</td>\n",
              "    </tr>\n",
              "    <tr>\n",
              "      <th>4</th>\n",
              "      <td>chr13</td>\n",
              "      <td>5</td>\n",
              "    </tr>\n",
              "    <tr>\n",
              "      <th>5</th>\n",
              "      <td>chr14</td>\n",
              "      <td>7</td>\n",
              "    </tr>\n",
              "    <tr>\n",
              "      <th>6</th>\n",
              "      <td>chr15</td>\n",
              "      <td>4</td>\n",
              "    </tr>\n",
              "    <tr>\n",
              "      <th>7</th>\n",
              "      <td>chr16</td>\n",
              "      <td>4</td>\n",
              "    </tr>\n",
              "    <tr>\n",
              "      <th>8</th>\n",
              "      <td>chr17</td>\n",
              "      <td>14</td>\n",
              "    </tr>\n",
              "    <tr>\n",
              "      <th>9</th>\n",
              "      <td>chr18</td>\n",
              "      <td>1</td>\n",
              "    </tr>\n",
              "    <tr>\n",
              "      <th>10</th>\n",
              "      <td>chr19</td>\n",
              "      <td>100</td>\n",
              "    </tr>\n",
              "    <tr>\n",
              "      <th>11</th>\n",
              "      <td>chr2</td>\n",
              "      <td>7</td>\n",
              "    </tr>\n",
              "    <tr>\n",
              "      <th>12</th>\n",
              "      <td>chr3</td>\n",
              "      <td>4</td>\n",
              "    </tr>\n",
              "    <tr>\n",
              "      <th>13</th>\n",
              "      <td>chr4</td>\n",
              "      <td>11</td>\n",
              "    </tr>\n",
              "    <tr>\n",
              "      <th>14</th>\n",
              "      <td>chr5</td>\n",
              "      <td>5</td>\n",
              "    </tr>\n",
              "    <tr>\n",
              "      <th>15</th>\n",
              "      <td>chr6</td>\n",
              "      <td>4</td>\n",
              "    </tr>\n",
              "    <tr>\n",
              "      <th>16</th>\n",
              "      <td>chr7</td>\n",
              "      <td>17</td>\n",
              "    </tr>\n",
              "    <tr>\n",
              "      <th>17</th>\n",
              "      <td>chr8</td>\n",
              "      <td>6</td>\n",
              "    </tr>\n",
              "    <tr>\n",
              "      <th>18</th>\n",
              "      <td>chr9</td>\n",
              "      <td>11</td>\n",
              "    </tr>\n",
              "    <tr>\n",
              "      <th>19</th>\n",
              "      <td>chrX</td>\n",
              "      <td>1</td>\n",
              "    </tr>\n",
              "  </tbody>\n",
              "</table>\n",
              "</div>\n",
              "    <div class=\"colab-df-buttons\">\n",
              "\n",
              "  <div class=\"colab-df-container\">\n",
              "    <button class=\"colab-df-convert\" onclick=\"convertToInteractive('df-5c5a801a-6a1b-46c1-9bfe-8db7d1d52315')\"\n",
              "            title=\"Convert this dataframe to an interactive table.\"\n",
              "            style=\"display:none;\">\n",
              "\n",
              "  <svg xmlns=\"http://www.w3.org/2000/svg\" height=\"24px\" viewBox=\"0 -960 960 960\">\n",
              "    <path d=\"M120-120v-720h720v720H120Zm60-500h600v-160H180v160Zm220 220h160v-160H400v160Zm0 220h160v-160H400v160ZM180-400h160v-160H180v160Zm440 0h160v-160H620v160ZM180-180h160v-160H180v160Zm440 0h160v-160H620v160Z\"/>\n",
              "  </svg>\n",
              "    </button>\n",
              "\n",
              "  <style>\n",
              "    .colab-df-container {\n",
              "      display:flex;\n",
              "      gap: 12px;\n",
              "    }\n",
              "\n",
              "    .colab-df-convert {\n",
              "      background-color: #E8F0FE;\n",
              "      border: none;\n",
              "      border-radius: 50%;\n",
              "      cursor: pointer;\n",
              "      display: none;\n",
              "      fill: #1967D2;\n",
              "      height: 32px;\n",
              "      padding: 0 0 0 0;\n",
              "      width: 32px;\n",
              "    }\n",
              "\n",
              "    .colab-df-convert:hover {\n",
              "      background-color: #E2EBFA;\n",
              "      box-shadow: 0px 1px 2px rgba(60, 64, 67, 0.3), 0px 1px 3px 1px rgba(60, 64, 67, 0.15);\n",
              "      fill: #174EA6;\n",
              "    }\n",
              "\n",
              "    .colab-df-buttons div {\n",
              "      margin-bottom: 4px;\n",
              "    }\n",
              "\n",
              "    [theme=dark] .colab-df-convert {\n",
              "      background-color: #3B4455;\n",
              "      fill: #D2E3FC;\n",
              "    }\n",
              "\n",
              "    [theme=dark] .colab-df-convert:hover {\n",
              "      background-color: #434B5C;\n",
              "      box-shadow: 0px 1px 3px 1px rgba(0, 0, 0, 0.15);\n",
              "      filter: drop-shadow(0px 1px 2px rgba(0, 0, 0, 0.3));\n",
              "      fill: #FFFFFF;\n",
              "    }\n",
              "  </style>\n",
              "\n",
              "    <script>\n",
              "      const buttonEl =\n",
              "        document.querySelector('#df-5c5a801a-6a1b-46c1-9bfe-8db7d1d52315 button.colab-df-convert');\n",
              "      buttonEl.style.display =\n",
              "        google.colab.kernel.accessAllowed ? 'block' : 'none';\n",
              "\n",
              "      async function convertToInteractive(key) {\n",
              "        const element = document.querySelector('#df-5c5a801a-6a1b-46c1-9bfe-8db7d1d52315');\n",
              "        const dataTable =\n",
              "          await google.colab.kernel.invokeFunction('convertToInteractive',\n",
              "                                                    [key], {});\n",
              "        if (!dataTable) return;\n",
              "\n",
              "        const docLinkHtml = 'Like what you see? Visit the ' +\n",
              "          '<a target=\"_blank\" href=https://colab.research.google.com/notebooks/data_table.ipynb>data table notebook</a>'\n",
              "          + ' to learn more about interactive tables.';\n",
              "        element.innerHTML = '';\n",
              "        dataTable['output_type'] = 'display_data';\n",
              "        await google.colab.output.renderOutput(dataTable, element);\n",
              "        const docLink = document.createElement('div');\n",
              "        docLink.innerHTML = docLinkHtml;\n",
              "        element.appendChild(docLink);\n",
              "      }\n",
              "    </script>\n",
              "  </div>\n",
              "\n",
              "\n",
              "<div id=\"df-a0ef679e-f500-4cd8-b29e-5e1378154047\">\n",
              "  <button class=\"colab-df-quickchart\" onclick=\"quickchart('df-a0ef679e-f500-4cd8-b29e-5e1378154047')\"\n",
              "            title=\"Suggest charts\"\n",
              "            style=\"display:none;\">\n",
              "\n",
              "<svg xmlns=\"http://www.w3.org/2000/svg\" height=\"24px\"viewBox=\"0 0 24 24\"\n",
              "     width=\"24px\">\n",
              "    <g>\n",
              "        <path d=\"M19 3H5c-1.1 0-2 .9-2 2v14c0 1.1.9 2 2 2h14c1.1 0 2-.9 2-2V5c0-1.1-.9-2-2-2zM9 17H7v-7h2v7zm4 0h-2V7h2v10zm4 0h-2v-4h2v4z\"/>\n",
              "    </g>\n",
              "</svg>\n",
              "  </button>\n",
              "\n",
              "<style>\n",
              "  .colab-df-quickchart {\n",
              "      --bg-color: #E8F0FE;\n",
              "      --fill-color: #1967D2;\n",
              "      --hover-bg-color: #E2EBFA;\n",
              "      --hover-fill-color: #174EA6;\n",
              "      --disabled-fill-color: #AAA;\n",
              "      --disabled-bg-color: #DDD;\n",
              "  }\n",
              "\n",
              "  [theme=dark] .colab-df-quickchart {\n",
              "      --bg-color: #3B4455;\n",
              "      --fill-color: #D2E3FC;\n",
              "      --hover-bg-color: #434B5C;\n",
              "      --hover-fill-color: #FFFFFF;\n",
              "      --disabled-bg-color: #3B4455;\n",
              "      --disabled-fill-color: #666;\n",
              "  }\n",
              "\n",
              "  .colab-df-quickchart {\n",
              "    background-color: var(--bg-color);\n",
              "    border: none;\n",
              "    border-radius: 50%;\n",
              "    cursor: pointer;\n",
              "    display: none;\n",
              "    fill: var(--fill-color);\n",
              "    height: 32px;\n",
              "    padding: 0;\n",
              "    width: 32px;\n",
              "  }\n",
              "\n",
              "  .colab-df-quickchart:hover {\n",
              "    background-color: var(--hover-bg-color);\n",
              "    box-shadow: 0 1px 2px rgba(60, 64, 67, 0.3), 0 1px 3px 1px rgba(60, 64, 67, 0.15);\n",
              "    fill: var(--button-hover-fill-color);\n",
              "  }\n",
              "\n",
              "  .colab-df-quickchart-complete:disabled,\n",
              "  .colab-df-quickchart-complete:disabled:hover {\n",
              "    background-color: var(--disabled-bg-color);\n",
              "    fill: var(--disabled-fill-color);\n",
              "    box-shadow: none;\n",
              "  }\n",
              "\n",
              "  .colab-df-spinner {\n",
              "    border: 2px solid var(--fill-color);\n",
              "    border-color: transparent;\n",
              "    border-bottom-color: var(--fill-color);\n",
              "    animation:\n",
              "      spin 1s steps(1) infinite;\n",
              "  }\n",
              "\n",
              "  @keyframes spin {\n",
              "    0% {\n",
              "      border-color: transparent;\n",
              "      border-bottom-color: var(--fill-color);\n",
              "      border-left-color: var(--fill-color);\n",
              "    }\n",
              "    20% {\n",
              "      border-color: transparent;\n",
              "      border-left-color: var(--fill-color);\n",
              "      border-top-color: var(--fill-color);\n",
              "    }\n",
              "    30% {\n",
              "      border-color: transparent;\n",
              "      border-left-color: var(--fill-color);\n",
              "      border-top-color: var(--fill-color);\n",
              "      border-right-color: var(--fill-color);\n",
              "    }\n",
              "    40% {\n",
              "      border-color: transparent;\n",
              "      border-right-color: var(--fill-color);\n",
              "      border-top-color: var(--fill-color);\n",
              "    }\n",
              "    60% {\n",
              "      border-color: transparent;\n",
              "      border-right-color: var(--fill-color);\n",
              "    }\n",
              "    80% {\n",
              "      border-color: transparent;\n",
              "      border-right-color: var(--fill-color);\n",
              "      border-bottom-color: var(--fill-color);\n",
              "    }\n",
              "    90% {\n",
              "      border-color: transparent;\n",
              "      border-bottom-color: var(--fill-color);\n",
              "    }\n",
              "  }\n",
              "</style>\n",
              "\n",
              "  <script>\n",
              "    async function quickchart(key) {\n",
              "      const quickchartButtonEl =\n",
              "        document.querySelector('#' + key + ' button');\n",
              "      quickchartButtonEl.disabled = true;  // To prevent multiple clicks.\n",
              "      quickchartButtonEl.classList.add('colab-df-spinner');\n",
              "      try {\n",
              "        const charts = await google.colab.kernel.invokeFunction(\n",
              "            'suggestCharts', [key], {});\n",
              "      } catch (error) {\n",
              "        console.error('Error during call to suggestCharts:', error);\n",
              "      }\n",
              "      quickchartButtonEl.classList.remove('colab-df-spinner');\n",
              "      quickchartButtonEl.classList.add('colab-df-quickchart-complete');\n",
              "    }\n",
              "    (() => {\n",
              "      let quickchartButtonEl =\n",
              "        document.querySelector('#df-a0ef679e-f500-4cd8-b29e-5e1378154047 button');\n",
              "      quickchartButtonEl.style.display =\n",
              "        google.colab.kernel.accessAllowed ? 'block' : 'none';\n",
              "    })();\n",
              "  </script>\n",
              "</div>\n",
              "    </div>\n",
              "  </div>\n"
            ],
            "application/vnd.google.colaboratory.intrinsic+json": {
              "type": "dataframe",
              "variable_name": "chromosome_counts",
              "summary": "{\n  \"name\": \"chromosome_counts\",\n  \"rows\": 20,\n  \"fields\": [\n    {\n      \"column\": 0,\n      \"properties\": {\n        \"dtype\": \"string\",\n        \"num_unique_values\": 20,\n        \"samples\": [\n          \"chr1\",\n          \"chr8\",\n          \"chr6\"\n        ],\n        \"semantic_type\": \"\",\n        \"description\": \"\"\n      }\n    },\n    {\n      \"column\": \"row_count\",\n      \"properties\": {\n        \"dtype\": \"number\",\n        \"std\": 21,\n        \"min\": 1,\n        \"max\": 100,\n        \"num_unique_values\": 12,\n        \"samples\": [\n          17,\n          11,\n          9\n        ],\n        \"semantic_type\": \"\",\n        \"description\": \"\"\n      }\n    }\n  ]\n}"
            }
          },
          "metadata": {},
          "execution_count": 84
        }
      ]
    },
    {
      "cell_type": "markdown",
      "source": [
        "Для one-to-all 36"
      ],
      "metadata": {
        "id": "pPKPZqDkrf0-"
      }
    },
    {
      "cell_type": "code",
      "source": [
        "plt.figure(figsize=(12, 6))\n",
        "sns.barplot(x=chromosome_counts.columns[0], y='row_count', data=chromosome_counts, palette='viridis')\n",
        "plt.xticks(rotation=45)\n",
        "plt.show()"
      ],
      "metadata": {
        "colab": {
          "base_uri": "https://localhost:8080/",
          "height": 671
        },
        "id": "KXbNNIN2yy2l",
        "outputId": "a64cdb62-c69f-4027-cff8-d9920c8e4212"
      },
      "execution_count": 85,
      "outputs": [
        {
          "output_type": "stream",
          "name": "stderr",
          "text": [
            "<ipython-input-85-880bded5833b>:2: FutureWarning: \n",
            "\n",
            "Passing `palette` without assigning `hue` is deprecated and will be removed in v0.14.0. Assign the `x` variable to `hue` and set `legend=False` for the same effect.\n",
            "\n",
            "  sns.barplot(x=chromosome_counts.columns[0], y='row_count', data=chromosome_counts, palette='viridis')\n"
          ]
        },
        {
          "output_type": "display_data",
          "data": {
            "text/plain": [
              "<Figure size 1200x600 with 1 Axes>"
            ],
            "image/png": "[encoded data removed]"
          },
          "metadata": {}
        }
      ]
    },
    {
      "cell_type": "code",
      "source": [
        "# Гистограмма количества контактов\n",
        "plt.figure(figsize=(10, 6))\n",
        "sns.histplot(df36[9], bins=30, kde=True)\n",
        "plt.show()"
      ],
      "metadata": {
        "colab": {
          "base_uri": "https://localhost:8080/",
          "height": 542
        },
        "id": "yRtiWKserUbG",
        "outputId": "7fccee06-5a20-4cdb-f10b-9fbc5cfb5a37"
      },
      "execution_count": 77,
      "outputs": [
        {
          "output_type": "display_data",
          "data": {
            "text/plain": [
              "<Figure size 1000x600 with 1 Axes>"
            ],
            "image/png": "[encoded data removed]"
          },
          "metadata": {}
        }
      ]
    },
    {
      "cell_type": "code",
      "source": [
        "# число контактов vs длина суперэнхансеров\n",
        "df36['length'] = df36[2] - df36[1]\n",
        "plt.figure(figsize=(10, 6))\n",
        "sns.scatterplot(x='length', y=df36[9], data=df36)\n",
        "plt.title('Число контактов vs длина суперэнхансеров, 36')\n",
        "plt.xlabel('Длина суперэнхансеров')\n",
        "plt.ylabel('Кол-во контакто')\n",
        "plt.show()"
      ],
      "metadata": {
        "colab": {
          "base_uri": "https://localhost:8080/",
          "height": 564
        },
        "id": "GGkbL-xZpuqc",
        "outputId": "0ef3dc44-63b4-47de-c1f4-f416dc5c6487"
      },
      "execution_count": 67,
      "outputs": [
        {
          "output_type": "display_data",
          "data": {
            "text/plain": [
              "<Figure size 1000x600 with 1 Axes>"
            ],
            "image/png": "[encoded data removed]"
          },
          "metadata": {}
        }
      ]
    },
    {
      "cell_type": "markdown",
      "source": [
        "Для one-to-all 94"
      ],
      "metadata": {
        "id": "0d2USvOBrmlb"
      }
    },
    {
      "cell_type": "code",
      "source": [
        "chromosome_counts = df94.drop_duplicates().groupby(0).size().reset_index(name='row_count')\n",
        "chromosome_counts"
      ],
      "metadata": {
        "colab": {
          "base_uri": "https://localhost:8080/",
          "height": 669
        },
        "id": "vE9Ek21GzgrV",
        "outputId": "029ab5b0-8890-4746-a37a-af67c859af1e"
      },
      "execution_count": 86,
      "outputs": [
        {
          "output_type": "execute_result",
          "data": {
            "text/plain": [
              "        0  row_count\n",
              "0    chr1        742\n",
              "1   chr10        842\n",
              "2   chr11       1606\n",
              "3   chr12        382\n",
              "4   chr13        316\n",
              "5   chr14        365\n",
              "6   chr15        777\n",
              "7   chr16        581\n",
              "8   chr17       1067\n",
              "9   chr18        212\n",
              "10  chr19       1174\n",
              "11   chr2       1214\n",
              "12   chr3        524\n",
              "13   chr4       1180\n",
              "14   chr5       1158\n",
              "15   chr6        500\n",
              "16   chr7       1368\n",
              "17   chr8        823\n",
              "18   chr9        770\n",
              "19   chrX        361"
            ],
            "text/html": [
              "\n",
              "  <div id=\"df-176b6930-a484-45c7-97b2-0503831ec66b\" class=\"colab-df-container\">\n",
              "    <div>\n",
              "<style scoped>\n",
              "    .dataframe tbody tr th:only-of-type {\n",
              "        vertical-align: middle;\n",
              "    }\n",
              "\n",
              "    .dataframe tbody tr th {\n",
              "        vertical-align: top;\n",
              "    }\n",
              "\n",
              "    .dataframe thead th {\n",
              "        text-align: right;\n",
              "    }\n",
              "</style>\n",
              "<table border=\"1\" class=\"dataframe\">\n",
              "  <thead>\n",
              "    <tr style=\"text-align: right;\">\n",
              "      <th></th>\n",
              "      <th>0</th>\n",
              "      <th>row_count</th>\n",
              "    </tr>\n",
              "  </thead>\n",
              "  <tbody>\n",
              "    <tr>\n",
              "      <th>0</th>\n",
              "      <td>chr1</td>\n",
              "      <td>742</td>\n",
              "    </tr>\n",
              "    <tr>\n",
              "      <th>1</th>\n",
              "      <td>chr10</td>\n",
              "      <td>842</td>\n",
              "    </tr>\n",
              "    <tr>\n",
              "      <th>2</th>\n",
              "      <td>chr11</td>\n",
              "      <td>1606</td>\n",
              "    </tr>\n",
              "    <tr>\n",
              "      <th>3</th>\n",
              "      <td>chr12</td>\n",
              "      <td>382</td>\n",
              "    </tr>\n",
              "    <tr>\n",
              "      <th>4</th>\n",
              "      <td>chr13</td>\n",
              "      <td>316</td>\n",
              "    </tr>\n",
              "    <tr>\n",
              "      <th>5</th>\n",
              "      <td>chr14</td>\n",
              "      <td>365</td>\n",
              "    </tr>\n",
              "    <tr>\n",
              "      <th>6</th>\n",
              "      <td>chr15</td>\n",
              "      <td>777</td>\n",
              "    </tr>\n",
              "    <tr>\n",
              "      <th>7</th>\n",
              "      <td>chr16</td>\n",
              "      <td>581</td>\n",
              "    </tr>\n",
              "    <tr>\n",
              "      <th>8</th>\n",
              "      <td>chr17</td>\n",
              "      <td>1067</td>\n",
              "    </tr>\n",
              "    <tr>\n",
              "      <th>9</th>\n",
              "      <td>chr18</td>\n",
              "      <td>212</td>\n",
              "    </tr>\n",
              "    <tr>\n",
              "      <th>10</th>\n",
              "      <td>chr19</td>\n",
              "      <td>1174</td>\n",
              "    </tr>\n",
              "    <tr>\n",
              "      <th>11</th>\n",
              "      <td>chr2</td>\n",
              "      <td>1214</td>\n",
              "    </tr>\n",
              "    <tr>\n",
              "      <th>12</th>\n",
              "      <td>chr3</td>\n",
              "      <td>524</td>\n",
              "    </tr>\n",
              "    <tr>\n",
              "      <th>13</th>\n",
              "      <td>chr4</td>\n",
              "      <td>1180</td>\n",
              "    </tr>\n",
              "    <tr>\n",
              "      <th>14</th>\n",
              "      <td>chr5</td>\n",
              "      <td>1158</td>\n",
              "    </tr>\n",
              "    <tr>\n",
              "      <th>15</th>\n",
              "      <td>chr6</td>\n",
              "      <td>500</td>\n",
              "    </tr>\n",
              "    <tr>\n",
              "      <th>16</th>\n",
              "      <td>chr7</td>\n",
              "      <td>1368</td>\n",
              "    </tr>\n",
              "    <tr>\n",
              "      <th>17</th>\n",
              "      <td>chr8</td>\n",
              "      <td>823</td>\n",
              "    </tr>\n",
              "    <tr>\n",
              "      <th>18</th>\n",
              "      <td>chr9</td>\n",
              "      <td>770</td>\n",
              "    </tr>\n",
              "    <tr>\n",
              "      <th>19</th>\n",
              "      <td>chrX</td>\n",
              "      <td>361</td>\n",
              "    </tr>\n",
              "  </tbody>\n",
              "</table>\n",
              "</div>\n",
              "    <div class=\"colab-df-buttons\">\n",
              "\n",
              "  <div class=\"colab-df-container\">\n",
              "    <button class=\"colab-df-convert\" onclick=\"convertToInteractive('df-176b6930-a484-45c7-97b2-0503831ec66b')\"\n",
              "            title=\"Convert this dataframe to an interactive table.\"\n",
              "            style=\"display:none;\">\n",
              "\n",
              "  <svg xmlns=\"http://www.w3.org/2000/svg\" height=\"24px\" viewBox=\"0 -960 960 960\">\n",
              "    <path d=\"M120-120v-720h720v720H120Zm60-500h600v-160H180v160Zm220 220h160v-160H400v160Zm0 220h160v-160H400v160ZM180-400h160v-160H180v160Zm440 0h160v-160H620v160ZM180-180h160v-160H180v160Zm440 0h160v-160H620v160Z\"/>\n",
              "  </svg>\n",
              "    </button>\n",
              "\n",
              "  <style>\n",
              "    .colab-df-container {\n",
              "      display:flex;\n",
              "      gap: 12px;\n",
              "    }\n",
              "\n",
              "    .colab-df-convert {\n",
              "      background-color: #E8F0FE;\n",
              "      border: none;\n",
              "      border-radius: 50%;\n",
              "      cursor: pointer;\n",
              "      display: none;\n",
              "      fill: #1967D2;\n",
              "      height: 32px;\n",
              "      padding: 0 0 0 0;\n",
              "      width: 32px;\n",
              "    }\n",
              "\n",
              "    .colab-df-convert:hover {\n",
              "      background-color: #E2EBFA;\n",
              "      box-shadow: 0px 1px 2px rgba(60, 64, 67, 0.3), 0px 1px 3px 1px rgba(60, 64, 67, 0.15);\n",
              "      fill: #174EA6;\n",
              "    }\n",
              "\n",
              "    .colab-df-buttons div {\n",
              "      margin-bottom: 4px;\n",
              "    }\n",
              "\n",
              "    [theme=dark] .colab-df-convert {\n",
              "      background-color: #3B4455;\n",
              "      fill: #D2E3FC;\n",
              "    }\n",
              "\n",
              "    [theme=dark] .colab-df-convert:hover {\n",
              "      background-color: #434B5C;\n",
              "      box-shadow: 0px 1px 3px 1px rgba(0, 0, 0, 0.15);\n",
              "      filter: drop-shadow(0px 1px 2px rgba(0, 0, 0, 0.3));\n",
              "      fill: #FFFFFF;\n",
              "    }\n",
              "  </style>\n",
              "\n",
              "    <script>\n",
              "      const buttonEl =\n",
              "        document.querySelector('#df-176b6930-a484-45c7-97b2-0503831ec66b button.colab-df-convert');\n",
              "      buttonEl.style.display =\n",
              "        google.colab.kernel.accessAllowed ? 'block' : 'none';\n",
              "\n",
              "      async function convertToInteractive(key) {\n",
              "        const element = document.querySelector('#df-176b6930-a484-45c7-97b2-0503831ec66b');\n",
              "        const dataTable =\n",
              "          await google.colab.kernel.invokeFunction('convertToInteractive',\n",
              "                                                    [key], {});\n",
              "        if (!dataTable) return;\n",
              "\n",
              "        const docLinkHtml = 'Like what you see? Visit the ' +\n",
              "          '<a target=\"_blank\" href=https://colab.research.google.com/notebooks/data_table.ipynb>data table notebook</a>'\n",
              "          + ' to learn more about interactive tables.';\n",
              "        element.innerHTML = '';\n",
              "        dataTable['output_type'] = 'display_data';\n",
              "        await google.colab.output.renderOutput(dataTable, element);\n",
              "        const docLink = document.createElement('div');\n",
              "        docLink.innerHTML = docLinkHtml;\n",
              "        element.appendChild(docLink);\n",
              "      }\n",
              "    </script>\n",
              "  </div>\n",
              "\n",
              "\n",
              "<div id=\"df-eecfe0ee-2475-41b1-b590-d906ef4bbff1\">\n",
              "  <button class=\"colab-df-quickchart\" onclick=\"quickchart('df-eecfe0ee-2475-41b1-b590-d906ef4bbff1')\"\n",
              "            title=\"Suggest charts\"\n",
              "            style=\"display:none;\">\n",
              "\n",
              "<svg xmlns=\"http://www.w3.org/2000/svg\" height=\"24px\"viewBox=\"0 0 24 24\"\n",
              "     width=\"24px\">\n",
              "    <g>\n",
              "        <path d=\"M19 3H5c-1.1 0-2 .9-2 2v14c0 1.1.9 2 2 2h14c1.1 0 2-.9 2-2V5c0-1.1-.9-2-2-2zM9 17H7v-7h2v7zm4 0h-2V7h2v10zm4 0h-2v-4h2v4z\"/>\n",
              "    </g>\n",
              "</svg>\n",
              "  </button>\n",
              "\n",
              "<style>\n",
              "  .colab-df-quickchart {\n",
              "      --bg-color: #E8F0FE;\n",
              "      --fill-color: #1967D2;\n",
              "      --hover-bg-color: #E2EBFA;\n",
              "      --hover-fill-color: #174EA6;\n",
              "      --disabled-fill-color: #AAA;\n",
              "      --disabled-bg-color: #DDD;\n",
              "  }\n",
              "\n",
              "  [theme=dark] .colab-df-quickchart {\n",
              "      --bg-color: #3B4455;\n",
              "      --fill-color: #D2E3FC;\n",
              "      --hover-bg-color: #434B5C;\n",
              "      --hover-fill-color: #FFFFFF;\n",
              "      --disabled-bg-color: #3B4455;\n",
              "      --disabled-fill-color: #666;\n",
              "  }\n",
              "\n",
              "  .colab-df-quickchart {\n",
              "    background-color: var(--bg-color);\n",
              "    border: none;\n",
              "    border-radius: 50%;\n",
              "    cursor: pointer;\n",
              "    display: none;\n",
              "    fill: var(--fill-color);\n",
              "    height: 32px;\n",
              "    padding: 0;\n",
              "    width: 32px;\n",
              "  }\n",
              "\n",
              "  .colab-df-quickchart:hover {\n",
              "    background-color: var(--hover-bg-color);\n",
              "    box-shadow: 0 1px 2px rgba(60, 64, 67, 0.3), 0 1px 3px 1px rgba(60, 64, 67, 0.15);\n",
              "    fill: var(--button-hover-fill-color);\n",
              "  }\n",
              "\n",
              "  .colab-df-quickchart-complete:disabled,\n",
              "  .colab-df-quickchart-complete:disabled:hover {\n",
              "    background-color: var(--disabled-bg-color);\n",
              "    fill: var(--disabled-fill-color);\n",
              "    box-shadow: none;\n",
              "  }\n",
              "\n",
              "  .colab-df-spinner {\n",
              "    border: 2px solid var(--fill-color);\n",
              "    border-color: transparent;\n",
              "    border-bottom-color: var(--fill-color);\n",
              "    animation:\n",
              "      spin 1s steps(1) infinite;\n",
              "  }\n",
              "\n",
              "  @keyframes spin {\n",
              "    0% {\n",
              "      border-color: transparent;\n",
              "      border-bottom-color: var(--fill-color);\n",
              "      border-left-color: var(--fill-color);\n",
              "    }\n",
              "    20% {\n",
              "      border-color: transparent;\n",
              "      border-left-color: var(--fill-color);\n",
              "      border-top-color: var(--fill-color);\n",
              "    }\n",
              "    30% {\n",
              "      border-color: transparent;\n",
              "      border-left-color: var(--fill-color);\n",
              "      border-top-color: var(--fill-color);\n",
              "      border-right-color: var(--fill-color);\n",
              "    }\n",
              "    40% {\n",
              "      border-color: transparent;\n",
              "      border-right-color: var(--fill-color);\n",
              "      border-top-color: var(--fill-color);\n",
              "    }\n",
              "    60% {\n",
              "      border-color: transparent;\n",
              "      border-right-color: var(--fill-color);\n",
              "    }\n",
              "    80% {\n",
              "      border-color: transparent;\n",
              "      border-right-color: var(--fill-color);\n",
              "      border-bottom-color: var(--fill-color);\n",
              "    }\n",
              "    90% {\n",
              "      border-color: transparent;\n",
              "      border-bottom-color: var(--fill-color);\n",
              "    }\n",
              "  }\n",
              "</style>\n",
              "\n",
              "  <script>\n",
              "    async function quickchart(key) {\n",
              "      const quickchartButtonEl =\n",
              "        document.querySelector('#' + key + ' button');\n",
              "      quickchartButtonEl.disabled = true;  // To prevent multiple clicks.\n",
              "      quickchartButtonEl.classList.add('colab-df-spinner');\n",
              "      try {\n",
              "        const charts = await google.colab.kernel.invokeFunction(\n",
              "            'suggestCharts', [key], {});\n",
              "      } catch (error) {\n",
              "        console.error('Error during call to suggestCharts:', error);\n",
              "      }\n",
              "      quickchartButtonEl.classList.remove('colab-df-spinner');\n",
              "      quickchartButtonEl.classList.add('colab-df-quickchart-complete');\n",
              "    }\n",
              "    (() => {\n",
              "      let quickchartButtonEl =\n",
              "        document.querySelector('#df-eecfe0ee-2475-41b1-b590-d906ef4bbff1 button');\n",
              "      quickchartButtonEl.style.display =\n",
              "        google.colab.kernel.accessAllowed ? 'block' : 'none';\n",
              "    })();\n",
              "  </script>\n",
              "</div>\n",
              "    </div>\n",
              "  </div>\n"
            ],
            "application/vnd.google.colaboratory.intrinsic+json": {
              "type": "dataframe",
              "variable_name": "chromosome_counts",
              "summary": "{\n  \"name\": \"chromosome_counts\",\n  \"rows\": 20,\n  \"fields\": [\n    {\n      \"column\": 0,\n      \"properties\": {\n        \"dtype\": \"string\",\n        \"num_unique_values\": 20,\n        \"samples\": [\n          \"chr1\",\n          \"chr8\",\n          \"chr6\"\n        ],\n        \"semantic_type\": \"\",\n        \"description\": \"\"\n      }\n    },\n    {\n      \"column\": \"row_count\",\n      \"properties\": {\n        \"dtype\": \"number\",\n        \"std\": 396,\n        \"min\": 212,\n        \"max\": 1606,\n        \"num_unique_values\": 20,\n        \"samples\": [\n          742,\n          823,\n          500\n        ],\n        \"semantic_type\": \"\",\n        \"description\": \"\"\n      }\n    }\n  ]\n}"
            }
          },
          "metadata": {},
          "execution_count": 86
        }
      ]
    },
    {
      "cell_type": "code",
      "source": [
        "plt.figure(figsize=(12, 6))\n",
        "sns.barplot(x=chromosome_counts.columns[0], y='row_count', data=chromosome_counts, palette='viridis')\n",
        "plt.xticks(rotation=45)\n",
        "plt.show()"
      ],
      "metadata": {
        "colab": {
          "base_uri": "https://localhost:8080/",
          "height": 671
        },
        "id": "m0nd3MlcznlK",
        "outputId": "6623410f-16b9-4a3d-ff06-7a2678e4b665"
      },
      "execution_count": 87,
      "outputs": [
        {
          "output_type": "stream",
          "name": "stderr",
          "text": [
            "<ipython-input-87-880bded5833b>:2: FutureWarning: \n",
            "\n",
            "Passing `palette` without assigning `hue` is deprecated and will be removed in v0.14.0. Assign the `x` variable to `hue` and set `legend=False` for the same effect.\n",
            "\n",
            "  sns.barplot(x=chromosome_counts.columns[0], y='row_count', data=chromosome_counts, palette='viridis')\n"
          ]
        },
        {
          "output_type": "display_data",
          "data": {
            "text/plain": [
              "<Figure size 1200x600 with 1 Axes>"
            ],
            "image/png": "[encoded data removed]"
          },
          "metadata": {}
        }
      ]
    },
    {
      "cell_type": "code",
      "source": [
        "# Гистограмма количества контактов\n",
        "plt.figure(figsize=(10, 6))\n",
        "sns.histplot(df94[9], bins=30, kde=True)\n",
        "plt.show()"
      ],
      "metadata": {
        "colab": {
          "base_uri": "https://localhost:8080/",
          "height": 542
        },
        "id": "-shsTa3MrMlH",
        "outputId": "e8506fa4-8934-4783-dba3-bac61b632386"
      },
      "execution_count": 70,
      "outputs": [
        {
          "output_type": "display_data",
          "data": {
            "text/plain": [
              "<Figure size 1000x600 with 1 Axes>"
            ],
            "image/png": "[encoded data removed]"
          },
          "metadata": {}
        }
      ]
    },
    {
      "cell_type": "code",
      "source": [
        "df94 = pd.read_csv('peaks94.bed', sep='\\t', header=None)\n",
        "df94['length'] = df94[2] - df94[1]\n",
        "plt.figure(figsize=(10, 6))\n",
        "sns.scatterplot(x='length', y=df94[9], data=df94)\n",
        "plt.title('Число контактов vs длина суперэнхансеров, 94')\n",
        "plt.xlabel('Длина суперэнхансеров')\n",
        "plt.ylabel('Кол-во контакто')\n",
        "plt.show()"
      ],
      "metadata": {
        "colab": {
          "base_uri": "https://localhost:8080/",
          "height": 564
        },
        "id": "nYBi9oLfqekn",
        "outputId": "c6feae46-e881-46b6-d253-ef9258101275"
      },
      "execution_count": 68,
      "outputs": [
        {
          "output_type": "display_data",
          "data": {
            "text/plain": [
              "<Figure size 1000x600 with 1 Axes>"
            ],
            "image/png": "[encoded data removed]"
          },
          "metadata": {}
        }
      ]
    },
    {
      "cell_type": "markdown",
      "source": [
        "# Выводы"
      ],
      "metadata": {
        "id": "EdoNhNHgwSOL"
      }
    },
    {
      "cell_type": "markdown",
      "source": [
        "Контактирует ли Malat1 с суперэнхансерами? Если да, то как / как часто? - да, контактирует"
      ],
      "metadata": {
        "id": "W1i34kEM6oAK"
      }
    },
    {
      "cell_type": "markdown",
      "source": [
        "Контакты в клетках мышиных эмбриональных стволовых клеток в основном сосредоточены на хромосомах chr1 и chr17. Контакты с хромосомой chr3 встречаются гораздо реже по сравнению с chr1 и chr17."
      ],
      "metadata": {
        "id": "q_Ry96LvwUo7"
      }
    },
    {
      "cell_type": "markdown",
      "source": [
        "Понимание, как Malat1 взаимодействует с суперэнхансерами, может раскрыть механизмы регуляции генов, особенно тех, которые играют важную роль в дифференцировке и самообновлении стволовых клеток.\n",
        "Дальше можно было бы посмотреть, как изменения в контактах влияют на экспрессию конкретных генов, и провести эксперименты по нокауту или перегрузке, чтобы оценить функциональные последствия. Также можно исследовать влияние контактов на сети регуляции генов и интерпретировать взаимодействия между транскрипционными факторами. Мне кажется, интереснее всего будет посмотреть, как контакты изменяются в процессе развития и при заболеваниях, чтобы идентифицировать потенциальные терапевтические мишени.\n",
        "\n",
        "В общем, тема мне кажется интересной и с перспективой исследования"
      ],
      "metadata": {
        "id": "SH-Eup29-VY9"
      }
    }
  ]
}